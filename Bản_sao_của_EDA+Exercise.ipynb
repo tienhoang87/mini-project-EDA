{
  "cells": [
    {
      "cell_type": "markdown",
      "metadata": {
        "id": "view-in-github",
        "colab_type": "text"
      },
      "source": [
        "<a href=\"https://colab.research.google.com/github/tienhoang87/mini-project-EDA/blob/main/B%E1%BA%A3n_sao_c%E1%BB%A7a_EDA%2BExercise.ipynb\" target=\"_parent\"><img src=\"https://colab.research.google.com/assets/colab-badge.svg\" alt=\"Open In Colab\"/></a>"
      ]
    },
    {
      "cell_type": "code",
      "execution_count": 2,
      "metadata": {
        "id": "5ZZUZxYbj7YW"
      },
      "outputs": [],
      "source": [
        "#Import the required Libraries.\n",
        "import numpy as np\n",
        "import pandas as pd\n",
        "import matplotlib.pyplot as plt\n",
        "import seaborn as sns"
      ]
    },
    {
      "cell_type": "code",
      "source": [
        "from google.colab import drive\n",
        "drive.mount('/content/drive')"
      ],
      "metadata": {
        "colab": {
          "base_uri": "https://localhost:8080/"
        },
        "id": "9YLd0zHaqVht",
        "outputId": "0e785869-6c99-4816-9919-674e8860ec36"
      },
      "execution_count": 3,
      "outputs": [
        {
          "output_type": "stream",
          "name": "stdout",
          "text": [
            "Mounted at /content/drive\n"
          ]
        }
      ]
    },
    {
      "cell_type": "markdown",
      "metadata": {
        "id": "JjjUMZ96j7YX"
      },
      "source": [
        "## Data Cleaning"
      ]
    },
    {
      "cell_type": "markdown",
      "metadata": {
        "id": "izRZgQ-dj7YZ"
      },
      "source": [
        "### Data Reading & Data Types"
      ]
    },
    {
      "cell_type": "code",
      "execution_count": 4,
      "metadata": {
        "id": "yncpTPyUj7YZ"
      },
      "outputs": [],
      "source": [
        "#Read the data in pandas\n",
        "path1=r'/content/drive/MyDrive/bản copy media mới/Bản sao của Attribute+DataSet.csv'\n",
        "df1= pd.read_csv(path1)\n",
        "path2=r'/content/drive/MyDrive/bản copy media mới/Bản sao của Dress+Sales.csv'\n",
        "sale=pd.read_csv(path2)\n",
        "#inp1= pd.read_csv(\" \")"
      ]
    },
    {
      "cell_type": "markdown",
      "metadata": {
        "id": "MFq9kui6j7Ya"
      },
      "source": [
        "You have “Attribute DataSet” which contains a column named “Price”."
      ]
    },
    {
      "cell_type": "code",
      "execution_count": 6,
      "metadata": {
        "id": "U4lJHMbFj7Yb",
        "colab": {
          "base_uri": "https://localhost:8080/"
        },
        "outputId": "75252dc4-3b6a-4968-c831-0f5bd9534301"
      },
      "outputs": [
        {
          "output_type": "stream",
          "name": "stdout",
          "text": [
            "<class 'pandas.core.frame.DataFrame'>\n",
            "RangeIndex: 479 entries, 0 to 478\n",
            "Data columns (total 13 columns):\n",
            " #   Column          Non-Null Count  Dtype  \n",
            "---  ------          --------------  -----  \n",
            " 0   Dress_ID        479 non-null    int64  \n",
            " 1   Style           479 non-null    object \n",
            " 2   Price           477 non-null    object \n",
            " 3   Rating          479 non-null    float64\n",
            " 4   Size            479 non-null    object \n",
            " 5   Season          477 non-null    object \n",
            " 6   NeckLine        476 non-null    object \n",
            " 7   SleeveLength    477 non-null    object \n",
            " 8   Material        360 non-null    object \n",
            " 9   FabricType      223 non-null    object \n",
            " 10  Decoration      255 non-null    object \n",
            " 11  Pattern Type    377 non-null    object \n",
            " 12  Recommendation  479 non-null    int64  \n",
            "dtypes: float64(1), int64(2), object(10)\n",
            "memory usage: 48.8+ KB\n"
          ]
        }
      ],
      "source": [
        "# Print the information about the attributes of inp0 and inp1.\n",
        "df1.info()"
      ]
    },
    {
      "cell_type": "code",
      "source": [
        "df1.Recommendation.unique()"
      ],
      "metadata": {
        "colab": {
          "base_uri": "https://localhost:8080/"
        },
        "id": "geU21lhn8AmX",
        "outputId": "229e3dea-b0c9-48f6-b18a-e866659c3b69"
      },
      "execution_count": 5,
      "outputs": [
        {
          "output_type": "execute_result",
          "data": {
            "text/plain": [
              "array([1, 0])"
            ]
          },
          "metadata": {},
          "execution_count": 5
        }
      ]
    },
    {
      "cell_type": "code",
      "source": [
        "sale.info()"
      ],
      "metadata": {
        "colab": {
          "base_uri": "https://localhost:8080/"
        },
        "id": "w_l3z9pwJBjF",
        "outputId": "6790470e-6bbe-4285-cbca-0a72e237d4c2"
      },
      "execution_count": 7,
      "outputs": [
        {
          "output_type": "stream",
          "name": "stdout",
          "text": [
            "<class 'pandas.core.frame.DataFrame'>\n",
            "RangeIndex: 479 entries, 0 to 478\n",
            "Data columns (total 24 columns):\n",
            " #   Column      Non-Null Count  Dtype  \n",
            "---  ------      --------------  -----  \n",
            " 0   Dress_ID    479 non-null    float64\n",
            " 1   29-08-2013  479 non-null    int64  \n",
            " 2   31-08-2013  479 non-null    int64  \n",
            " 3   09-02-2013  479 non-null    int64  \n",
            " 4   09-04-2013  479 non-null    int64  \n",
            " 5   09-06-2013  479 non-null    int64  \n",
            " 6   09-08-2013  479 non-null    int64  \n",
            " 7   09-10-2013  479 non-null    int64  \n",
            " 8   09-12-2013  479 non-null    object \n",
            " 9   14-09-2013  479 non-null    object \n",
            " 10  16-09-2013  479 non-null    object \n",
            " 11  18-09-2013  479 non-null    object \n",
            " 12  20-09-2013  479 non-null    object \n",
            " 13  22-09-2013  479 non-null    object \n",
            " 14  24-09-2013  479 non-null    int64  \n",
            " 15  26-09-2013  257 non-null    float64\n",
            " 16  28-09-2013  479 non-null    int64  \n",
            " 17  30-09-2013  222 non-null    float64\n",
            " 18  10-02-2013  220 non-null    float64\n",
            " 19  10-04-2013  221 non-null    float64\n",
            " 20  10-06-2013  479 non-null    int64  \n",
            " 21  10-08-2013  224 non-null    float64\n",
            " 22  10-10-2013  224 non-null    float64\n",
            " 23  10-12-2013  479 non-null    int64  \n",
            "dtypes: float64(7), int64(11), object(6)\n",
            "memory usage: 89.9+ KB\n"
          ]
        }
      ]
    },
    {
      "cell_type": "markdown",
      "metadata": {
        "id": "F-OuGOUDj7Yb"
      },
      "source": [
        "### Fixing the Rows and Columns"
      ]
    },
    {
      "cell_type": "markdown",
      "metadata": {
        "id": "WcHtuzY4j7Yc"
      },
      "source": [
        "As you can see, there is a column in “Attribute Dataset” named as ‘Size’. This column contains the values in abbreviation format. Write a code in Python to convert the followings:\n",
        "\n",
        "- M into  “Medium”\n",
        "- L into  “Large”\n",
        "- XL into “Extra large”\n",
        "- free into “Free”\n",
        "- S, s & small into “Small”.\n",
        "\n",
        "\n"
      ]
    },
    {
      "cell_type": "code",
      "execution_count": 8,
      "metadata": {
        "id": "thb8BqsKj7Yc",
        "colab": {
          "base_uri": "https://localhost:8080/"
        },
        "outputId": "59faced9-6fe8-4223-a903-9b13b671e12f"
      },
      "outputs": [
        {
          "output_type": "execute_result",
          "data": {
            "text/plain": [
              "array(['M', 'L', 'XL', 'free', 'S', 'small', 's'], dtype=object)"
            ]
          },
          "metadata": {},
          "execution_count": 8
        }
      ],
      "source": [
        "# Column fixing, correcting size abbreviation. count the percentage of each size category in \"Size\" column.\n",
        "df1.Size.unique()"
      ]
    },
    {
      "cell_type": "code",
      "execution_count": 9,
      "metadata": {
        "id": "CEIsw_Kgj7Yc"
      },
      "outputs": [],
      "source": [
        "# Print the value counts of each category in \"Size\" column.\n",
        "df1.loc[df1['Size'].isin(['M']),'Size']='Medium'\n",
        "df1.loc[df1['Size'].isin(['L']),'Size']='Large'\n",
        "df1.loc[df1['Size'].isin(['XL']),'Size']='Extra large'\n",
        "df1.loc[df1['Size'].isin(['free']),'Size']='Free'\n",
        "df1.loc[df1['Size'].isin(['s','S','small']),'Size']='Small'"
      ]
    },
    {
      "cell_type": "code",
      "source": [
        "df1"
      ],
      "metadata": {
        "colab": {
          "base_uri": "https://localhost:8080/",
          "height": 423
        },
        "id": "Pm-2mbvjvfWM",
        "outputId": "3d7ae3b6-288b-4306-fb87-4de0664069dd"
      },
      "execution_count": 10,
      "outputs": [
        {
          "output_type": "execute_result",
          "data": {
            "text/plain": [
              "       Dress_ID    Style    Price  Rating    Size  Season   NeckLine  \\\n",
              "0    1006032852     Sexy      Low     4.6  Medium  Summer     o-neck   \n",
              "1    1212192089   Casual      Low     0.0   Large  Summer     o-neck   \n",
              "2    1190380701  vintage     High     0.0   Large  Automn     o-neck   \n",
              "3     966005983    Brief  Average     4.6   Large  Spring     o-neck   \n",
              "4     876339541     cute      Low     4.5  Medium  Summer     o-neck   \n",
              "..          ...      ...      ...     ...     ...     ...        ...   \n",
              "474   990559192    Brief  Average     4.7  Medium  winter     o-neck   \n",
              "475   713391965   Casual      Low     4.7  Medium  Spring     o-neck   \n",
              "476   532874347   Casual  Average     4.7  Medium  Summer     v-neck   \n",
              "477   655464934   Casual  Average     4.6   Large  winter  boat-neck   \n",
              "478   919930954   Casual      Low     4.4    Free  Summer     v-neck   \n",
              "\n",
              "    SleeveLength       Material  FabricType  Decoration Pattern Type  \\\n",
              "0      sleevless            NaN     chiffon     ruffles       animal   \n",
              "1          Petal     microfiber         NaN     ruffles       animal   \n",
              "2           full       polyster         NaN         NaN        print   \n",
              "3           full           silk     chiffon  embroidary        print   \n",
              "4      butterfly  chiffonfabric     chiffon         bow          dot   \n",
              "..           ...            ...         ...         ...          ...   \n",
              "474   halfsleeve        acrylic     chiffon         NaN      striped   \n",
              "475         full       polyster         NaN         NaN        solid   \n",
              "476         full         cotton         NaN        lace        solid   \n",
              "477    sleevless           silk  broadcloth    applique        print   \n",
              "478        short         cotton    Corduroy        lace        solid   \n",
              "\n",
              "     Recommendation  \n",
              "0                 1  \n",
              "1                 0  \n",
              "2                 0  \n",
              "3                 1  \n",
              "4                 0  \n",
              "..              ...  \n",
              "474               0  \n",
              "475               1  \n",
              "476               1  \n",
              "477               1  \n",
              "478               0  \n",
              "\n",
              "[479 rows x 13 columns]"
            ],
            "text/html": [
              "\n",
              "  <div id=\"df-1e043519-5131-4692-a71d-aa2dfb499517\" class=\"colab-df-container\">\n",
              "    <div>\n",
              "<style scoped>\n",
              "    .dataframe tbody tr th:only-of-type {\n",
              "        vertical-align: middle;\n",
              "    }\n",
              "\n",
              "    .dataframe tbody tr th {\n",
              "        vertical-align: top;\n",
              "    }\n",
              "\n",
              "    .dataframe thead th {\n",
              "        text-align: right;\n",
              "    }\n",
              "</style>\n",
              "<table border=\"1\" class=\"dataframe\">\n",
              "  <thead>\n",
              "    <tr style=\"text-align: right;\">\n",
              "      <th></th>\n",
              "      <th>Dress_ID</th>\n",
              "      <th>Style</th>\n",
              "      <th>Price</th>\n",
              "      <th>Rating</th>\n",
              "      <th>Size</th>\n",
              "      <th>Season</th>\n",
              "      <th>NeckLine</th>\n",
              "      <th>SleeveLength</th>\n",
              "      <th>Material</th>\n",
              "      <th>FabricType</th>\n",
              "      <th>Decoration</th>\n",
              "      <th>Pattern Type</th>\n",
              "      <th>Recommendation</th>\n",
              "    </tr>\n",
              "  </thead>\n",
              "  <tbody>\n",
              "    <tr>\n",
              "      <th>0</th>\n",
              "      <td>1006032852</td>\n",
              "      <td>Sexy</td>\n",
              "      <td>Low</td>\n",
              "      <td>4.6</td>\n",
              "      <td>Medium</td>\n",
              "      <td>Summer</td>\n",
              "      <td>o-neck</td>\n",
              "      <td>sleevless</td>\n",
              "      <td>NaN</td>\n",
              "      <td>chiffon</td>\n",
              "      <td>ruffles</td>\n",
              "      <td>animal</td>\n",
              "      <td>1</td>\n",
              "    </tr>\n",
              "    <tr>\n",
              "      <th>1</th>\n",
              "      <td>1212192089</td>\n",
              "      <td>Casual</td>\n",
              "      <td>Low</td>\n",
              "      <td>0.0</td>\n",
              "      <td>Large</td>\n",
              "      <td>Summer</td>\n",
              "      <td>o-neck</td>\n",
              "      <td>Petal</td>\n",
              "      <td>microfiber</td>\n",
              "      <td>NaN</td>\n",
              "      <td>ruffles</td>\n",
              "      <td>animal</td>\n",
              "      <td>0</td>\n",
              "    </tr>\n",
              "    <tr>\n",
              "      <th>2</th>\n",
              "      <td>1190380701</td>\n",
              "      <td>vintage</td>\n",
              "      <td>High</td>\n",
              "      <td>0.0</td>\n",
              "      <td>Large</td>\n",
              "      <td>Automn</td>\n",
              "      <td>o-neck</td>\n",
              "      <td>full</td>\n",
              "      <td>polyster</td>\n",
              "      <td>NaN</td>\n",
              "      <td>NaN</td>\n",
              "      <td>print</td>\n",
              "      <td>0</td>\n",
              "    </tr>\n",
              "    <tr>\n",
              "      <th>3</th>\n",
              "      <td>966005983</td>\n",
              "      <td>Brief</td>\n",
              "      <td>Average</td>\n",
              "      <td>4.6</td>\n",
              "      <td>Large</td>\n",
              "      <td>Spring</td>\n",
              "      <td>o-neck</td>\n",
              "      <td>full</td>\n",
              "      <td>silk</td>\n",
              "      <td>chiffon</td>\n",
              "      <td>embroidary</td>\n",
              "      <td>print</td>\n",
              "      <td>1</td>\n",
              "    </tr>\n",
              "    <tr>\n",
              "      <th>4</th>\n",
              "      <td>876339541</td>\n",
              "      <td>cute</td>\n",
              "      <td>Low</td>\n",
              "      <td>4.5</td>\n",
              "      <td>Medium</td>\n",
              "      <td>Summer</td>\n",
              "      <td>o-neck</td>\n",
              "      <td>butterfly</td>\n",
              "      <td>chiffonfabric</td>\n",
              "      <td>chiffon</td>\n",
              "      <td>bow</td>\n",
              "      <td>dot</td>\n",
              "      <td>0</td>\n",
              "    </tr>\n",
              "    <tr>\n",
              "      <th>...</th>\n",
              "      <td>...</td>\n",
              "      <td>...</td>\n",
              "      <td>...</td>\n",
              "      <td>...</td>\n",
              "      <td>...</td>\n",
              "      <td>...</td>\n",
              "      <td>...</td>\n",
              "      <td>...</td>\n",
              "      <td>...</td>\n",
              "      <td>...</td>\n",
              "      <td>...</td>\n",
              "      <td>...</td>\n",
              "      <td>...</td>\n",
              "    </tr>\n",
              "    <tr>\n",
              "      <th>474</th>\n",
              "      <td>990559192</td>\n",
              "      <td>Brief</td>\n",
              "      <td>Average</td>\n",
              "      <td>4.7</td>\n",
              "      <td>Medium</td>\n",
              "      <td>winter</td>\n",
              "      <td>o-neck</td>\n",
              "      <td>halfsleeve</td>\n",
              "      <td>acrylic</td>\n",
              "      <td>chiffon</td>\n",
              "      <td>NaN</td>\n",
              "      <td>striped</td>\n",
              "      <td>0</td>\n",
              "    </tr>\n",
              "    <tr>\n",
              "      <th>475</th>\n",
              "      <td>713391965</td>\n",
              "      <td>Casual</td>\n",
              "      <td>Low</td>\n",
              "      <td>4.7</td>\n",
              "      <td>Medium</td>\n",
              "      <td>Spring</td>\n",
              "      <td>o-neck</td>\n",
              "      <td>full</td>\n",
              "      <td>polyster</td>\n",
              "      <td>NaN</td>\n",
              "      <td>NaN</td>\n",
              "      <td>solid</td>\n",
              "      <td>1</td>\n",
              "    </tr>\n",
              "    <tr>\n",
              "      <th>476</th>\n",
              "      <td>532874347</td>\n",
              "      <td>Casual</td>\n",
              "      <td>Average</td>\n",
              "      <td>4.7</td>\n",
              "      <td>Medium</td>\n",
              "      <td>Summer</td>\n",
              "      <td>v-neck</td>\n",
              "      <td>full</td>\n",
              "      <td>cotton</td>\n",
              "      <td>NaN</td>\n",
              "      <td>lace</td>\n",
              "      <td>solid</td>\n",
              "      <td>1</td>\n",
              "    </tr>\n",
              "    <tr>\n",
              "      <th>477</th>\n",
              "      <td>655464934</td>\n",
              "      <td>Casual</td>\n",
              "      <td>Average</td>\n",
              "      <td>4.6</td>\n",
              "      <td>Large</td>\n",
              "      <td>winter</td>\n",
              "      <td>boat-neck</td>\n",
              "      <td>sleevless</td>\n",
              "      <td>silk</td>\n",
              "      <td>broadcloth</td>\n",
              "      <td>applique</td>\n",
              "      <td>print</td>\n",
              "      <td>1</td>\n",
              "    </tr>\n",
              "    <tr>\n",
              "      <th>478</th>\n",
              "      <td>919930954</td>\n",
              "      <td>Casual</td>\n",
              "      <td>Low</td>\n",
              "      <td>4.4</td>\n",
              "      <td>Free</td>\n",
              "      <td>Summer</td>\n",
              "      <td>v-neck</td>\n",
              "      <td>short</td>\n",
              "      <td>cotton</td>\n",
              "      <td>Corduroy</td>\n",
              "      <td>lace</td>\n",
              "      <td>solid</td>\n",
              "      <td>0</td>\n",
              "    </tr>\n",
              "  </tbody>\n",
              "</table>\n",
              "<p>479 rows × 13 columns</p>\n",
              "</div>\n",
              "    <div class=\"colab-df-buttons\">\n",
              "\n",
              "  <div class=\"colab-df-container\">\n",
              "    <button class=\"colab-df-convert\" onclick=\"convertToInteractive('df-1e043519-5131-4692-a71d-aa2dfb499517')\"\n",
              "            title=\"Convert this dataframe to an interactive table.\"\n",
              "            style=\"display:none;\">\n",
              "\n",
              "  <svg xmlns=\"http://www.w3.org/2000/svg\" height=\"24px\" viewBox=\"0 -960 960 960\">\n",
              "    <path d=\"M120-120v-720h720v720H120Zm60-500h600v-160H180v160Zm220 220h160v-160H400v160Zm0 220h160v-160H400v160ZM180-400h160v-160H180v160Zm440 0h160v-160H620v160ZM180-180h160v-160H180v160Zm440 0h160v-160H620v160Z\"/>\n",
              "  </svg>\n",
              "    </button>\n",
              "\n",
              "  <style>\n",
              "    .colab-df-container {\n",
              "      display:flex;\n",
              "      gap: 12px;\n",
              "    }\n",
              "\n",
              "    .colab-df-convert {\n",
              "      background-color: #E8F0FE;\n",
              "      border: none;\n",
              "      border-radius: 50%;\n",
              "      cursor: pointer;\n",
              "      display: none;\n",
              "      fill: #1967D2;\n",
              "      height: 32px;\n",
              "      padding: 0 0 0 0;\n",
              "      width: 32px;\n",
              "    }\n",
              "\n",
              "    .colab-df-convert:hover {\n",
              "      background-color: #E2EBFA;\n",
              "      box-shadow: 0px 1px 2px rgba(60, 64, 67, 0.3), 0px 1px 3px 1px rgba(60, 64, 67, 0.15);\n",
              "      fill: #174EA6;\n",
              "    }\n",
              "\n",
              "    .colab-df-buttons div {\n",
              "      margin-bottom: 4px;\n",
              "    }\n",
              "\n",
              "    [theme=dark] .colab-df-convert {\n",
              "      background-color: #3B4455;\n",
              "      fill: #D2E3FC;\n",
              "    }\n",
              "\n",
              "    [theme=dark] .colab-df-convert:hover {\n",
              "      background-color: #434B5C;\n",
              "      box-shadow: 0px 1px 3px 1px rgba(0, 0, 0, 0.15);\n",
              "      filter: drop-shadow(0px 1px 2px rgba(0, 0, 0, 0.3));\n",
              "      fill: #FFFFFF;\n",
              "    }\n",
              "  </style>\n",
              "\n",
              "    <script>\n",
              "      const buttonEl =\n",
              "        document.querySelector('#df-1e043519-5131-4692-a71d-aa2dfb499517 button.colab-df-convert');\n",
              "      buttonEl.style.display =\n",
              "        google.colab.kernel.accessAllowed ? 'block' : 'none';\n",
              "\n",
              "      async function convertToInteractive(key) {\n",
              "        const element = document.querySelector('#df-1e043519-5131-4692-a71d-aa2dfb499517');\n",
              "        const dataTable =\n",
              "          await google.colab.kernel.invokeFunction('convertToInteractive',\n",
              "                                                    [key], {});\n",
              "        if (!dataTable) return;\n",
              "\n",
              "        const docLinkHtml = 'Like what you see? Visit the ' +\n",
              "          '<a target=\"_blank\" href=https://colab.research.google.com/notebooks/data_table.ipynb>data table notebook</a>'\n",
              "          + ' to learn more about interactive tables.';\n",
              "        element.innerHTML = '';\n",
              "        dataTable['output_type'] = 'display_data';\n",
              "        await google.colab.output.renderOutput(dataTable, element);\n",
              "        const docLink = document.createElement('div');\n",
              "        docLink.innerHTML = docLinkHtml;\n",
              "        element.appendChild(docLink);\n",
              "      }\n",
              "    </script>\n",
              "  </div>\n",
              "\n",
              "\n",
              "<div id=\"df-2fd13548-c361-4682-a180-0f349f2c7db3\">\n",
              "  <button class=\"colab-df-quickchart\" onclick=\"quickchart('df-2fd13548-c361-4682-a180-0f349f2c7db3')\"\n",
              "            title=\"Suggest charts\"\n",
              "            style=\"display:none;\">\n",
              "\n",
              "<svg xmlns=\"http://www.w3.org/2000/svg\" height=\"24px\"viewBox=\"0 0 24 24\"\n",
              "     width=\"24px\">\n",
              "    <g>\n",
              "        <path d=\"M19 3H5c-1.1 0-2 .9-2 2v14c0 1.1.9 2 2 2h14c1.1 0 2-.9 2-2V5c0-1.1-.9-2-2-2zM9 17H7v-7h2v7zm4 0h-2V7h2v10zm4 0h-2v-4h2v4z\"/>\n",
              "    </g>\n",
              "</svg>\n",
              "  </button>\n",
              "\n",
              "<style>\n",
              "  .colab-df-quickchart {\n",
              "      --bg-color: #E8F0FE;\n",
              "      --fill-color: #1967D2;\n",
              "      --hover-bg-color: #E2EBFA;\n",
              "      --hover-fill-color: #174EA6;\n",
              "      --disabled-fill-color: #AAA;\n",
              "      --disabled-bg-color: #DDD;\n",
              "  }\n",
              "\n",
              "  [theme=dark] .colab-df-quickchart {\n",
              "      --bg-color: #3B4455;\n",
              "      --fill-color: #D2E3FC;\n",
              "      --hover-bg-color: #434B5C;\n",
              "      --hover-fill-color: #FFFFFF;\n",
              "      --disabled-bg-color: #3B4455;\n",
              "      --disabled-fill-color: #666;\n",
              "  }\n",
              "\n",
              "  .colab-df-quickchart {\n",
              "    background-color: var(--bg-color);\n",
              "    border: none;\n",
              "    border-radius: 50%;\n",
              "    cursor: pointer;\n",
              "    display: none;\n",
              "    fill: var(--fill-color);\n",
              "    height: 32px;\n",
              "    padding: 0;\n",
              "    width: 32px;\n",
              "  }\n",
              "\n",
              "  .colab-df-quickchart:hover {\n",
              "    background-color: var(--hover-bg-color);\n",
              "    box-shadow: 0 1px 2px rgba(60, 64, 67, 0.3), 0 1px 3px 1px rgba(60, 64, 67, 0.15);\n",
              "    fill: var(--button-hover-fill-color);\n",
              "  }\n",
              "\n",
              "  .colab-df-quickchart-complete:disabled,\n",
              "  .colab-df-quickchart-complete:disabled:hover {\n",
              "    background-color: var(--disabled-bg-color);\n",
              "    fill: var(--disabled-fill-color);\n",
              "    box-shadow: none;\n",
              "  }\n",
              "\n",
              "  .colab-df-spinner {\n",
              "    border: 2px solid var(--fill-color);\n",
              "    border-color: transparent;\n",
              "    border-bottom-color: var(--fill-color);\n",
              "    animation:\n",
              "      spin 1s steps(1) infinite;\n",
              "  }\n",
              "\n",
              "  @keyframes spin {\n",
              "    0% {\n",
              "      border-color: transparent;\n",
              "      border-bottom-color: var(--fill-color);\n",
              "      border-left-color: var(--fill-color);\n",
              "    }\n",
              "    20% {\n",
              "      border-color: transparent;\n",
              "      border-left-color: var(--fill-color);\n",
              "      border-top-color: var(--fill-color);\n",
              "    }\n",
              "    30% {\n",
              "      border-color: transparent;\n",
              "      border-left-color: var(--fill-color);\n",
              "      border-top-color: var(--fill-color);\n",
              "      border-right-color: var(--fill-color);\n",
              "    }\n",
              "    40% {\n",
              "      border-color: transparent;\n",
              "      border-right-color: var(--fill-color);\n",
              "      border-top-color: var(--fill-color);\n",
              "    }\n",
              "    60% {\n",
              "      border-color: transparent;\n",
              "      border-right-color: var(--fill-color);\n",
              "    }\n",
              "    80% {\n",
              "      border-color: transparent;\n",
              "      border-right-color: var(--fill-color);\n",
              "      border-bottom-color: var(--fill-color);\n",
              "    }\n",
              "    90% {\n",
              "      border-color: transparent;\n",
              "      border-bottom-color: var(--fill-color);\n",
              "    }\n",
              "  }\n",
              "</style>\n",
              "\n",
              "  <script>\n",
              "    async function quickchart(key) {\n",
              "      const quickchartButtonEl =\n",
              "        document.querySelector('#' + key + ' button');\n",
              "      quickchartButtonEl.disabled = true;  // To prevent multiple clicks.\n",
              "      quickchartButtonEl.classList.add('colab-df-spinner');\n",
              "      try {\n",
              "        const charts = await google.colab.kernel.invokeFunction(\n",
              "            'suggestCharts', [key], {});\n",
              "      } catch (error) {\n",
              "        console.error('Error during call to suggestCharts:', error);\n",
              "      }\n",
              "      quickchartButtonEl.classList.remove('colab-df-spinner');\n",
              "      quickchartButtonEl.classList.add('colab-df-quickchart-complete');\n",
              "    }\n",
              "    (() => {\n",
              "      let quickchartButtonEl =\n",
              "        document.querySelector('#df-2fd13548-c361-4682-a180-0f349f2c7db3 button');\n",
              "      quickchartButtonEl.style.display =\n",
              "        google.colab.kernel.accessAllowed ? 'block' : 'none';\n",
              "    })();\n",
              "  </script>\n",
              "</div>\n",
              "\n",
              "  <div id=\"id_4f474131-5b61-4902-a486-ae79700a0897\">\n",
              "    <style>\n",
              "      .colab-df-generate {\n",
              "        background-color: #E8F0FE;\n",
              "        border: none;\n",
              "        border-radius: 50%;\n",
              "        cursor: pointer;\n",
              "        display: none;\n",
              "        fill: #1967D2;\n",
              "        height: 32px;\n",
              "        padding: 0 0 0 0;\n",
              "        width: 32px;\n",
              "      }\n",
              "\n",
              "      .colab-df-generate:hover {\n",
              "        background-color: #E2EBFA;\n",
              "        box-shadow: 0px 1px 2px rgba(60, 64, 67, 0.3), 0px 1px 3px 1px rgba(60, 64, 67, 0.15);\n",
              "        fill: #174EA6;\n",
              "      }\n",
              "\n",
              "      [theme=dark] .colab-df-generate {\n",
              "        background-color: #3B4455;\n",
              "        fill: #D2E3FC;\n",
              "      }\n",
              "\n",
              "      [theme=dark] .colab-df-generate:hover {\n",
              "        background-color: #434B5C;\n",
              "        box-shadow: 0px 1px 3px 1px rgba(0, 0, 0, 0.15);\n",
              "        filter: drop-shadow(0px 1px 2px rgba(0, 0, 0, 0.3));\n",
              "        fill: #FFFFFF;\n",
              "      }\n",
              "    </style>\n",
              "    <button class=\"colab-df-generate\" onclick=\"generateWithVariable('df1')\"\n",
              "            title=\"Generate code using this dataframe.\"\n",
              "            style=\"display:none;\">\n",
              "\n",
              "  <svg xmlns=\"http://www.w3.org/2000/svg\" height=\"24px\"viewBox=\"0 0 24 24\"\n",
              "       width=\"24px\">\n",
              "    <path d=\"M7,19H8.4L18.45,9,17,7.55,7,17.6ZM5,21V16.75L18.45,3.32a2,2,0,0,1,2.83,0l1.4,1.43a1.91,1.91,0,0,1,.58,1.4,1.91,1.91,0,0,1-.58,1.4L9.25,21ZM18.45,9,17,7.55Zm-12,3A5.31,5.31,0,0,0,4.9,8.1,5.31,5.31,0,0,0,1,6.5,5.31,5.31,0,0,0,4.9,4.9,5.31,5.31,0,0,0,6.5,1,5.31,5.31,0,0,0,8.1,4.9,5.31,5.31,0,0,0,12,6.5,5.46,5.46,0,0,0,6.5,12Z\"/>\n",
              "  </svg>\n",
              "    </button>\n",
              "    <script>\n",
              "      (() => {\n",
              "      const buttonEl =\n",
              "        document.querySelector('#id_4f474131-5b61-4902-a486-ae79700a0897 button.colab-df-generate');\n",
              "      buttonEl.style.display =\n",
              "        google.colab.kernel.accessAllowed ? 'block' : 'none';\n",
              "\n",
              "      buttonEl.onclick = () => {\n",
              "        google.colab.notebook.generateWithVariable('df1');\n",
              "      }\n",
              "      })();\n",
              "    </script>\n",
              "  </div>\n",
              "\n",
              "    </div>\n",
              "  </div>\n"
            ],
            "application/vnd.google.colaboratory.intrinsic+json": {
              "type": "dataframe",
              "variable_name": "df1",
              "summary": "{\n  \"name\": \"df1\",\n  \"rows\": 479,\n  \"fields\": [\n    {\n      \"column\": \"Dress_ID\",\n      \"properties\": {\n        \"dtype\": \"number\",\n        \"std\": 182235169,\n        \"min\": 123456789,\n        \"max\": 1253973206,\n        \"num_unique_values\": 479,\n        \"samples\": [\n          1118628066,\n          1219677488,\n          743729613\n        ],\n        \"semantic_type\": \"\",\n        \"description\": \"\"\n      }\n    },\n    {\n      \"column\": \"Style\",\n      \"properties\": {\n        \"dtype\": \"category\",\n        \"num_unique_values\": 13,\n        \"samples\": [\n          \"OL\",\n          \"Novelty\",\n          \"Sexy\"\n        ],\n        \"semantic_type\": \"\",\n        \"description\": \"\"\n      }\n    },\n    {\n      \"column\": \"Price\",\n      \"properties\": {\n        \"dtype\": \"category\",\n        \"num_unique_values\": 5,\n        \"samples\": [\n          \"High\",\n          \"very-high\",\n          \"Average\"\n        ],\n        \"semantic_type\": \"\",\n        \"description\": \"\"\n      }\n    },\n    {\n      \"column\": \"Rating\",\n      \"properties\": {\n        \"dtype\": \"number\",\n        \"std\": 2.028941073943481,\n        \"min\": 0.0,\n        \"max\": 5.0,\n        \"num_unique_values\": 17,\n        \"samples\": [\n          4.6,\n          0.0,\n          4.8\n        ],\n        \"semantic_type\": \"\",\n        \"description\": \"\"\n      }\n    },\n    {\n      \"column\": \"Size\",\n      \"properties\": {\n        \"dtype\": \"category\",\n        \"num_unique_values\": 5,\n        \"samples\": [\n          \"Large\",\n          \"Small\",\n          \"Extra large\"\n        ],\n        \"semantic_type\": \"\",\n        \"description\": \"\"\n      }\n    },\n    {\n      \"column\": \"Season\",\n      \"properties\": {\n        \"dtype\": \"category\",\n        \"num_unique_values\": 7,\n        \"samples\": [\n          \"Summer\",\n          \"Automn\",\n          \"winter\"\n        ],\n        \"semantic_type\": \"\",\n        \"description\": \"\"\n      }\n    },\n    {\n      \"column\": \"NeckLine\",\n      \"properties\": {\n        \"dtype\": \"category\",\n        \"num_unique_values\": 16,\n        \"samples\": [\n          \"o-neck\",\n          \"v-neck\",\n          \"turndowncollor\"\n        ],\n        \"semantic_type\": \"\",\n        \"description\": \"\"\n      }\n    },\n    {\n      \"column\": \"SleeveLength\",\n      \"properties\": {\n        \"dtype\": \"category\",\n        \"num_unique_values\": 17,\n        \"samples\": [\n          \"sleevless\",\n          \"Petal\",\n          \"threequarter\"\n        ],\n        \"semantic_type\": \"\",\n        \"description\": \"\"\n      }\n    },\n    {\n      \"column\": \"Material\",\n      \"properties\": {\n        \"dtype\": \"category\",\n        \"num_unique_values\": 22,\n        \"samples\": [\n          \"microfiber\",\n          \"spandex\",\n          \"linen\"\n        ],\n        \"semantic_type\": \"\",\n        \"description\": \"\"\n      }\n    },\n    {\n      \"column\": \"FabricType\",\n      \"properties\": {\n        \"dtype\": \"category\",\n        \"num_unique_values\": 22,\n        \"samples\": [\n          \"chiffon\",\n          \"tulle\",\n          \"woolen\"\n        ],\n        \"semantic_type\": \"\",\n        \"description\": \"\"\n      }\n    },\n    {\n      \"column\": \"Decoration\",\n      \"properties\": {\n        \"dtype\": \"category\",\n        \"num_unique_values\": 24,\n        \"samples\": [\n          \"sequined\",\n          \"pleat\",\n          \"ruffles\"\n        ],\n        \"semantic_type\": \"\",\n        \"description\": \"\"\n      }\n    },\n    {\n      \"column\": \"Pattern Type\",\n      \"properties\": {\n        \"dtype\": \"category\",\n        \"num_unique_values\": 14,\n        \"samples\": [\n          \"floral\",\n          \"splice\",\n          \"animal\"\n        ],\n        \"semantic_type\": \"\",\n        \"description\": \"\"\n      }\n    },\n    {\n      \"column\": \"Recommendation\",\n      \"properties\": {\n        \"dtype\": \"number\",\n        \"std\": 0,\n        \"min\": 0,\n        \"max\": 1,\n        \"num_unique_values\": 2,\n        \"samples\": [\n          0,\n          1\n        ],\n        \"semantic_type\": \"\",\n        \"description\": \"\"\n      }\n    }\n  ]\n}"
            }
          },
          "metadata": {},
          "execution_count": 10
        }
      ]
    },
    {
      "cell_type": "markdown",
      "metadata": {
        "id": "_6nO-PU6j7Yc"
      },
      "source": [
        "### Impute/Remove Missing values"
      ]
    },
    {
      "cell_type": "code",
      "execution_count": 11,
      "metadata": {
        "id": "P9NwzHSwj7Yc",
        "colab": {
          "base_uri": "https://localhost:8080/"
        },
        "outputId": "735e0b8c-d8d4-45cc-8c0c-56f7198c0559"
      },
      "outputs": [
        {
          "output_type": "execute_result",
          "data": {
            "text/plain": [
              "Dress_ID           0.000000\n",
              "Style              0.000000\n",
              "Price              0.417537\n",
              "Rating             0.000000\n",
              "Size               0.000000\n",
              "Season             0.417537\n",
              "NeckLine           0.626305\n",
              "SleeveLength       0.417537\n",
              "Material          24.843424\n",
              "FabricType        53.444676\n",
              "Decoration        46.764092\n",
              "Pattern Type      21.294363\n",
              "Recommendation     0.000000\n",
              "dtype: float64"
            ]
          },
          "metadata": {},
          "execution_count": 11
        }
      ],
      "source": [
        "# Print the null count of each variables of inp0 and inp1.\n",
        "df1.isnull().sum()/len(df1)*100"
      ]
    },
    {
      "cell_type": "code",
      "source": [
        "sale.isnull().sum()/len(sale)*100"
      ],
      "metadata": {
        "colab": {
          "base_uri": "https://localhost:8080/"
        },
        "id": "nNaWoZ8qJol5",
        "outputId": "651a264e-fe7e-4ee0-8a21-bbd1d9b33a2f"
      },
      "execution_count": 12,
      "outputs": [
        {
          "output_type": "execute_result",
          "data": {
            "text/plain": [
              "Dress_ID       0.000000\n",
              "29-08-2013     0.000000\n",
              "31-08-2013     0.000000\n",
              "09-02-2013     0.000000\n",
              "09-04-2013     0.000000\n",
              "09-06-2013     0.000000\n",
              "09-08-2013     0.000000\n",
              "09-10-2013     0.000000\n",
              "09-12-2013     0.000000\n",
              "14-09-2013     0.000000\n",
              "16-09-2013     0.000000\n",
              "18-09-2013     0.000000\n",
              "20-09-2013     0.000000\n",
              "22-09-2013     0.000000\n",
              "24-09-2013     0.000000\n",
              "26-09-2013    46.346555\n",
              "28-09-2013     0.000000\n",
              "30-09-2013    53.653445\n",
              "10-02-2013    54.070981\n",
              "10-04-2013    53.862213\n",
              "10-06-2013     0.000000\n",
              "10-08-2013    53.235908\n",
              "10-10-2013    53.235908\n",
              "10-12-2013     0.000000\n",
              "dtype: float64"
            ]
          },
          "metadata": {},
          "execution_count": 12
        }
      ]
    },
    {
      "cell_type": "code",
      "source": [
        "df1.head()"
      ],
      "metadata": {
        "colab": {
          "base_uri": "https://localhost:8080/",
          "height": 206
        },
        "id": "G17a9MA_Ke4q",
        "outputId": "9553ef36-f205-4908-d7a2-a2c6d4511ba4"
      },
      "execution_count": 13,
      "outputs": [
        {
          "output_type": "execute_result",
          "data": {
            "text/plain": [
              "     Dress_ID    Style    Price  Rating    Size  Season NeckLine SleeveLength  \\\n",
              "0  1006032852     Sexy      Low     4.6  Medium  Summer   o-neck    sleevless   \n",
              "1  1212192089   Casual      Low     0.0   Large  Summer   o-neck        Petal   \n",
              "2  1190380701  vintage     High     0.0   Large  Automn   o-neck         full   \n",
              "3   966005983    Brief  Average     4.6   Large  Spring   o-neck         full   \n",
              "4   876339541     cute      Low     4.5  Medium  Summer   o-neck    butterfly   \n",
              "\n",
              "        Material FabricType  Decoration Pattern Type  Recommendation  \n",
              "0            NaN    chiffon     ruffles       animal               1  \n",
              "1     microfiber        NaN     ruffles       animal               0  \n",
              "2       polyster        NaN         NaN        print               0  \n",
              "3           silk    chiffon  embroidary        print               1  \n",
              "4  chiffonfabric    chiffon         bow          dot               0  "
            ],
            "text/html": [
              "\n",
              "  <div id=\"df-76a5af3b-3f77-45bd-abf5-b2012f1fd2f9\" class=\"colab-df-container\">\n",
              "    <div>\n",
              "<style scoped>\n",
              "    .dataframe tbody tr th:only-of-type {\n",
              "        vertical-align: middle;\n",
              "    }\n",
              "\n",
              "    .dataframe tbody tr th {\n",
              "        vertical-align: top;\n",
              "    }\n",
              "\n",
              "    .dataframe thead th {\n",
              "        text-align: right;\n",
              "    }\n",
              "</style>\n",
              "<table border=\"1\" class=\"dataframe\">\n",
              "  <thead>\n",
              "    <tr style=\"text-align: right;\">\n",
              "      <th></th>\n",
              "      <th>Dress_ID</th>\n",
              "      <th>Style</th>\n",
              "      <th>Price</th>\n",
              "      <th>Rating</th>\n",
              "      <th>Size</th>\n",
              "      <th>Season</th>\n",
              "      <th>NeckLine</th>\n",
              "      <th>SleeveLength</th>\n",
              "      <th>Material</th>\n",
              "      <th>FabricType</th>\n",
              "      <th>Decoration</th>\n",
              "      <th>Pattern Type</th>\n",
              "      <th>Recommendation</th>\n",
              "    </tr>\n",
              "  </thead>\n",
              "  <tbody>\n",
              "    <tr>\n",
              "      <th>0</th>\n",
              "      <td>1006032852</td>\n",
              "      <td>Sexy</td>\n",
              "      <td>Low</td>\n",
              "      <td>4.6</td>\n",
              "      <td>Medium</td>\n",
              "      <td>Summer</td>\n",
              "      <td>o-neck</td>\n",
              "      <td>sleevless</td>\n",
              "      <td>NaN</td>\n",
              "      <td>chiffon</td>\n",
              "      <td>ruffles</td>\n",
              "      <td>animal</td>\n",
              "      <td>1</td>\n",
              "    </tr>\n",
              "    <tr>\n",
              "      <th>1</th>\n",
              "      <td>1212192089</td>\n",
              "      <td>Casual</td>\n",
              "      <td>Low</td>\n",
              "      <td>0.0</td>\n",
              "      <td>Large</td>\n",
              "      <td>Summer</td>\n",
              "      <td>o-neck</td>\n",
              "      <td>Petal</td>\n",
              "      <td>microfiber</td>\n",
              "      <td>NaN</td>\n",
              "      <td>ruffles</td>\n",
              "      <td>animal</td>\n",
              "      <td>0</td>\n",
              "    </tr>\n",
              "    <tr>\n",
              "      <th>2</th>\n",
              "      <td>1190380701</td>\n",
              "      <td>vintage</td>\n",
              "      <td>High</td>\n",
              "      <td>0.0</td>\n",
              "      <td>Large</td>\n",
              "      <td>Automn</td>\n",
              "      <td>o-neck</td>\n",
              "      <td>full</td>\n",
              "      <td>polyster</td>\n",
              "      <td>NaN</td>\n",
              "      <td>NaN</td>\n",
              "      <td>print</td>\n",
              "      <td>0</td>\n",
              "    </tr>\n",
              "    <tr>\n",
              "      <th>3</th>\n",
              "      <td>966005983</td>\n",
              "      <td>Brief</td>\n",
              "      <td>Average</td>\n",
              "      <td>4.6</td>\n",
              "      <td>Large</td>\n",
              "      <td>Spring</td>\n",
              "      <td>o-neck</td>\n",
              "      <td>full</td>\n",
              "      <td>silk</td>\n",
              "      <td>chiffon</td>\n",
              "      <td>embroidary</td>\n",
              "      <td>print</td>\n",
              "      <td>1</td>\n",
              "    </tr>\n",
              "    <tr>\n",
              "      <th>4</th>\n",
              "      <td>876339541</td>\n",
              "      <td>cute</td>\n",
              "      <td>Low</td>\n",
              "      <td>4.5</td>\n",
              "      <td>Medium</td>\n",
              "      <td>Summer</td>\n",
              "      <td>o-neck</td>\n",
              "      <td>butterfly</td>\n",
              "      <td>chiffonfabric</td>\n",
              "      <td>chiffon</td>\n",
              "      <td>bow</td>\n",
              "      <td>dot</td>\n",
              "      <td>0</td>\n",
              "    </tr>\n",
              "  </tbody>\n",
              "</table>\n",
              "</div>\n",
              "    <div class=\"colab-df-buttons\">\n",
              "\n",
              "  <div class=\"colab-df-container\">\n",
              "    <button class=\"colab-df-convert\" onclick=\"convertToInteractive('df-76a5af3b-3f77-45bd-abf5-b2012f1fd2f9')\"\n",
              "            title=\"Convert this dataframe to an interactive table.\"\n",
              "            style=\"display:none;\">\n",
              "\n",
              "  <svg xmlns=\"http://www.w3.org/2000/svg\" height=\"24px\" viewBox=\"0 -960 960 960\">\n",
              "    <path d=\"M120-120v-720h720v720H120Zm60-500h600v-160H180v160Zm220 220h160v-160H400v160Zm0 220h160v-160H400v160ZM180-400h160v-160H180v160Zm440 0h160v-160H620v160ZM180-180h160v-160H180v160Zm440 0h160v-160H620v160Z\"/>\n",
              "  </svg>\n",
              "    </button>\n",
              "\n",
              "  <style>\n",
              "    .colab-df-container {\n",
              "      display:flex;\n",
              "      gap: 12px;\n",
              "    }\n",
              "\n",
              "    .colab-df-convert {\n",
              "      background-color: #E8F0FE;\n",
              "      border: none;\n",
              "      border-radius: 50%;\n",
              "      cursor: pointer;\n",
              "      display: none;\n",
              "      fill: #1967D2;\n",
              "      height: 32px;\n",
              "      padding: 0 0 0 0;\n",
              "      width: 32px;\n",
              "    }\n",
              "\n",
              "    .colab-df-convert:hover {\n",
              "      background-color: #E2EBFA;\n",
              "      box-shadow: 0px 1px 2px rgba(60, 64, 67, 0.3), 0px 1px 3px 1px rgba(60, 64, 67, 0.15);\n",
              "      fill: #174EA6;\n",
              "    }\n",
              "\n",
              "    .colab-df-buttons div {\n",
              "      margin-bottom: 4px;\n",
              "    }\n",
              "\n",
              "    [theme=dark] .colab-df-convert {\n",
              "      background-color: #3B4455;\n",
              "      fill: #D2E3FC;\n",
              "    }\n",
              "\n",
              "    [theme=dark] .colab-df-convert:hover {\n",
              "      background-color: #434B5C;\n",
              "      box-shadow: 0px 1px 3px 1px rgba(0, 0, 0, 0.15);\n",
              "      filter: drop-shadow(0px 1px 2px rgba(0, 0, 0, 0.3));\n",
              "      fill: #FFFFFF;\n",
              "    }\n",
              "  </style>\n",
              "\n",
              "    <script>\n",
              "      const buttonEl =\n",
              "        document.querySelector('#df-76a5af3b-3f77-45bd-abf5-b2012f1fd2f9 button.colab-df-convert');\n",
              "      buttonEl.style.display =\n",
              "        google.colab.kernel.accessAllowed ? 'block' : 'none';\n",
              "\n",
              "      async function convertToInteractive(key) {\n",
              "        const element = document.querySelector('#df-76a5af3b-3f77-45bd-abf5-b2012f1fd2f9');\n",
              "        const dataTable =\n",
              "          await google.colab.kernel.invokeFunction('convertToInteractive',\n",
              "                                                    [key], {});\n",
              "        if (!dataTable) return;\n",
              "\n",
              "        const docLinkHtml = 'Like what you see? Visit the ' +\n",
              "          '<a target=\"_blank\" href=https://colab.research.google.com/notebooks/data_table.ipynb>data table notebook</a>'\n",
              "          + ' to learn more about interactive tables.';\n",
              "        element.innerHTML = '';\n",
              "        dataTable['output_type'] = 'display_data';\n",
              "        await google.colab.output.renderOutput(dataTable, element);\n",
              "        const docLink = document.createElement('div');\n",
              "        docLink.innerHTML = docLinkHtml;\n",
              "        element.appendChild(docLink);\n",
              "      }\n",
              "    </script>\n",
              "  </div>\n",
              "\n",
              "\n",
              "<div id=\"df-4e6f895e-7d27-46f6-b1aa-1d4af93aac56\">\n",
              "  <button class=\"colab-df-quickchart\" onclick=\"quickchart('df-4e6f895e-7d27-46f6-b1aa-1d4af93aac56')\"\n",
              "            title=\"Suggest charts\"\n",
              "            style=\"display:none;\">\n",
              "\n",
              "<svg xmlns=\"http://www.w3.org/2000/svg\" height=\"24px\"viewBox=\"0 0 24 24\"\n",
              "     width=\"24px\">\n",
              "    <g>\n",
              "        <path d=\"M19 3H5c-1.1 0-2 .9-2 2v14c0 1.1.9 2 2 2h14c1.1 0 2-.9 2-2V5c0-1.1-.9-2-2-2zM9 17H7v-7h2v7zm4 0h-2V7h2v10zm4 0h-2v-4h2v4z\"/>\n",
              "    </g>\n",
              "</svg>\n",
              "  </button>\n",
              "\n",
              "<style>\n",
              "  .colab-df-quickchart {\n",
              "      --bg-color: #E8F0FE;\n",
              "      --fill-color: #1967D2;\n",
              "      --hover-bg-color: #E2EBFA;\n",
              "      --hover-fill-color: #174EA6;\n",
              "      --disabled-fill-color: #AAA;\n",
              "      --disabled-bg-color: #DDD;\n",
              "  }\n",
              "\n",
              "  [theme=dark] .colab-df-quickchart {\n",
              "      --bg-color: #3B4455;\n",
              "      --fill-color: #D2E3FC;\n",
              "      --hover-bg-color: #434B5C;\n",
              "      --hover-fill-color: #FFFFFF;\n",
              "      --disabled-bg-color: #3B4455;\n",
              "      --disabled-fill-color: #666;\n",
              "  }\n",
              "\n",
              "  .colab-df-quickchart {\n",
              "    background-color: var(--bg-color);\n",
              "    border: none;\n",
              "    border-radius: 50%;\n",
              "    cursor: pointer;\n",
              "    display: none;\n",
              "    fill: var(--fill-color);\n",
              "    height: 32px;\n",
              "    padding: 0;\n",
              "    width: 32px;\n",
              "  }\n",
              "\n",
              "  .colab-df-quickchart:hover {\n",
              "    background-color: var(--hover-bg-color);\n",
              "    box-shadow: 0 1px 2px rgba(60, 64, 67, 0.3), 0 1px 3px 1px rgba(60, 64, 67, 0.15);\n",
              "    fill: var(--button-hover-fill-color);\n",
              "  }\n",
              "\n",
              "  .colab-df-quickchart-complete:disabled,\n",
              "  .colab-df-quickchart-complete:disabled:hover {\n",
              "    background-color: var(--disabled-bg-color);\n",
              "    fill: var(--disabled-fill-color);\n",
              "    box-shadow: none;\n",
              "  }\n",
              "\n",
              "  .colab-df-spinner {\n",
              "    border: 2px solid var(--fill-color);\n",
              "    border-color: transparent;\n",
              "    border-bottom-color: var(--fill-color);\n",
              "    animation:\n",
              "      spin 1s steps(1) infinite;\n",
              "  }\n",
              "\n",
              "  @keyframes spin {\n",
              "    0% {\n",
              "      border-color: transparent;\n",
              "      border-bottom-color: var(--fill-color);\n",
              "      border-left-color: var(--fill-color);\n",
              "    }\n",
              "    20% {\n",
              "      border-color: transparent;\n",
              "      border-left-color: var(--fill-color);\n",
              "      border-top-color: var(--fill-color);\n",
              "    }\n",
              "    30% {\n",
              "      border-color: transparent;\n",
              "      border-left-color: var(--fill-color);\n",
              "      border-top-color: var(--fill-color);\n",
              "      border-right-color: var(--fill-color);\n",
              "    }\n",
              "    40% {\n",
              "      border-color: transparent;\n",
              "      border-right-color: var(--fill-color);\n",
              "      border-top-color: var(--fill-color);\n",
              "    }\n",
              "    60% {\n",
              "      border-color: transparent;\n",
              "      border-right-color: var(--fill-color);\n",
              "    }\n",
              "    80% {\n",
              "      border-color: transparent;\n",
              "      border-right-color: var(--fill-color);\n",
              "      border-bottom-color: var(--fill-color);\n",
              "    }\n",
              "    90% {\n",
              "      border-color: transparent;\n",
              "      border-bottom-color: var(--fill-color);\n",
              "    }\n",
              "  }\n",
              "</style>\n",
              "\n",
              "  <script>\n",
              "    async function quickchart(key) {\n",
              "      const quickchartButtonEl =\n",
              "        document.querySelector('#' + key + ' button');\n",
              "      quickchartButtonEl.disabled = true;  // To prevent multiple clicks.\n",
              "      quickchartButtonEl.classList.add('colab-df-spinner');\n",
              "      try {\n",
              "        const charts = await google.colab.kernel.invokeFunction(\n",
              "            'suggestCharts', [key], {});\n",
              "      } catch (error) {\n",
              "        console.error('Error during call to suggestCharts:', error);\n",
              "      }\n",
              "      quickchartButtonEl.classList.remove('colab-df-spinner');\n",
              "      quickchartButtonEl.classList.add('colab-df-quickchart-complete');\n",
              "    }\n",
              "    (() => {\n",
              "      let quickchartButtonEl =\n",
              "        document.querySelector('#df-4e6f895e-7d27-46f6-b1aa-1d4af93aac56 button');\n",
              "      quickchartButtonEl.style.display =\n",
              "        google.colab.kernel.accessAllowed ? 'block' : 'none';\n",
              "    })();\n",
              "  </script>\n",
              "</div>\n",
              "\n",
              "    </div>\n",
              "  </div>\n"
            ],
            "application/vnd.google.colaboratory.intrinsic+json": {
              "type": "dataframe",
              "variable_name": "df1",
              "summary": "{\n  \"name\": \"df1\",\n  \"rows\": 479,\n  \"fields\": [\n    {\n      \"column\": \"Dress_ID\",\n      \"properties\": {\n        \"dtype\": \"number\",\n        \"std\": 182235169,\n        \"min\": 123456789,\n        \"max\": 1253973206,\n        \"num_unique_values\": 479,\n        \"samples\": [\n          1118628066,\n          1219677488,\n          743729613\n        ],\n        \"semantic_type\": \"\",\n        \"description\": \"\"\n      }\n    },\n    {\n      \"column\": \"Style\",\n      \"properties\": {\n        \"dtype\": \"category\",\n        \"num_unique_values\": 13,\n        \"samples\": [\n          \"OL\",\n          \"Novelty\",\n          \"Sexy\"\n        ],\n        \"semantic_type\": \"\",\n        \"description\": \"\"\n      }\n    },\n    {\n      \"column\": \"Price\",\n      \"properties\": {\n        \"dtype\": \"category\",\n        \"num_unique_values\": 5,\n        \"samples\": [\n          \"High\",\n          \"very-high\",\n          \"Average\"\n        ],\n        \"semantic_type\": \"\",\n        \"description\": \"\"\n      }\n    },\n    {\n      \"column\": \"Rating\",\n      \"properties\": {\n        \"dtype\": \"number\",\n        \"std\": 2.028941073943481,\n        \"min\": 0.0,\n        \"max\": 5.0,\n        \"num_unique_values\": 17,\n        \"samples\": [\n          4.6,\n          0.0,\n          4.8\n        ],\n        \"semantic_type\": \"\",\n        \"description\": \"\"\n      }\n    },\n    {\n      \"column\": \"Size\",\n      \"properties\": {\n        \"dtype\": \"category\",\n        \"num_unique_values\": 5,\n        \"samples\": [\n          \"Large\",\n          \"Small\",\n          \"Extra large\"\n        ],\n        \"semantic_type\": \"\",\n        \"description\": \"\"\n      }\n    },\n    {\n      \"column\": \"Season\",\n      \"properties\": {\n        \"dtype\": \"category\",\n        \"num_unique_values\": 7,\n        \"samples\": [\n          \"Summer\",\n          \"Automn\",\n          \"winter\"\n        ],\n        \"semantic_type\": \"\",\n        \"description\": \"\"\n      }\n    },\n    {\n      \"column\": \"NeckLine\",\n      \"properties\": {\n        \"dtype\": \"category\",\n        \"num_unique_values\": 16,\n        \"samples\": [\n          \"o-neck\",\n          \"v-neck\",\n          \"turndowncollor\"\n        ],\n        \"semantic_type\": \"\",\n        \"description\": \"\"\n      }\n    },\n    {\n      \"column\": \"SleeveLength\",\n      \"properties\": {\n        \"dtype\": \"category\",\n        \"num_unique_values\": 17,\n        \"samples\": [\n          \"sleevless\",\n          \"Petal\",\n          \"threequarter\"\n        ],\n        \"semantic_type\": \"\",\n        \"description\": \"\"\n      }\n    },\n    {\n      \"column\": \"Material\",\n      \"properties\": {\n        \"dtype\": \"category\",\n        \"num_unique_values\": 22,\n        \"samples\": [\n          \"microfiber\",\n          \"spandex\",\n          \"linen\"\n        ],\n        \"semantic_type\": \"\",\n        \"description\": \"\"\n      }\n    },\n    {\n      \"column\": \"FabricType\",\n      \"properties\": {\n        \"dtype\": \"category\",\n        \"num_unique_values\": 22,\n        \"samples\": [\n          \"chiffon\",\n          \"tulle\",\n          \"woolen\"\n        ],\n        \"semantic_type\": \"\",\n        \"description\": \"\"\n      }\n    },\n    {\n      \"column\": \"Decoration\",\n      \"properties\": {\n        \"dtype\": \"category\",\n        \"num_unique_values\": 24,\n        \"samples\": [\n          \"sequined\",\n          \"pleat\",\n          \"ruffles\"\n        ],\n        \"semantic_type\": \"\",\n        \"description\": \"\"\n      }\n    },\n    {\n      \"column\": \"Pattern Type\",\n      \"properties\": {\n        \"dtype\": \"category\",\n        \"num_unique_values\": 14,\n        \"samples\": [\n          \"floral\",\n          \"splice\",\n          \"animal\"\n        ],\n        \"semantic_type\": \"\",\n        \"description\": \"\"\n      }\n    },\n    {\n      \"column\": \"Recommendation\",\n      \"properties\": {\n        \"dtype\": \"number\",\n        \"std\": 0,\n        \"min\": 0,\n        \"max\": 1,\n        \"num_unique_values\": 2,\n        \"samples\": [\n          0,\n          1\n        ],\n        \"semantic_type\": \"\",\n        \"description\": \"\"\n      }\n    }\n  ]\n}"
            }
          },
          "metadata": {},
          "execution_count": 13
        }
      ]
    },
    {
      "cell_type": "code",
      "execution_count": 14,
      "metadata": {
        "id": "6wm6uThvj7Yd",
        "colab": {
          "base_uri": "https://localhost:8080/"
        },
        "outputId": "24956641-284e-4b52-f672-0d85fceed8a5"
      },
      "outputs": [
        {
          "output_type": "stream",
          "name": "stdout",
          "text": [
            "<class 'pandas.core.frame.DataFrame'>\n",
            "RangeIndex: 479 entries, 0 to 478\n",
            "Data columns (total 24 columns):\n",
            " #   Column      Non-Null Count  Dtype  \n",
            "---  ------      --------------  -----  \n",
            " 0   Dress_ID    479 non-null    float64\n",
            " 1   29-08-2013  479 non-null    int64  \n",
            " 2   31-08-2013  479 non-null    int64  \n",
            " 3   09-02-2013  479 non-null    int64  \n",
            " 4   09-04-2013  479 non-null    int64  \n",
            " 5   09-06-2013  479 non-null    int64  \n",
            " 6   09-08-2013  479 non-null    int64  \n",
            " 7   09-10-2013  479 non-null    int64  \n",
            " 8   09-12-2013  479 non-null    object \n",
            " 9   14-09-2013  479 non-null    object \n",
            " 10  16-09-2013  479 non-null    object \n",
            " 11  18-09-2013  479 non-null    object \n",
            " 12  20-09-2013  479 non-null    object \n",
            " 13  22-09-2013  479 non-null    object \n",
            " 14  24-09-2013  479 non-null    int64  \n",
            " 15  26-09-2013  257 non-null    float64\n",
            " 16  28-09-2013  479 non-null    int64  \n",
            " 17  30-09-2013  222 non-null    float64\n",
            " 18  10-02-2013  220 non-null    float64\n",
            " 19  10-04-2013  221 non-null    float64\n",
            " 20  10-06-2013  479 non-null    int64  \n",
            " 21  10-08-2013  224 non-null    float64\n",
            " 22  10-10-2013  224 non-null    float64\n",
            " 23  10-12-2013  479 non-null    int64  \n",
            "dtypes: float64(7), int64(11), object(6)\n",
            "memory usage: 89.9+ KB\n"
          ]
        }
      ],
      "source": [
        "# Print the data types information of inp1 i.e. \"Dress Sales\" data. In thông tin loại dữ liệu của inp1 tức là dữ liệu \"Bán quần áo\".\n",
        "sale.info()"
      ]
    },
    {
      "cell_type": "code",
      "source": [
        "df1.info()"
      ],
      "metadata": {
        "colab": {
          "base_uri": "https://localhost:8080/"
        },
        "id": "DBP1BjAHLZaZ",
        "outputId": "2482d5c9-d39a-431a-f838-0089fba7459d"
      },
      "execution_count": 15,
      "outputs": [
        {
          "output_type": "stream",
          "name": "stdout",
          "text": [
            "<class 'pandas.core.frame.DataFrame'>\n",
            "RangeIndex: 479 entries, 0 to 478\n",
            "Data columns (total 13 columns):\n",
            " #   Column          Non-Null Count  Dtype  \n",
            "---  ------          --------------  -----  \n",
            " 0   Dress_ID        479 non-null    int64  \n",
            " 1   Style           479 non-null    object \n",
            " 2   Price           477 non-null    object \n",
            " 3   Rating          479 non-null    float64\n",
            " 4   Size            479 non-null    object \n",
            " 5   Season          477 non-null    object \n",
            " 6   NeckLine        476 non-null    object \n",
            " 7   SleeveLength    477 non-null    object \n",
            " 8   Material        360 non-null    object \n",
            " 9   FabricType      223 non-null    object \n",
            " 10  Decoration      255 non-null    object \n",
            " 11  Pattern Type    377 non-null    object \n",
            " 12  Recommendation  479 non-null    int64  \n",
            "dtypes: float64(1), int64(2), object(10)\n",
            "memory usage: 48.8+ KB\n"
          ]
        }
      ]
    },
    {
      "cell_type": "code",
      "source": [
        "sale['09-12-2013'].dtype=='object'\n",
        "\n"
      ],
      "metadata": {
        "colab": {
          "base_uri": "https://localhost:8080/"
        },
        "id": "jt82XxiaLsQZ",
        "outputId": "1d2f904b-9bb2-47f1-9200-323463162b88"
      },
      "execution_count": 16,
      "outputs": [
        {
          "output_type": "execute_result",
          "data": {
            "text/plain": [
              "True"
            ]
          },
          "metadata": {},
          "execution_count": 16
        }
      ]
    },
    {
      "cell_type": "code",
      "source": [
        "col_irr=[]\n",
        "for i in sale.columns:\n",
        "  if sale[i].dtype=='object':\n",
        "    col_irr.append(i)\n",
        "col_irr"
      ],
      "metadata": {
        "colab": {
          "base_uri": "https://localhost:8080/"
        },
        "id": "YEJ27AIxMKQy",
        "outputId": "443e0290-7e38-4347-9328-6429c59e5c7c"
      },
      "execution_count": 17,
      "outputs": [
        {
          "output_type": "execute_result",
          "data": {
            "text/plain": [
              "['09-12-2013',\n",
              " '14-09-2013',\n",
              " '16-09-2013',\n",
              " '18-09-2013',\n",
              " '20-09-2013',\n",
              " '22-09-2013']"
            ]
          },
          "metadata": {},
          "execution_count": 17
        }
      ]
    },
    {
      "cell_type": "code",
      "execution_count": 18,
      "metadata": {
        "id": "BMemYxfTj7Yd",
        "colab": {
          "base_uri": "https://localhost:8080/",
          "height": 280
        },
        "outputId": "8f70c1f1-01bd-477d-b7f6-4dea23778938"
      },
      "outputs": [
        {
          "output_type": "error",
          "ename": "ValueError",
          "evalue": "Unable to parse string \"Removed\" at position 263",
          "traceback": [
            "\u001b[0;31m---------------------------------------------------------------------------\u001b[0m",
            "\u001b[0;31mValueError\u001b[0m                                Traceback (most recent call last)",
            "\u001b[0;32m/usr/local/lib/python3.10/dist-packages/pandas/_libs/lib.pyx\u001b[0m in \u001b[0;36mpandas._libs.lib.maybe_convert_numeric\u001b[0;34m()\u001b[0m\n",
            "\u001b[0;31mValueError\u001b[0m: Unable to parse string \"Removed\"",
            "\nDuring handling of the above exception, another exception occurred:\n",
            "\u001b[0;31mValueError\u001b[0m                                Traceback (most recent call last)",
            "\u001b[0;32m<ipython-input-18-80a22c5aea11>\u001b[0m in \u001b[0;36m<cell line: 2>\u001b[0;34m()\u001b[0m\n\u001b[1;32m      1\u001b[0m \u001b[0;31m# Try to convert the object type into float type of data. YOU GET ERROR MESSAGE. # Cố gắng chuyển đổi kiểu đối tượng thành kiểu dữ liệu float. BẠN NHẬN ĐƯỢC THÔNG BÁO LỖI.\u001b[0m\u001b[0;34m\u001b[0m\u001b[0;34m\u001b[0m\u001b[0m\n\u001b[0;32m----> 2\u001b[0;31m \u001b[0mpd\u001b[0m\u001b[0;34m.\u001b[0m\u001b[0mto_numeric\u001b[0m\u001b[0;34m(\u001b[0m\u001b[0msale\u001b[0m\u001b[0;34m[\u001b[0m\u001b[0;34m'09-12-2013'\u001b[0m\u001b[0;34m]\u001b[0m\u001b[0;34m)\u001b[0m\u001b[0;34m\u001b[0m\u001b[0;34m\u001b[0m\u001b[0m\n\u001b[0m",
            "\u001b[0;32m/usr/local/lib/python3.10/dist-packages/pandas/core/tools/numeric.py\u001b[0m in \u001b[0;36mto_numeric\u001b[0;34m(arg, errors, downcast, dtype_backend)\u001b[0m\n\u001b[1;32m    215\u001b[0m         \u001b[0mcoerce_numeric\u001b[0m \u001b[0;34m=\u001b[0m \u001b[0merrors\u001b[0m \u001b[0;32mnot\u001b[0m \u001b[0;32min\u001b[0m \u001b[0;34m(\u001b[0m\u001b[0;34m\"ignore\"\u001b[0m\u001b[0;34m,\u001b[0m \u001b[0;34m\"raise\"\u001b[0m\u001b[0;34m)\u001b[0m\u001b[0;34m\u001b[0m\u001b[0;34m\u001b[0m\u001b[0m\n\u001b[1;32m    216\u001b[0m         \u001b[0;32mtry\u001b[0m\u001b[0;34m:\u001b[0m\u001b[0;34m\u001b[0m\u001b[0;34m\u001b[0m\u001b[0m\n\u001b[0;32m--> 217\u001b[0;31m             values, new_mask = lib.maybe_convert_numeric(  # type: ignore[call-overload]  # noqa\n\u001b[0m\u001b[1;32m    218\u001b[0m                 \u001b[0mvalues\u001b[0m\u001b[0;34m,\u001b[0m\u001b[0;34m\u001b[0m\u001b[0;34m\u001b[0m\u001b[0m\n\u001b[1;32m    219\u001b[0m                 \u001b[0mset\u001b[0m\u001b[0;34m(\u001b[0m\u001b[0;34m)\u001b[0m\u001b[0;34m,\u001b[0m\u001b[0;34m\u001b[0m\u001b[0;34m\u001b[0m\u001b[0m\n",
            "\u001b[0;32m/usr/local/lib/python3.10/dist-packages/pandas/_libs/lib.pyx\u001b[0m in \u001b[0;36mpandas._libs.lib.maybe_convert_numeric\u001b[0;34m()\u001b[0m\n",
            "\u001b[0;31mValueError\u001b[0m: Unable to parse string \"Removed\" at position 263"
          ]
        }
      ],
      "source": [
        "# Try to convert the object type into float type of data. YOU GET ERROR MESSAGE.\n",
        "pd.to_numeric(sale['09-12-2013'])"
      ]
    },
    {
      "cell_type": "code",
      "source": [
        "sale['09-12-2013'].unique()"
      ],
      "metadata": {
        "colab": {
          "base_uri": "https://localhost:8080/"
        },
        "id": "xWKsYYjINPdC",
        "outputId": "a2619eb8-8849-4863-aa33-574777763c8f"
      },
      "execution_count": 19,
      "outputs": [
        {
          "output_type": "execute_result",
          "data": {
            "text/plain": [
              "array(['3119', '1558', '10', '1723', '1638', '18', '251', '117', '17',\n",
              "       '13', '65', '90', '1906', '2934', '49', '45', '1898', '12', '381',\n",
              "       '227', '1248', '233', '1671', '5', '22', '1762', '105', '497',\n",
              "       '7156', '1456', '279', '1004', '1244', '2321', '1706', '1744',\n",
              "       '66', '569', '557', '156', '2930', '640', '878', '240', '112',\n",
              "       '5475', '24', '1210', '4', '209', '218', '59', '1474', '921',\n",
              "       '328', '567', '585', '359', '30', '8', '68', '2025', '293', '670',\n",
              "       '375', '25', '415', '83', '369', '40', '826', '2366', '6', '73',\n",
              "       '137', '1412', '393', '382', '14', '232', '401', '325', '308',\n",
              "       '722', '16', '119', '174', '2', '0', '302', '808', '407', '237',\n",
              "       '649', '1311', '348', '1966', '531', '81', '3544', '164', '1335',\n",
              "       '72', '414', '134', '452', '221', '450', '1029', '1235', '7', '91',\n",
              "       '665', '307', '169', '442', '217', '3', '264', '578', '194', '339',\n",
              "       '165', '64', '132', '635', '113', '43', '1271', '460', '451', '41',\n",
              "       '111', '549', '455', '1886', '61', '176', '280', '201', '488',\n",
              "       '226', '472', '42', '386', '365', '664', '576', '356', '957',\n",
              "       '204', '21', '224', '115', '103', '850', '46', '281', '559', '767',\n",
              "       '343', '461', '1842', '202', '122', '350', '742', '114', '140',\n",
              "       '37', '178', '283', '124', '74', '448', '36', '1115', '314', '188',\n",
              "       '259', '144', '171', '449', '168', '377', '334', '500', '758', '1',\n",
              "       '354', '52', '126', '31', '836', '865', '387', '85', '482', '362',\n",
              "       '35', '298', '219', '320', '60', '270', '288', '1472', '118',\n",
              "       '357', '70', '98', '146', '189', '273', 'Removed', '56', '210',\n",
              "       '67', '54', '28', '57', '396', '215', '145', '89', '222', '96',\n",
              "       '26', '87', '100', '129', '69', '101', '82', '29', '160', '62',\n",
              "       '289', '123', '296', '158', '53', '786', '75', '58', '823', '148',\n",
              "       '606', '9', '822', '253', '55', '50', '1111', '269', '562', '583',\n",
              "       '324', '170', '199', '794', '39', '84', '121', '147', '93', '191',\n",
              "       '195', '44', '669', '205', '420', '133', '385', '678', '243', '11',\n",
              "       '97', '384', '213', '155', '15', '234', '27', '33', '131', '361',\n",
              "       '321', '250', '92', '51', '683', '86', '19', '163', '143', '417',\n",
              "       '23', '322', '149', '245', '139', '629', '187', '290', '645',\n",
              "       '473', '239', '525', '694', '268'], dtype=object)"
            ]
          },
          "metadata": {},
          "execution_count": 19
        }
      ]
    },
    {
      "cell_type": "code",
      "source": [
        "sale['09-12-2013'].str.isnumeric()"
      ],
      "metadata": {
        "colab": {
          "base_uri": "https://localhost:8080/"
        },
        "id": "6WqsDAlzNq_S",
        "outputId": "a1e47273-be86-4afb-c25c-42b9f12c16f7"
      },
      "execution_count": 20,
      "outputs": [
        {
          "output_type": "execute_result",
          "data": {
            "text/plain": [
              "0      True\n",
              "1      True\n",
              "2      True\n",
              "3      True\n",
              "4      True\n",
              "       ... \n",
              "474    True\n",
              "475    True\n",
              "476    True\n",
              "477    True\n",
              "478    True\n",
              "Name: 09-12-2013, Length: 479, dtype: bool"
            ]
          },
          "metadata": {},
          "execution_count": 20
        }
      ]
    },
    {
      "cell_type": "code",
      "source": [
        "sale[sale['09-12-2013'].str.isnumeric()==False]['09-12-2013']"
      ],
      "metadata": {
        "colab": {
          "base_uri": "https://localhost:8080/"
        },
        "id": "hUcxSHEoNxmp",
        "outputId": "e4a8bfcd-849b-4558-eef1-def0a7201588"
      },
      "execution_count": 21,
      "outputs": [
        {
          "output_type": "execute_result",
          "data": {
            "text/plain": [
              "263    Removed\n",
              "Name: 09-12-2013, dtype: object"
            ]
          },
          "metadata": {},
          "execution_count": 21
        }
      ]
    },
    {
      "cell_type": "code",
      "source": [
        "sale[sale['09-12-2013'].str.isnumeric()==False]['09-12-2013'].value_counts()"
      ],
      "metadata": {
        "colab": {
          "base_uri": "https://localhost:8080/"
        },
        "id": "U-jNCQn4PqsB",
        "outputId": "7588b8e1-266d-49a0-c4ad-749e25869588"
      },
      "execution_count": 22,
      "outputs": [
        {
          "output_type": "execute_result",
          "data": {
            "text/plain": [
              "09-12-2013\n",
              "Removed    1\n",
              "Name: count, dtype: int64"
            ]
          },
          "metadata": {},
          "execution_count": 22
        }
      ]
    },
    {
      "cell_type": "code",
      "source": [
        "len(sale[sale['09-12-2013'].str.isnumeric()==False]['09-12-2013'])"
      ],
      "metadata": {
        "colab": {
          "base_uri": "https://localhost:8080/"
        },
        "id": "7c5baZPKPRAR",
        "outputId": "fc9cee9a-6bf3-4056-d4d6-d59364da8131"
      },
      "execution_count": 23,
      "outputs": [
        {
          "output_type": "execute_result",
          "data": {
            "text/plain": [
              "1"
            ]
          },
          "metadata": {},
          "execution_count": 23
        }
      ]
    },
    {
      "cell_type": "code",
      "source": [
        "col_irr"
      ],
      "metadata": {
        "colab": {
          "base_uri": "https://localhost:8080/"
        },
        "id": "5No_MasGPzCY",
        "outputId": "49cffac2-f412-4d7f-d981-2465c394e0d2"
      },
      "execution_count": 24,
      "outputs": [
        {
          "output_type": "execute_result",
          "data": {
            "text/plain": [
              "['09-12-2013',\n",
              " '14-09-2013',\n",
              " '16-09-2013',\n",
              " '18-09-2013',\n",
              " '20-09-2013',\n",
              " '22-09-2013']"
            ]
          },
          "metadata": {},
          "execution_count": 24
        }
      ]
    },
    {
      "cell_type": "code",
      "source": [
        "for i in col_irr:\n",
        "  print(sale[sale[i].str.isnumeric()==False][i].value_counts())"
      ],
      "metadata": {
        "colab": {
          "base_uri": "https://localhost:8080/"
        },
        "id": "oRuwIoGXP30x",
        "outputId": "4efdc2e8-94f9-4036-c2fa-013d50354b63"
      },
      "execution_count": 25,
      "outputs": [
        {
          "output_type": "stream",
          "name": "stdout",
          "text": [
            "09-12-2013\n",
            "Removed    1\n",
            "Name: count, dtype: int64\n",
            "14-09-2013\n",
            "removed    1\n",
            "Name: count, dtype: int64\n",
            "16-09-2013\n",
            "removed    1\n",
            "Name: count, dtype: int64\n",
            "18-09-2013\n",
            "removed    1\n",
            "Name: count, dtype: int64\n",
            "20-09-2013\n",
            "removed    1\n",
            "Name: count, dtype: int64\n",
            "22-09-2013\n",
            "Orders    1\n",
            "Name: count, dtype: int64\n"
          ]
        }
      ]
    },
    {
      "cell_type": "code",
      "execution_count": 26,
      "metadata": {
        "id": "CJ8kIAwrj7Yd"
      },
      "outputs": [],
      "source": [
        "# Do the required changes in the \"Dress Sales\" data set to get null values on string values.\n",
        "for i in col_irr:\n",
        "  sale=sale[sale[i].str.isnumeric()==True]"
      ]
    },
    {
      "cell_type": "code",
      "execution_count": 27,
      "metadata": {
        "id": "-aWe4gJ8j7Yd"
      },
      "outputs": [],
      "source": [
        "# Convert the object type columns in \"Dress Sales\" into float type of data type.\n",
        "sale['09-12-2013']=pd.to_numeric(sale['09-12-2013'])"
      ]
    },
    {
      "cell_type": "code",
      "source": [
        "for i in col_irr:\n",
        "  sale[i]=pd.to_numeric(sale[i])"
      ],
      "metadata": {
        "id": "UVSmZ3oxU2DX"
      },
      "execution_count": 28,
      "outputs": []
    },
    {
      "cell_type": "code",
      "source": [
        "sale.info()"
      ],
      "metadata": {
        "colab": {
          "base_uri": "https://localhost:8080/"
        },
        "id": "NM7WmRarVFrG",
        "outputId": "dc66996f-7a29-4db2-f2ac-0c25b30107df"
      },
      "execution_count": 29,
      "outputs": [
        {
          "output_type": "stream",
          "name": "stdout",
          "text": [
            "<class 'pandas.core.frame.DataFrame'>\n",
            "Index: 477 entries, 0 to 478\n",
            "Data columns (total 24 columns):\n",
            " #   Column      Non-Null Count  Dtype  \n",
            "---  ------      --------------  -----  \n",
            " 0   Dress_ID    477 non-null    float64\n",
            " 1   29-08-2013  477 non-null    int64  \n",
            " 2   31-08-2013  477 non-null    int64  \n",
            " 3   09-02-2013  477 non-null    int64  \n",
            " 4   09-04-2013  477 non-null    int64  \n",
            " 5   09-06-2013  477 non-null    int64  \n",
            " 6   09-08-2013  477 non-null    int64  \n",
            " 7   09-10-2013  477 non-null    int64  \n",
            " 8   09-12-2013  477 non-null    int64  \n",
            " 9   14-09-2013  477 non-null    int64  \n",
            " 10  16-09-2013  477 non-null    int64  \n",
            " 11  18-09-2013  477 non-null    int64  \n",
            " 12  20-09-2013  477 non-null    int64  \n",
            " 13  22-09-2013  477 non-null    int64  \n",
            " 14  24-09-2013  477 non-null    int64  \n",
            " 15  26-09-2013  257 non-null    float64\n",
            " 16  28-09-2013  477 non-null    int64  \n",
            " 17  30-09-2013  222 non-null    float64\n",
            " 18  10-02-2013  220 non-null    float64\n",
            " 19  10-04-2013  221 non-null    float64\n",
            " 20  10-06-2013  477 non-null    int64  \n",
            " 21  10-08-2013  224 non-null    float64\n",
            " 22  10-10-2013  224 non-null    float64\n",
            " 23  10-12-2013  477 non-null    int64  \n",
            "dtypes: float64(7), int64(17)\n",
            "memory usage: 93.2 KB\n"
          ]
        }
      ]
    },
    {
      "cell_type": "code",
      "execution_count": 30,
      "metadata": {
        "id": "qTCgVSuRj7Yd",
        "colab": {
          "base_uri": "https://localhost:8080/"
        },
        "outputId": "80b4265d-f75e-46bb-af2c-ba09f22d25fe"
      },
      "outputs": [
        {
          "output_type": "execute_result",
          "data": {
            "text/plain": [
              "Dress_ID       0.000000\n",
              "29-08-2013     0.000000\n",
              "31-08-2013     0.000000\n",
              "09-02-2013     0.000000\n",
              "09-04-2013     0.000000\n",
              "09-06-2013     0.000000\n",
              "09-08-2013     0.000000\n",
              "09-10-2013     0.000000\n",
              "09-12-2013     0.000000\n",
              "14-09-2013     0.000000\n",
              "16-09-2013     0.000000\n",
              "18-09-2013     0.000000\n",
              "20-09-2013     0.000000\n",
              "22-09-2013     0.000000\n",
              "24-09-2013     0.000000\n",
              "26-09-2013    46.121593\n",
              "28-09-2013     0.000000\n",
              "30-09-2013    53.459119\n",
              "10-02-2013    53.878407\n",
              "10-04-2013    53.668763\n",
              "10-06-2013     0.000000\n",
              "10-08-2013    53.039832\n",
              "10-10-2013    53.039832\n",
              "10-12-2013     0.000000\n",
              "dtype: float64"
            ]
          },
          "metadata": {},
          "execution_count": 30
        }
      ],
      "source": [
        "# Print the null percetange of each column of inp1.\n",
        "sale.isnull().sum()/len(sale)*100"
      ]
    },
    {
      "cell_type": "code",
      "source": [
        "len(sale)"
      ],
      "metadata": {
        "colab": {
          "base_uri": "https://localhost:8080/"
        },
        "id": "b4nnX1VYWVJi",
        "outputId": "362273fa-4348-4caa-a9b3-d51f96958004"
      },
      "execution_count": 31,
      "outputs": [
        {
          "output_type": "execute_result",
          "data": {
            "text/plain": [
              "477"
            ]
          },
          "metadata": {},
          "execution_count": 31
        }
      ]
    },
    {
      "cell_type": "code",
      "execution_count": 32,
      "metadata": {
        "id": "hqsF8gd7j7Ye",
        "colab": {
          "base_uri": "https://localhost:8080/"
        },
        "outputId": "dbc9eea0-3d58-4f36-c2f1-1b103df62f76"
      },
      "outputs": [
        {
          "output_type": "execute_result",
          "data": {
            "text/plain": [
              "['26-09-2013',\n",
              " '30-09-2013',\n",
              " '10-02-2013',\n",
              " '10-04-2013',\n",
              " '10-08-2013',\n",
              " '10-10-2013']"
            ]
          },
          "metadata": {},
          "execution_count": 32
        }
      ],
      "source": [
        "# Drop the columns in \"Dress Sales\" which have more than 40% of missing values.\n",
        "null_40=[]\n",
        "for i in sale.columns:\n",
        "  if sale[i].isnull().sum()/len(sale) >0.4:\n",
        "    null_40.append(i)\n",
        "null_40"
      ]
    },
    {
      "cell_type": "code",
      "source": [
        "sale.drop(columns=null_40,inplace=True)"
      ],
      "metadata": {
        "id": "oc9yOD32X1uY"
      },
      "execution_count": 33,
      "outputs": []
    },
    {
      "cell_type": "code",
      "source": [
        "sale.isnull().sum()"
      ],
      "metadata": {
        "colab": {
          "base_uri": "https://localhost:8080/"
        },
        "id": "B56FGS7QYuMN",
        "outputId": "6c19df57-07aa-4361-f0e3-fbd6dba5b086"
      },
      "execution_count": 34,
      "outputs": [
        {
          "output_type": "execute_result",
          "data": {
            "text/plain": [
              "Dress_ID      0\n",
              "29-08-2013    0\n",
              "31-08-2013    0\n",
              "09-02-2013    0\n",
              "09-04-2013    0\n",
              "09-06-2013    0\n",
              "09-08-2013    0\n",
              "09-10-2013    0\n",
              "09-12-2013    0\n",
              "14-09-2013    0\n",
              "16-09-2013    0\n",
              "18-09-2013    0\n",
              "20-09-2013    0\n",
              "22-09-2013    0\n",
              "24-09-2013    0\n",
              "28-09-2013    0\n",
              "10-06-2013    0\n",
              "10-12-2013    0\n",
              "dtype: int64"
            ]
          },
          "metadata": {},
          "execution_count": 34
        }
      ]
    },
    {
      "cell_type": "markdown",
      "metadata": {
        "id": "gnjT57OIj7Ye"
      },
      "source": [
        "categorise the dates into seasons in “Dress Sales” data to simplify the analysis according to the following criteria:\n",
        "- June, July and August: Summer.\n",
        "- September, October and November: Autumn.\n",
        "- December, January and February: WInter.\n",
        "- March, April and May: Spring.\n",
        "\n",
        "\n"
      ]
    },
    {
      "cell_type": "code",
      "execution_count": 35,
      "metadata": {
        "id": "7XOlnq3sj7Ye",
        "colab": {
          "base_uri": "https://localhost:8080/",
          "height": 441
        },
        "outputId": "892bc1dc-f602-4e75-a327-c853dd086d70"
      },
      "outputs": [
        {
          "output_type": "execute_result",
          "data": {
            "text/plain": [
              "         Dress_ID  29-08-2013  31-08-2013  09-02-2013  09-04-2013  09-06-2013  \\\n",
              "0    1.006033e+09        2114        2274        2491        2660        2727   \n",
              "1    1.212192e+09         151         275         570         750         813   \n",
              "2    1.190381e+09           6           7           7           7           8   \n",
              "3    9.660060e+08        1005        1128        1326        1455        1507   \n",
              "4    8.763395e+08         996        1175        1304        1396        1432   \n",
              "..            ...         ...         ...         ...         ...         ...   \n",
              "474  9.905592e+08           0           0           0          60          62   \n",
              "475  7.133920e+08           0           0           0         560         554   \n",
              "476  5.328743e+08           0           0           0         734         728   \n",
              "477  6.554649e+08           0           0           0         254         259   \n",
              "478  9.199310e+08           0           0           0         538         545   \n",
              "\n",
              "     09-08-2013  09-10-2013  09-12-2013  14-09-2013  ...  20-09-2013  \\\n",
              "0          2887        2930        3119        3204  ...        3386   \n",
              "1          1066        1164        1558        1756  ...        2106   \n",
              "2             8           9          10          10  ...          10   \n",
              "3          1621        1637        1723        1746  ...        1812   \n",
              "4          1559        1570        1638        1655  ...        1824   \n",
              "..          ...         ...         ...         ...  ...         ...   \n",
              "474          64          65          67          68  ...          72   \n",
              "475         544         537         525         519  ...         492   \n",
              "476         726         715         694         690  ...         665   \n",
              "477         261         263         268         270  ...         264   \n",
              "478         558         563         578         585  ...         605   \n",
              "\n",
              "     22-09-2013  24-09-2013  28-09-2013  10-06-2013  10-12-2013  summer  \\\n",
              "0          3479        3554        3706        3897        4048       0   \n",
              "1          2454        2710        3258        3911        4277       0   \n",
              "2            11          11          11          11          11       0   \n",
              "3          1845        1878        1914        1952        1963       0   \n",
              "4          1919        2032        2252        2544        2736       0   \n",
              "..          ...         ...         ...         ...         ...     ...   \n",
              "474          73          73          75          77          77       0   \n",
              "475         480         400         360         380         285       0   \n",
              "476         658         616         586         551         520       0   \n",
              "477         264         257         255         249         248       0   \n",
              "478         619         628         639         660         680       0   \n",
              "\n",
              "     autumn  winter  spring  \n",
              "0         0       0       0  \n",
              "1         0       0       0  \n",
              "2         0       0       0  \n",
              "3         0       0       0  \n",
              "4         0       0       0  \n",
              "..      ...     ...     ...  \n",
              "474       0       0       0  \n",
              "475       0       0       0  \n",
              "476       0       0       0  \n",
              "477       0       0       0  \n",
              "478       0       0       0  \n",
              "\n",
              "[477 rows x 22 columns]"
            ],
            "text/html": [
              "\n",
              "  <div id=\"df-086f06ff-cf26-40b7-aff7-e3e713dd5f0c\" class=\"colab-df-container\">\n",
              "    <div>\n",
              "<style scoped>\n",
              "    .dataframe tbody tr th:only-of-type {\n",
              "        vertical-align: middle;\n",
              "    }\n",
              "\n",
              "    .dataframe tbody tr th {\n",
              "        vertical-align: top;\n",
              "    }\n",
              "\n",
              "    .dataframe thead th {\n",
              "        text-align: right;\n",
              "    }\n",
              "</style>\n",
              "<table border=\"1\" class=\"dataframe\">\n",
              "  <thead>\n",
              "    <tr style=\"text-align: right;\">\n",
              "      <th></th>\n",
              "      <th>Dress_ID</th>\n",
              "      <th>29-08-2013</th>\n",
              "      <th>31-08-2013</th>\n",
              "      <th>09-02-2013</th>\n",
              "      <th>09-04-2013</th>\n",
              "      <th>09-06-2013</th>\n",
              "      <th>09-08-2013</th>\n",
              "      <th>09-10-2013</th>\n",
              "      <th>09-12-2013</th>\n",
              "      <th>14-09-2013</th>\n",
              "      <th>...</th>\n",
              "      <th>20-09-2013</th>\n",
              "      <th>22-09-2013</th>\n",
              "      <th>24-09-2013</th>\n",
              "      <th>28-09-2013</th>\n",
              "      <th>10-06-2013</th>\n",
              "      <th>10-12-2013</th>\n",
              "      <th>summer</th>\n",
              "      <th>autumn</th>\n",
              "      <th>winter</th>\n",
              "      <th>spring</th>\n",
              "    </tr>\n",
              "  </thead>\n",
              "  <tbody>\n",
              "    <tr>\n",
              "      <th>0</th>\n",
              "      <td>1.006033e+09</td>\n",
              "      <td>2114</td>\n",
              "      <td>2274</td>\n",
              "      <td>2491</td>\n",
              "      <td>2660</td>\n",
              "      <td>2727</td>\n",
              "      <td>2887</td>\n",
              "      <td>2930</td>\n",
              "      <td>3119</td>\n",
              "      <td>3204</td>\n",
              "      <td>...</td>\n",
              "      <td>3386</td>\n",
              "      <td>3479</td>\n",
              "      <td>3554</td>\n",
              "      <td>3706</td>\n",
              "      <td>3897</td>\n",
              "      <td>4048</td>\n",
              "      <td>0</td>\n",
              "      <td>0</td>\n",
              "      <td>0</td>\n",
              "      <td>0</td>\n",
              "    </tr>\n",
              "    <tr>\n",
              "      <th>1</th>\n",
              "      <td>1.212192e+09</td>\n",
              "      <td>151</td>\n",
              "      <td>275</td>\n",
              "      <td>570</td>\n",
              "      <td>750</td>\n",
              "      <td>813</td>\n",
              "      <td>1066</td>\n",
              "      <td>1164</td>\n",
              "      <td>1558</td>\n",
              "      <td>1756</td>\n",
              "      <td>...</td>\n",
              "      <td>2106</td>\n",
              "      <td>2454</td>\n",
              "      <td>2710</td>\n",
              "      <td>3258</td>\n",
              "      <td>3911</td>\n",
              "      <td>4277</td>\n",
              "      <td>0</td>\n",
              "      <td>0</td>\n",
              "      <td>0</td>\n",
              "      <td>0</td>\n",
              "    </tr>\n",
              "    <tr>\n",
              "      <th>2</th>\n",
              "      <td>1.190381e+09</td>\n",
              "      <td>6</td>\n",
              "      <td>7</td>\n",
              "      <td>7</td>\n",
              "      <td>7</td>\n",
              "      <td>8</td>\n",
              "      <td>8</td>\n",
              "      <td>9</td>\n",
              "      <td>10</td>\n",
              "      <td>10</td>\n",
              "      <td>...</td>\n",
              "      <td>10</td>\n",
              "      <td>11</td>\n",
              "      <td>11</td>\n",
              "      <td>11</td>\n",
              "      <td>11</td>\n",
              "      <td>11</td>\n",
              "      <td>0</td>\n",
              "      <td>0</td>\n",
              "      <td>0</td>\n",
              "      <td>0</td>\n",
              "    </tr>\n",
              "    <tr>\n",
              "      <th>3</th>\n",
              "      <td>9.660060e+08</td>\n",
              "      <td>1005</td>\n",
              "      <td>1128</td>\n",
              "      <td>1326</td>\n",
              "      <td>1455</td>\n",
              "      <td>1507</td>\n",
              "      <td>1621</td>\n",
              "      <td>1637</td>\n",
              "      <td>1723</td>\n",
              "      <td>1746</td>\n",
              "      <td>...</td>\n",
              "      <td>1812</td>\n",
              "      <td>1845</td>\n",
              "      <td>1878</td>\n",
              "      <td>1914</td>\n",
              "      <td>1952</td>\n",
              "      <td>1963</td>\n",
              "      <td>0</td>\n",
              "      <td>0</td>\n",
              "      <td>0</td>\n",
              "      <td>0</td>\n",
              "    </tr>\n",
              "    <tr>\n",
              "      <th>4</th>\n",
              "      <td>8.763395e+08</td>\n",
              "      <td>996</td>\n",
              "      <td>1175</td>\n",
              "      <td>1304</td>\n",
              "      <td>1396</td>\n",
              "      <td>1432</td>\n",
              "      <td>1559</td>\n",
              "      <td>1570</td>\n",
              "      <td>1638</td>\n",
              "      <td>1655</td>\n",
              "      <td>...</td>\n",
              "      <td>1824</td>\n",
              "      <td>1919</td>\n",
              "      <td>2032</td>\n",
              "      <td>2252</td>\n",
              "      <td>2544</td>\n",
              "      <td>2736</td>\n",
              "      <td>0</td>\n",
              "      <td>0</td>\n",
              "      <td>0</td>\n",
              "      <td>0</td>\n",
              "    </tr>\n",
              "    <tr>\n",
              "      <th>...</th>\n",
              "      <td>...</td>\n",
              "      <td>...</td>\n",
              "      <td>...</td>\n",
              "      <td>...</td>\n",
              "      <td>...</td>\n",
              "      <td>...</td>\n",
              "      <td>...</td>\n",
              "      <td>...</td>\n",
              "      <td>...</td>\n",
              "      <td>...</td>\n",
              "      <td>...</td>\n",
              "      <td>...</td>\n",
              "      <td>...</td>\n",
              "      <td>...</td>\n",
              "      <td>...</td>\n",
              "      <td>...</td>\n",
              "      <td>...</td>\n",
              "      <td>...</td>\n",
              "      <td>...</td>\n",
              "      <td>...</td>\n",
              "      <td>...</td>\n",
              "    </tr>\n",
              "    <tr>\n",
              "      <th>474</th>\n",
              "      <td>9.905592e+08</td>\n",
              "      <td>0</td>\n",
              "      <td>0</td>\n",
              "      <td>0</td>\n",
              "      <td>60</td>\n",
              "      <td>62</td>\n",
              "      <td>64</td>\n",
              "      <td>65</td>\n",
              "      <td>67</td>\n",
              "      <td>68</td>\n",
              "      <td>...</td>\n",
              "      <td>72</td>\n",
              "      <td>73</td>\n",
              "      <td>73</td>\n",
              "      <td>75</td>\n",
              "      <td>77</td>\n",
              "      <td>77</td>\n",
              "      <td>0</td>\n",
              "      <td>0</td>\n",
              "      <td>0</td>\n",
              "      <td>0</td>\n",
              "    </tr>\n",
              "    <tr>\n",
              "      <th>475</th>\n",
              "      <td>7.133920e+08</td>\n",
              "      <td>0</td>\n",
              "      <td>0</td>\n",
              "      <td>0</td>\n",
              "      <td>560</td>\n",
              "      <td>554</td>\n",
              "      <td>544</td>\n",
              "      <td>537</td>\n",
              "      <td>525</td>\n",
              "      <td>519</td>\n",
              "      <td>...</td>\n",
              "      <td>492</td>\n",
              "      <td>480</td>\n",
              "      <td>400</td>\n",
              "      <td>360</td>\n",
              "      <td>380</td>\n",
              "      <td>285</td>\n",
              "      <td>0</td>\n",
              "      <td>0</td>\n",
              "      <td>0</td>\n",
              "      <td>0</td>\n",
              "    </tr>\n",
              "    <tr>\n",
              "      <th>476</th>\n",
              "      <td>5.328743e+08</td>\n",
              "      <td>0</td>\n",
              "      <td>0</td>\n",
              "      <td>0</td>\n",
              "      <td>734</td>\n",
              "      <td>728</td>\n",
              "      <td>726</td>\n",
              "      <td>715</td>\n",
              "      <td>694</td>\n",
              "      <td>690</td>\n",
              "      <td>...</td>\n",
              "      <td>665</td>\n",
              "      <td>658</td>\n",
              "      <td>616</td>\n",
              "      <td>586</td>\n",
              "      <td>551</td>\n",
              "      <td>520</td>\n",
              "      <td>0</td>\n",
              "      <td>0</td>\n",
              "      <td>0</td>\n",
              "      <td>0</td>\n",
              "    </tr>\n",
              "    <tr>\n",
              "      <th>477</th>\n",
              "      <td>6.554649e+08</td>\n",
              "      <td>0</td>\n",
              "      <td>0</td>\n",
              "      <td>0</td>\n",
              "      <td>254</td>\n",
              "      <td>259</td>\n",
              "      <td>261</td>\n",
              "      <td>263</td>\n",
              "      <td>268</td>\n",
              "      <td>270</td>\n",
              "      <td>...</td>\n",
              "      <td>264</td>\n",
              "      <td>264</td>\n",
              "      <td>257</td>\n",
              "      <td>255</td>\n",
              "      <td>249</td>\n",
              "      <td>248</td>\n",
              "      <td>0</td>\n",
              "      <td>0</td>\n",
              "      <td>0</td>\n",
              "      <td>0</td>\n",
              "    </tr>\n",
              "    <tr>\n",
              "      <th>478</th>\n",
              "      <td>9.199310e+08</td>\n",
              "      <td>0</td>\n",
              "      <td>0</td>\n",
              "      <td>0</td>\n",
              "      <td>538</td>\n",
              "      <td>545</td>\n",
              "      <td>558</td>\n",
              "      <td>563</td>\n",
              "      <td>578</td>\n",
              "      <td>585</td>\n",
              "      <td>...</td>\n",
              "      <td>605</td>\n",
              "      <td>619</td>\n",
              "      <td>628</td>\n",
              "      <td>639</td>\n",
              "      <td>660</td>\n",
              "      <td>680</td>\n",
              "      <td>0</td>\n",
              "      <td>0</td>\n",
              "      <td>0</td>\n",
              "      <td>0</td>\n",
              "    </tr>\n",
              "  </tbody>\n",
              "</table>\n",
              "<p>477 rows × 22 columns</p>\n",
              "</div>\n",
              "    <div class=\"colab-df-buttons\">\n",
              "\n",
              "  <div class=\"colab-df-container\">\n",
              "    <button class=\"colab-df-convert\" onclick=\"convertToInteractive('df-086f06ff-cf26-40b7-aff7-e3e713dd5f0c')\"\n",
              "            title=\"Convert this dataframe to an interactive table.\"\n",
              "            style=\"display:none;\">\n",
              "\n",
              "  <svg xmlns=\"http://www.w3.org/2000/svg\" height=\"24px\" viewBox=\"0 -960 960 960\">\n",
              "    <path d=\"M120-120v-720h720v720H120Zm60-500h600v-160H180v160Zm220 220h160v-160H400v160Zm0 220h160v-160H400v160ZM180-400h160v-160H180v160Zm440 0h160v-160H620v160ZM180-180h160v-160H180v160Zm440 0h160v-160H620v160Z\"/>\n",
              "  </svg>\n",
              "    </button>\n",
              "\n",
              "  <style>\n",
              "    .colab-df-container {\n",
              "      display:flex;\n",
              "      gap: 12px;\n",
              "    }\n",
              "\n",
              "    .colab-df-convert {\n",
              "      background-color: #E8F0FE;\n",
              "      border: none;\n",
              "      border-radius: 50%;\n",
              "      cursor: pointer;\n",
              "      display: none;\n",
              "      fill: #1967D2;\n",
              "      height: 32px;\n",
              "      padding: 0 0 0 0;\n",
              "      width: 32px;\n",
              "    }\n",
              "\n",
              "    .colab-df-convert:hover {\n",
              "      background-color: #E2EBFA;\n",
              "      box-shadow: 0px 1px 2px rgba(60, 64, 67, 0.3), 0px 1px 3px 1px rgba(60, 64, 67, 0.15);\n",
              "      fill: #174EA6;\n",
              "    }\n",
              "\n",
              "    .colab-df-buttons div {\n",
              "      margin-bottom: 4px;\n",
              "    }\n",
              "\n",
              "    [theme=dark] .colab-df-convert {\n",
              "      background-color: #3B4455;\n",
              "      fill: #D2E3FC;\n",
              "    }\n",
              "\n",
              "    [theme=dark] .colab-df-convert:hover {\n",
              "      background-color: #434B5C;\n",
              "      box-shadow: 0px 1px 3px 1px rgba(0, 0, 0, 0.15);\n",
              "      filter: drop-shadow(0px 1px 2px rgba(0, 0, 0, 0.3));\n",
              "      fill: #FFFFFF;\n",
              "    }\n",
              "  </style>\n",
              "\n",
              "    <script>\n",
              "      const buttonEl =\n",
              "        document.querySelector('#df-086f06ff-cf26-40b7-aff7-e3e713dd5f0c button.colab-df-convert');\n",
              "      buttonEl.style.display =\n",
              "        google.colab.kernel.accessAllowed ? 'block' : 'none';\n",
              "\n",
              "      async function convertToInteractive(key) {\n",
              "        const element = document.querySelector('#df-086f06ff-cf26-40b7-aff7-e3e713dd5f0c');\n",
              "        const dataTable =\n",
              "          await google.colab.kernel.invokeFunction('convertToInteractive',\n",
              "                                                    [key], {});\n",
              "        if (!dataTable) return;\n",
              "\n",
              "        const docLinkHtml = 'Like what you see? Visit the ' +\n",
              "          '<a target=\"_blank\" href=https://colab.research.google.com/notebooks/data_table.ipynb>data table notebook</a>'\n",
              "          + ' to learn more about interactive tables.';\n",
              "        element.innerHTML = '';\n",
              "        dataTable['output_type'] = 'display_data';\n",
              "        await google.colab.output.renderOutput(dataTable, element);\n",
              "        const docLink = document.createElement('div');\n",
              "        docLink.innerHTML = docLinkHtml;\n",
              "        element.appendChild(docLink);\n",
              "      }\n",
              "    </script>\n",
              "  </div>\n",
              "\n",
              "\n",
              "<div id=\"df-e2b62723-8303-4ec1-b461-b7953c6635a6\">\n",
              "  <button class=\"colab-df-quickchart\" onclick=\"quickchart('df-e2b62723-8303-4ec1-b461-b7953c6635a6')\"\n",
              "            title=\"Suggest charts\"\n",
              "            style=\"display:none;\">\n",
              "\n",
              "<svg xmlns=\"http://www.w3.org/2000/svg\" height=\"24px\"viewBox=\"0 0 24 24\"\n",
              "     width=\"24px\">\n",
              "    <g>\n",
              "        <path d=\"M19 3H5c-1.1 0-2 .9-2 2v14c0 1.1.9 2 2 2h14c1.1 0 2-.9 2-2V5c0-1.1-.9-2-2-2zM9 17H7v-7h2v7zm4 0h-2V7h2v10zm4 0h-2v-4h2v4z\"/>\n",
              "    </g>\n",
              "</svg>\n",
              "  </button>\n",
              "\n",
              "<style>\n",
              "  .colab-df-quickchart {\n",
              "      --bg-color: #E8F0FE;\n",
              "      --fill-color: #1967D2;\n",
              "      --hover-bg-color: #E2EBFA;\n",
              "      --hover-fill-color: #174EA6;\n",
              "      --disabled-fill-color: #AAA;\n",
              "      --disabled-bg-color: #DDD;\n",
              "  }\n",
              "\n",
              "  [theme=dark] .colab-df-quickchart {\n",
              "      --bg-color: #3B4455;\n",
              "      --fill-color: #D2E3FC;\n",
              "      --hover-bg-color: #434B5C;\n",
              "      --hover-fill-color: #FFFFFF;\n",
              "      --disabled-bg-color: #3B4455;\n",
              "      --disabled-fill-color: #666;\n",
              "  }\n",
              "\n",
              "  .colab-df-quickchart {\n",
              "    background-color: var(--bg-color);\n",
              "    border: none;\n",
              "    border-radius: 50%;\n",
              "    cursor: pointer;\n",
              "    display: none;\n",
              "    fill: var(--fill-color);\n",
              "    height: 32px;\n",
              "    padding: 0;\n",
              "    width: 32px;\n",
              "  }\n",
              "\n",
              "  .colab-df-quickchart:hover {\n",
              "    background-color: var(--hover-bg-color);\n",
              "    box-shadow: 0 1px 2px rgba(60, 64, 67, 0.3), 0 1px 3px 1px rgba(60, 64, 67, 0.15);\n",
              "    fill: var(--button-hover-fill-color);\n",
              "  }\n",
              "\n",
              "  .colab-df-quickchart-complete:disabled,\n",
              "  .colab-df-quickchart-complete:disabled:hover {\n",
              "    background-color: var(--disabled-bg-color);\n",
              "    fill: var(--disabled-fill-color);\n",
              "    box-shadow: none;\n",
              "  }\n",
              "\n",
              "  .colab-df-spinner {\n",
              "    border: 2px solid var(--fill-color);\n",
              "    border-color: transparent;\n",
              "    border-bottom-color: var(--fill-color);\n",
              "    animation:\n",
              "      spin 1s steps(1) infinite;\n",
              "  }\n",
              "\n",
              "  @keyframes spin {\n",
              "    0% {\n",
              "      border-color: transparent;\n",
              "      border-bottom-color: var(--fill-color);\n",
              "      border-left-color: var(--fill-color);\n",
              "    }\n",
              "    20% {\n",
              "      border-color: transparent;\n",
              "      border-left-color: var(--fill-color);\n",
              "      border-top-color: var(--fill-color);\n",
              "    }\n",
              "    30% {\n",
              "      border-color: transparent;\n",
              "      border-left-color: var(--fill-color);\n",
              "      border-top-color: var(--fill-color);\n",
              "      border-right-color: var(--fill-color);\n",
              "    }\n",
              "    40% {\n",
              "      border-color: transparent;\n",
              "      border-right-color: var(--fill-color);\n",
              "      border-top-color: var(--fill-color);\n",
              "    }\n",
              "    60% {\n",
              "      border-color: transparent;\n",
              "      border-right-color: var(--fill-color);\n",
              "    }\n",
              "    80% {\n",
              "      border-color: transparent;\n",
              "      border-right-color: var(--fill-color);\n",
              "      border-bottom-color: var(--fill-color);\n",
              "    }\n",
              "    90% {\n",
              "      border-color: transparent;\n",
              "      border-bottom-color: var(--fill-color);\n",
              "    }\n",
              "  }\n",
              "</style>\n",
              "\n",
              "  <script>\n",
              "    async function quickchart(key) {\n",
              "      const quickchartButtonEl =\n",
              "        document.querySelector('#' + key + ' button');\n",
              "      quickchartButtonEl.disabled = true;  // To prevent multiple clicks.\n",
              "      quickchartButtonEl.classList.add('colab-df-spinner');\n",
              "      try {\n",
              "        const charts = await google.colab.kernel.invokeFunction(\n",
              "            'suggestCharts', [key], {});\n",
              "      } catch (error) {\n",
              "        console.error('Error during call to suggestCharts:', error);\n",
              "      }\n",
              "      quickchartButtonEl.classList.remove('colab-df-spinner');\n",
              "      quickchartButtonEl.classList.add('colab-df-quickchart-complete');\n",
              "    }\n",
              "    (() => {\n",
              "      let quickchartButtonEl =\n",
              "        document.querySelector('#df-e2b62723-8303-4ec1-b461-b7953c6635a6 button');\n",
              "      quickchartButtonEl.style.display =\n",
              "        google.colab.kernel.accessAllowed ? 'block' : 'none';\n",
              "    })();\n",
              "  </script>\n",
              "</div>\n",
              "\n",
              "  <div id=\"id_7ebd94d7-afc2-4975-9c2f-d0058ded189e\">\n",
              "    <style>\n",
              "      .colab-df-generate {\n",
              "        background-color: #E8F0FE;\n",
              "        border: none;\n",
              "        border-radius: 50%;\n",
              "        cursor: pointer;\n",
              "        display: none;\n",
              "        fill: #1967D2;\n",
              "        height: 32px;\n",
              "        padding: 0 0 0 0;\n",
              "        width: 32px;\n",
              "      }\n",
              "\n",
              "      .colab-df-generate:hover {\n",
              "        background-color: #E2EBFA;\n",
              "        box-shadow: 0px 1px 2px rgba(60, 64, 67, 0.3), 0px 1px 3px 1px rgba(60, 64, 67, 0.15);\n",
              "        fill: #174EA6;\n",
              "      }\n",
              "\n",
              "      [theme=dark] .colab-df-generate {\n",
              "        background-color: #3B4455;\n",
              "        fill: #D2E3FC;\n",
              "      }\n",
              "\n",
              "      [theme=dark] .colab-df-generate:hover {\n",
              "        background-color: #434B5C;\n",
              "        box-shadow: 0px 1px 3px 1px rgba(0, 0, 0, 0.15);\n",
              "        filter: drop-shadow(0px 1px 2px rgba(0, 0, 0, 0.3));\n",
              "        fill: #FFFFFF;\n",
              "      }\n",
              "    </style>\n",
              "    <button class=\"colab-df-generate\" onclick=\"generateWithVariable('sale')\"\n",
              "            title=\"Generate code using this dataframe.\"\n",
              "            style=\"display:none;\">\n",
              "\n",
              "  <svg xmlns=\"http://www.w3.org/2000/svg\" height=\"24px\"viewBox=\"0 0 24 24\"\n",
              "       width=\"24px\">\n",
              "    <path d=\"M7,19H8.4L18.45,9,17,7.55,7,17.6ZM5,21V16.75L18.45,3.32a2,2,0,0,1,2.83,0l1.4,1.43a1.91,1.91,0,0,1,.58,1.4,1.91,1.91,0,0,1-.58,1.4L9.25,21ZM18.45,9,17,7.55Zm-12,3A5.31,5.31,0,0,0,4.9,8.1,5.31,5.31,0,0,0,1,6.5,5.31,5.31,0,0,0,4.9,4.9,5.31,5.31,0,0,0,6.5,1,5.31,5.31,0,0,0,8.1,4.9,5.31,5.31,0,0,0,12,6.5,5.46,5.46,0,0,0,6.5,12Z\"/>\n",
              "  </svg>\n",
              "    </button>\n",
              "    <script>\n",
              "      (() => {\n",
              "      const buttonEl =\n",
              "        document.querySelector('#id_7ebd94d7-afc2-4975-9c2f-d0058ded189e button.colab-df-generate');\n",
              "      buttonEl.style.display =\n",
              "        google.colab.kernel.accessAllowed ? 'block' : 'none';\n",
              "\n",
              "      buttonEl.onclick = () => {\n",
              "        google.colab.notebook.generateWithVariable('sale');\n",
              "      }\n",
              "      })();\n",
              "    </script>\n",
              "  </div>\n",
              "\n",
              "    </div>\n",
              "  </div>\n"
            ],
            "application/vnd.google.colaboratory.intrinsic+json": {
              "type": "dataframe",
              "variable_name": "sale"
            }
          },
          "metadata": {},
          "execution_count": 35
        }
      ],
      "source": [
        "# Create the four seasons columns in inp1, according to the above criteria.\n",
        "for i in ['summer','autumn','winter','spring']:\n",
        "  sale[i]=0\n",
        "sale"
      ]
    },
    {
      "cell_type": "code",
      "source": [
        "'29-08-2013'[3:5]"
      ],
      "metadata": {
        "colab": {
          "base_uri": "https://localhost:8080/",
          "height": 36
        },
        "id": "0KsGqCJFbpQs",
        "outputId": "0dfecdf5-d3a3-426f-dcab-dcb958e05023"
      },
      "execution_count": 36,
      "outputs": [
        {
          "output_type": "execute_result",
          "data": {
            "text/plain": [
              "'08'"
            ],
            "application/vnd.google.colaboratory.intrinsic+json": {
              "type": "string"
            }
          },
          "metadata": {},
          "execution_count": 36
        }
      ]
    },
    {
      "cell_type": "code",
      "source": [
        "type('29-08-2013'[3:5])"
      ],
      "metadata": {
        "colab": {
          "base_uri": "https://localhost:8080/"
        },
        "id": "YaN1I5gPbNlT",
        "outputId": "7d9e57e7-c0a5-4baa-e4d3-def68a788da0"
      },
      "execution_count": 37,
      "outputs": [
        {
          "output_type": "execute_result",
          "data": {
            "text/plain": [
              "str"
            ]
          },
          "metadata": {},
          "execution_count": 37
        }
      ]
    },
    {
      "cell_type": "code",
      "source": [
        "int('29-08-2013'[3:5])"
      ],
      "metadata": {
        "colab": {
          "base_uri": "https://localhost:8080/"
        },
        "id": "9QNVu6t1cD5D",
        "outputId": "b3a362d2-ca77-47aa-eff3-37d5ab1dae7b"
      },
      "execution_count": 38,
      "outputs": [
        {
          "output_type": "execute_result",
          "data": {
            "text/plain": [
              "8"
            ]
          },
          "metadata": {},
          "execution_count": 38
        }
      ]
    },
    {
      "cell_type": "code",
      "source": [
        "for i in sale.columns[1:-4]:\n",
        "  if int(i[3:5]) in [6,7,8]:sale['summer']=sale['summer']+sale[i]\n",
        "  elif int(i[3:5]) in [9,10,11]:sale['autumn']=sale['autumn']+sale[i]\n",
        "  elif int(i[3:5]) in [12,1,2]:sale['winter']=sale['winter']+sale[i]\n",
        "  elif int(i[3:5]) in [3,4,5]:sale['spring']=sale['spring']+sale[i]\n"
      ],
      "metadata": {
        "id": "rtCisI_4cWEr"
      },
      "execution_count": 39,
      "outputs": []
    },
    {
      "cell_type": "code",
      "execution_count": 40,
      "metadata": {
        "id": "PGMTJueuj7Ye",
        "colab": {
          "base_uri": "https://localhost:8080/",
          "height": 441
        },
        "outputId": "45381e4b-b115-4ff6-9763-14d0a504f238"
      },
      "outputs": [
        {
          "output_type": "execute_result",
          "data": {
            "text/plain": [
              "         Dress_ID  29-08-2013  31-08-2013  09-02-2013  09-04-2013  09-06-2013  \\\n",
              "0    1.006033e+09        2114        2274        2491        2660        2727   \n",
              "1    1.212192e+09         151         275         570         750         813   \n",
              "2    1.190381e+09           6           7           7           7           8   \n",
              "3    9.660060e+08        1005        1128        1326        1455        1507   \n",
              "4    8.763395e+08         996        1175        1304        1396        1432   \n",
              "..            ...         ...         ...         ...         ...         ...   \n",
              "474  9.905592e+08           0           0           0          60          62   \n",
              "475  7.133920e+08           0           0           0         560         554   \n",
              "476  5.328743e+08           0           0           0         734         728   \n",
              "477  6.554649e+08           0           0           0         254         259   \n",
              "478  9.199310e+08           0           0           0         538         545   \n",
              "\n",
              "     09-08-2013  09-10-2013  09-12-2013  14-09-2013  ...  20-09-2013  \\\n",
              "0          2887        2930        3119        3204  ...        3386   \n",
              "1          1066        1164        1558        1756  ...        2106   \n",
              "2             8           9          10          10  ...          10   \n",
              "3          1621        1637        1723        1746  ...        1812   \n",
              "4          1559        1570        1638        1655  ...        1824   \n",
              "..          ...         ...         ...         ...  ...         ...   \n",
              "474          64          65          67          68  ...          72   \n",
              "475         544         537         525         519  ...         492   \n",
              "476         726         715         694         690  ...         665   \n",
              "477         261         263         268         270  ...         264   \n",
              "478         558         563         578         585  ...         605   \n",
              "\n",
              "     22-09-2013  24-09-2013  28-09-2013  10-06-2013  10-12-2013  summer  \\\n",
              "0          3479        3554        3706        3897        4048   13899   \n",
              "1          2454        2710        3258        3911        4277    6216   \n",
              "2            11          11          11          11          11      40   \n",
              "3          1845        1878        1914        1952        1963    7213   \n",
              "4          1919        2032        2252        2544        2736    7706   \n",
              "..          ...         ...         ...         ...         ...     ...   \n",
              "474          73          73          75          77          77     203   \n",
              "475         480         400         360         380         285    1478   \n",
              "476         658         616         586         551         520    2005   \n",
              "477         264         257         255         249         248     769   \n",
              "478         619         628         639         660         680    1763   \n",
              "\n",
              "     autumn  winter  spring  \n",
              "0     26857    9658    2660  \n",
              "1     17311    6405     750  \n",
              "2        82      28       7  \n",
              "3     14411    5012    1455  \n",
              "4     14676    5678    1396  \n",
              "..      ...     ...     ...  \n",
              "474     565     144      60  \n",
              "475    3800     810     560  \n",
              "476    5290    1214     734  \n",
              "477    2117     516     254  \n",
              "478    4828    1258     538  \n",
              "\n",
              "[477 rows x 22 columns]"
            ],
            "text/html": [
              "\n",
              "  <div id=\"df-f6ba3524-eaf6-4a45-820d-0668ddd08efd\" class=\"colab-df-container\">\n",
              "    <div>\n",
              "<style scoped>\n",
              "    .dataframe tbody tr th:only-of-type {\n",
              "        vertical-align: middle;\n",
              "    }\n",
              "\n",
              "    .dataframe tbody tr th {\n",
              "        vertical-align: top;\n",
              "    }\n",
              "\n",
              "    .dataframe thead th {\n",
              "        text-align: right;\n",
              "    }\n",
              "</style>\n",
              "<table border=\"1\" class=\"dataframe\">\n",
              "  <thead>\n",
              "    <tr style=\"text-align: right;\">\n",
              "      <th></th>\n",
              "      <th>Dress_ID</th>\n",
              "      <th>29-08-2013</th>\n",
              "      <th>31-08-2013</th>\n",
              "      <th>09-02-2013</th>\n",
              "      <th>09-04-2013</th>\n",
              "      <th>09-06-2013</th>\n",
              "      <th>09-08-2013</th>\n",
              "      <th>09-10-2013</th>\n",
              "      <th>09-12-2013</th>\n",
              "      <th>14-09-2013</th>\n",
              "      <th>...</th>\n",
              "      <th>20-09-2013</th>\n",
              "      <th>22-09-2013</th>\n",
              "      <th>24-09-2013</th>\n",
              "      <th>28-09-2013</th>\n",
              "      <th>10-06-2013</th>\n",
              "      <th>10-12-2013</th>\n",
              "      <th>summer</th>\n",
              "      <th>autumn</th>\n",
              "      <th>winter</th>\n",
              "      <th>spring</th>\n",
              "    </tr>\n",
              "  </thead>\n",
              "  <tbody>\n",
              "    <tr>\n",
              "      <th>0</th>\n",
              "      <td>1.006033e+09</td>\n",
              "      <td>2114</td>\n",
              "      <td>2274</td>\n",
              "      <td>2491</td>\n",
              "      <td>2660</td>\n",
              "      <td>2727</td>\n",
              "      <td>2887</td>\n",
              "      <td>2930</td>\n",
              "      <td>3119</td>\n",
              "      <td>3204</td>\n",
              "      <td>...</td>\n",
              "      <td>3386</td>\n",
              "      <td>3479</td>\n",
              "      <td>3554</td>\n",
              "      <td>3706</td>\n",
              "      <td>3897</td>\n",
              "      <td>4048</td>\n",
              "      <td>13899</td>\n",
              "      <td>26857</td>\n",
              "      <td>9658</td>\n",
              "      <td>2660</td>\n",
              "    </tr>\n",
              "    <tr>\n",
              "      <th>1</th>\n",
              "      <td>1.212192e+09</td>\n",
              "      <td>151</td>\n",
              "      <td>275</td>\n",
              "      <td>570</td>\n",
              "      <td>750</td>\n",
              "      <td>813</td>\n",
              "      <td>1066</td>\n",
              "      <td>1164</td>\n",
              "      <td>1558</td>\n",
              "      <td>1756</td>\n",
              "      <td>...</td>\n",
              "      <td>2106</td>\n",
              "      <td>2454</td>\n",
              "      <td>2710</td>\n",
              "      <td>3258</td>\n",
              "      <td>3911</td>\n",
              "      <td>4277</td>\n",
              "      <td>6216</td>\n",
              "      <td>17311</td>\n",
              "      <td>6405</td>\n",
              "      <td>750</td>\n",
              "    </tr>\n",
              "    <tr>\n",
              "      <th>2</th>\n",
              "      <td>1.190381e+09</td>\n",
              "      <td>6</td>\n",
              "      <td>7</td>\n",
              "      <td>7</td>\n",
              "      <td>7</td>\n",
              "      <td>8</td>\n",
              "      <td>8</td>\n",
              "      <td>9</td>\n",
              "      <td>10</td>\n",
              "      <td>10</td>\n",
              "      <td>...</td>\n",
              "      <td>10</td>\n",
              "      <td>11</td>\n",
              "      <td>11</td>\n",
              "      <td>11</td>\n",
              "      <td>11</td>\n",
              "      <td>11</td>\n",
              "      <td>40</td>\n",
              "      <td>82</td>\n",
              "      <td>28</td>\n",
              "      <td>7</td>\n",
              "    </tr>\n",
              "    <tr>\n",
              "      <th>3</th>\n",
              "      <td>9.660060e+08</td>\n",
              "      <td>1005</td>\n",
              "      <td>1128</td>\n",
              "      <td>1326</td>\n",
              "      <td>1455</td>\n",
              "      <td>1507</td>\n",
              "      <td>1621</td>\n",
              "      <td>1637</td>\n",
              "      <td>1723</td>\n",
              "      <td>1746</td>\n",
              "      <td>...</td>\n",
              "      <td>1812</td>\n",
              "      <td>1845</td>\n",
              "      <td>1878</td>\n",
              "      <td>1914</td>\n",
              "      <td>1952</td>\n",
              "      <td>1963</td>\n",
              "      <td>7213</td>\n",
              "      <td>14411</td>\n",
              "      <td>5012</td>\n",
              "      <td>1455</td>\n",
              "    </tr>\n",
              "    <tr>\n",
              "      <th>4</th>\n",
              "      <td>8.763395e+08</td>\n",
              "      <td>996</td>\n",
              "      <td>1175</td>\n",
              "      <td>1304</td>\n",
              "      <td>1396</td>\n",
              "      <td>1432</td>\n",
              "      <td>1559</td>\n",
              "      <td>1570</td>\n",
              "      <td>1638</td>\n",
              "      <td>1655</td>\n",
              "      <td>...</td>\n",
              "      <td>1824</td>\n",
              "      <td>1919</td>\n",
              "      <td>2032</td>\n",
              "      <td>2252</td>\n",
              "      <td>2544</td>\n",
              "      <td>2736</td>\n",
              "      <td>7706</td>\n",
              "      <td>14676</td>\n",
              "      <td>5678</td>\n",
              "      <td>1396</td>\n",
              "    </tr>\n",
              "    <tr>\n",
              "      <th>...</th>\n",
              "      <td>...</td>\n",
              "      <td>...</td>\n",
              "      <td>...</td>\n",
              "      <td>...</td>\n",
              "      <td>...</td>\n",
              "      <td>...</td>\n",
              "      <td>...</td>\n",
              "      <td>...</td>\n",
              "      <td>...</td>\n",
              "      <td>...</td>\n",
              "      <td>...</td>\n",
              "      <td>...</td>\n",
              "      <td>...</td>\n",
              "      <td>...</td>\n",
              "      <td>...</td>\n",
              "      <td>...</td>\n",
              "      <td>...</td>\n",
              "      <td>...</td>\n",
              "      <td>...</td>\n",
              "      <td>...</td>\n",
              "      <td>...</td>\n",
              "    </tr>\n",
              "    <tr>\n",
              "      <th>474</th>\n",
              "      <td>9.905592e+08</td>\n",
              "      <td>0</td>\n",
              "      <td>0</td>\n",
              "      <td>0</td>\n",
              "      <td>60</td>\n",
              "      <td>62</td>\n",
              "      <td>64</td>\n",
              "      <td>65</td>\n",
              "      <td>67</td>\n",
              "      <td>68</td>\n",
              "      <td>...</td>\n",
              "      <td>72</td>\n",
              "      <td>73</td>\n",
              "      <td>73</td>\n",
              "      <td>75</td>\n",
              "      <td>77</td>\n",
              "      <td>77</td>\n",
              "      <td>203</td>\n",
              "      <td>565</td>\n",
              "      <td>144</td>\n",
              "      <td>60</td>\n",
              "    </tr>\n",
              "    <tr>\n",
              "      <th>475</th>\n",
              "      <td>7.133920e+08</td>\n",
              "      <td>0</td>\n",
              "      <td>0</td>\n",
              "      <td>0</td>\n",
              "      <td>560</td>\n",
              "      <td>554</td>\n",
              "      <td>544</td>\n",
              "      <td>537</td>\n",
              "      <td>525</td>\n",
              "      <td>519</td>\n",
              "      <td>...</td>\n",
              "      <td>492</td>\n",
              "      <td>480</td>\n",
              "      <td>400</td>\n",
              "      <td>360</td>\n",
              "      <td>380</td>\n",
              "      <td>285</td>\n",
              "      <td>1478</td>\n",
              "      <td>3800</td>\n",
              "      <td>810</td>\n",
              "      <td>560</td>\n",
              "    </tr>\n",
              "    <tr>\n",
              "      <th>476</th>\n",
              "      <td>5.328743e+08</td>\n",
              "      <td>0</td>\n",
              "      <td>0</td>\n",
              "      <td>0</td>\n",
              "      <td>734</td>\n",
              "      <td>728</td>\n",
              "      <td>726</td>\n",
              "      <td>715</td>\n",
              "      <td>694</td>\n",
              "      <td>690</td>\n",
              "      <td>...</td>\n",
              "      <td>665</td>\n",
              "      <td>658</td>\n",
              "      <td>616</td>\n",
              "      <td>586</td>\n",
              "      <td>551</td>\n",
              "      <td>520</td>\n",
              "      <td>2005</td>\n",
              "      <td>5290</td>\n",
              "      <td>1214</td>\n",
              "      <td>734</td>\n",
              "    </tr>\n",
              "    <tr>\n",
              "      <th>477</th>\n",
              "      <td>6.554649e+08</td>\n",
              "      <td>0</td>\n",
              "      <td>0</td>\n",
              "      <td>0</td>\n",
              "      <td>254</td>\n",
              "      <td>259</td>\n",
              "      <td>261</td>\n",
              "      <td>263</td>\n",
              "      <td>268</td>\n",
              "      <td>270</td>\n",
              "      <td>...</td>\n",
              "      <td>264</td>\n",
              "      <td>264</td>\n",
              "      <td>257</td>\n",
              "      <td>255</td>\n",
              "      <td>249</td>\n",
              "      <td>248</td>\n",
              "      <td>769</td>\n",
              "      <td>2117</td>\n",
              "      <td>516</td>\n",
              "      <td>254</td>\n",
              "    </tr>\n",
              "    <tr>\n",
              "      <th>478</th>\n",
              "      <td>9.199310e+08</td>\n",
              "      <td>0</td>\n",
              "      <td>0</td>\n",
              "      <td>0</td>\n",
              "      <td>538</td>\n",
              "      <td>545</td>\n",
              "      <td>558</td>\n",
              "      <td>563</td>\n",
              "      <td>578</td>\n",
              "      <td>585</td>\n",
              "      <td>...</td>\n",
              "      <td>605</td>\n",
              "      <td>619</td>\n",
              "      <td>628</td>\n",
              "      <td>639</td>\n",
              "      <td>660</td>\n",
              "      <td>680</td>\n",
              "      <td>1763</td>\n",
              "      <td>4828</td>\n",
              "      <td>1258</td>\n",
              "      <td>538</td>\n",
              "    </tr>\n",
              "  </tbody>\n",
              "</table>\n",
              "<p>477 rows × 22 columns</p>\n",
              "</div>\n",
              "    <div class=\"colab-df-buttons\">\n",
              "\n",
              "  <div class=\"colab-df-container\">\n",
              "    <button class=\"colab-df-convert\" onclick=\"convertToInteractive('df-f6ba3524-eaf6-4a45-820d-0668ddd08efd')\"\n",
              "            title=\"Convert this dataframe to an interactive table.\"\n",
              "            style=\"display:none;\">\n",
              "\n",
              "  <svg xmlns=\"http://www.w3.org/2000/svg\" height=\"24px\" viewBox=\"0 -960 960 960\">\n",
              "    <path d=\"M120-120v-720h720v720H120Zm60-500h600v-160H180v160Zm220 220h160v-160H400v160Zm0 220h160v-160H400v160ZM180-400h160v-160H180v160Zm440 0h160v-160H620v160ZM180-180h160v-160H180v160Zm440 0h160v-160H620v160Z\"/>\n",
              "  </svg>\n",
              "    </button>\n",
              "\n",
              "  <style>\n",
              "    .colab-df-container {\n",
              "      display:flex;\n",
              "      gap: 12px;\n",
              "    }\n",
              "\n",
              "    .colab-df-convert {\n",
              "      background-color: #E8F0FE;\n",
              "      border: none;\n",
              "      border-radius: 50%;\n",
              "      cursor: pointer;\n",
              "      display: none;\n",
              "      fill: #1967D2;\n",
              "      height: 32px;\n",
              "      padding: 0 0 0 0;\n",
              "      width: 32px;\n",
              "    }\n",
              "\n",
              "    .colab-df-convert:hover {\n",
              "      background-color: #E2EBFA;\n",
              "      box-shadow: 0px 1px 2px rgba(60, 64, 67, 0.3), 0px 1px 3px 1px rgba(60, 64, 67, 0.15);\n",
              "      fill: #174EA6;\n",
              "    }\n",
              "\n",
              "    .colab-df-buttons div {\n",
              "      margin-bottom: 4px;\n",
              "    }\n",
              "\n",
              "    [theme=dark] .colab-df-convert {\n",
              "      background-color: #3B4455;\n",
              "      fill: #D2E3FC;\n",
              "    }\n",
              "\n",
              "    [theme=dark] .colab-df-convert:hover {\n",
              "      background-color: #434B5C;\n",
              "      box-shadow: 0px 1px 3px 1px rgba(0, 0, 0, 0.15);\n",
              "      filter: drop-shadow(0px 1px 2px rgba(0, 0, 0, 0.3));\n",
              "      fill: #FFFFFF;\n",
              "    }\n",
              "  </style>\n",
              "\n",
              "    <script>\n",
              "      const buttonEl =\n",
              "        document.querySelector('#df-f6ba3524-eaf6-4a45-820d-0668ddd08efd button.colab-df-convert');\n",
              "      buttonEl.style.display =\n",
              "        google.colab.kernel.accessAllowed ? 'block' : 'none';\n",
              "\n",
              "      async function convertToInteractive(key) {\n",
              "        const element = document.querySelector('#df-f6ba3524-eaf6-4a45-820d-0668ddd08efd');\n",
              "        const dataTable =\n",
              "          await google.colab.kernel.invokeFunction('convertToInteractive',\n",
              "                                                    [key], {});\n",
              "        if (!dataTable) return;\n",
              "\n",
              "        const docLinkHtml = 'Like what you see? Visit the ' +\n",
              "          '<a target=\"_blank\" href=https://colab.research.google.com/notebooks/data_table.ipynb>data table notebook</a>'\n",
              "          + ' to learn more about interactive tables.';\n",
              "        element.innerHTML = '';\n",
              "        dataTable['output_type'] = 'display_data';\n",
              "        await google.colab.output.renderOutput(dataTable, element);\n",
              "        const docLink = document.createElement('div');\n",
              "        docLink.innerHTML = docLinkHtml;\n",
              "        element.appendChild(docLink);\n",
              "      }\n",
              "    </script>\n",
              "  </div>\n",
              "\n",
              "\n",
              "<div id=\"df-c159847c-7eb9-451c-a850-1cd4581c2013\">\n",
              "  <button class=\"colab-df-quickchart\" onclick=\"quickchart('df-c159847c-7eb9-451c-a850-1cd4581c2013')\"\n",
              "            title=\"Suggest charts\"\n",
              "            style=\"display:none;\">\n",
              "\n",
              "<svg xmlns=\"http://www.w3.org/2000/svg\" height=\"24px\"viewBox=\"0 0 24 24\"\n",
              "     width=\"24px\">\n",
              "    <g>\n",
              "        <path d=\"M19 3H5c-1.1 0-2 .9-2 2v14c0 1.1.9 2 2 2h14c1.1 0 2-.9 2-2V5c0-1.1-.9-2-2-2zM9 17H7v-7h2v7zm4 0h-2V7h2v10zm4 0h-2v-4h2v4z\"/>\n",
              "    </g>\n",
              "</svg>\n",
              "  </button>\n",
              "\n",
              "<style>\n",
              "  .colab-df-quickchart {\n",
              "      --bg-color: #E8F0FE;\n",
              "      --fill-color: #1967D2;\n",
              "      --hover-bg-color: #E2EBFA;\n",
              "      --hover-fill-color: #174EA6;\n",
              "      --disabled-fill-color: #AAA;\n",
              "      --disabled-bg-color: #DDD;\n",
              "  }\n",
              "\n",
              "  [theme=dark] .colab-df-quickchart {\n",
              "      --bg-color: #3B4455;\n",
              "      --fill-color: #D2E3FC;\n",
              "      --hover-bg-color: #434B5C;\n",
              "      --hover-fill-color: #FFFFFF;\n",
              "      --disabled-bg-color: #3B4455;\n",
              "      --disabled-fill-color: #666;\n",
              "  }\n",
              "\n",
              "  .colab-df-quickchart {\n",
              "    background-color: var(--bg-color);\n",
              "    border: none;\n",
              "    border-radius: 50%;\n",
              "    cursor: pointer;\n",
              "    display: none;\n",
              "    fill: var(--fill-color);\n",
              "    height: 32px;\n",
              "    padding: 0;\n",
              "    width: 32px;\n",
              "  }\n",
              "\n",
              "  .colab-df-quickchart:hover {\n",
              "    background-color: var(--hover-bg-color);\n",
              "    box-shadow: 0 1px 2px rgba(60, 64, 67, 0.3), 0 1px 3px 1px rgba(60, 64, 67, 0.15);\n",
              "    fill: var(--button-hover-fill-color);\n",
              "  }\n",
              "\n",
              "  .colab-df-quickchart-complete:disabled,\n",
              "  .colab-df-quickchart-complete:disabled:hover {\n",
              "    background-color: var(--disabled-bg-color);\n",
              "    fill: var(--disabled-fill-color);\n",
              "    box-shadow: none;\n",
              "  }\n",
              "\n",
              "  .colab-df-spinner {\n",
              "    border: 2px solid var(--fill-color);\n",
              "    border-color: transparent;\n",
              "    border-bottom-color: var(--fill-color);\n",
              "    animation:\n",
              "      spin 1s steps(1) infinite;\n",
              "  }\n",
              "\n",
              "  @keyframes spin {\n",
              "    0% {\n",
              "      border-color: transparent;\n",
              "      border-bottom-color: var(--fill-color);\n",
              "      border-left-color: var(--fill-color);\n",
              "    }\n",
              "    20% {\n",
              "      border-color: transparent;\n",
              "      border-left-color: var(--fill-color);\n",
              "      border-top-color: var(--fill-color);\n",
              "    }\n",
              "    30% {\n",
              "      border-color: transparent;\n",
              "      border-left-color: var(--fill-color);\n",
              "      border-top-color: var(--fill-color);\n",
              "      border-right-color: var(--fill-color);\n",
              "    }\n",
              "    40% {\n",
              "      border-color: transparent;\n",
              "      border-right-color: var(--fill-color);\n",
              "      border-top-color: var(--fill-color);\n",
              "    }\n",
              "    60% {\n",
              "      border-color: transparent;\n",
              "      border-right-color: var(--fill-color);\n",
              "    }\n",
              "    80% {\n",
              "      border-color: transparent;\n",
              "      border-right-color: var(--fill-color);\n",
              "      border-bottom-color: var(--fill-color);\n",
              "    }\n",
              "    90% {\n",
              "      border-color: transparent;\n",
              "      border-bottom-color: var(--fill-color);\n",
              "    }\n",
              "  }\n",
              "</style>\n",
              "\n",
              "  <script>\n",
              "    async function quickchart(key) {\n",
              "      const quickchartButtonEl =\n",
              "        document.querySelector('#' + key + ' button');\n",
              "      quickchartButtonEl.disabled = true;  // To prevent multiple clicks.\n",
              "      quickchartButtonEl.classList.add('colab-df-spinner');\n",
              "      try {\n",
              "        const charts = await google.colab.kernel.invokeFunction(\n",
              "            'suggestCharts', [key], {});\n",
              "      } catch (error) {\n",
              "        console.error('Error during call to suggestCharts:', error);\n",
              "      }\n",
              "      quickchartButtonEl.classList.remove('colab-df-spinner');\n",
              "      quickchartButtonEl.classList.add('colab-df-quickchart-complete');\n",
              "    }\n",
              "    (() => {\n",
              "      let quickchartButtonEl =\n",
              "        document.querySelector('#df-c159847c-7eb9-451c-a850-1cd4581c2013 button');\n",
              "      quickchartButtonEl.style.display =\n",
              "        google.colab.kernel.accessAllowed ? 'block' : 'none';\n",
              "    })();\n",
              "  </script>\n",
              "</div>\n",
              "\n",
              "  <div id=\"id_c1b0dedb-bfe1-450c-b1ca-198993d3d798\">\n",
              "    <style>\n",
              "      .colab-df-generate {\n",
              "        background-color: #E8F0FE;\n",
              "        border: none;\n",
              "        border-radius: 50%;\n",
              "        cursor: pointer;\n",
              "        display: none;\n",
              "        fill: #1967D2;\n",
              "        height: 32px;\n",
              "        padding: 0 0 0 0;\n",
              "        width: 32px;\n",
              "      }\n",
              "\n",
              "      .colab-df-generate:hover {\n",
              "        background-color: #E2EBFA;\n",
              "        box-shadow: 0px 1px 2px rgba(60, 64, 67, 0.3), 0px 1px 3px 1px rgba(60, 64, 67, 0.15);\n",
              "        fill: #174EA6;\n",
              "      }\n",
              "\n",
              "      [theme=dark] .colab-df-generate {\n",
              "        background-color: #3B4455;\n",
              "        fill: #D2E3FC;\n",
              "      }\n",
              "\n",
              "      [theme=dark] .colab-df-generate:hover {\n",
              "        background-color: #434B5C;\n",
              "        box-shadow: 0px 1px 3px 1px rgba(0, 0, 0, 0.15);\n",
              "        filter: drop-shadow(0px 1px 2px rgba(0, 0, 0, 0.3));\n",
              "        fill: #FFFFFF;\n",
              "      }\n",
              "    </style>\n",
              "    <button class=\"colab-df-generate\" onclick=\"generateWithVariable('sale')\"\n",
              "            title=\"Generate code using this dataframe.\"\n",
              "            style=\"display:none;\">\n",
              "\n",
              "  <svg xmlns=\"http://www.w3.org/2000/svg\" height=\"24px\"viewBox=\"0 0 24 24\"\n",
              "       width=\"24px\">\n",
              "    <path d=\"M7,19H8.4L18.45,9,17,7.55,7,17.6ZM5,21V16.75L18.45,3.32a2,2,0,0,1,2.83,0l1.4,1.43a1.91,1.91,0,0,1,.58,1.4,1.91,1.91,0,0,1-.58,1.4L9.25,21ZM18.45,9,17,7.55Zm-12,3A5.31,5.31,0,0,0,4.9,8.1,5.31,5.31,0,0,0,1,6.5,5.31,5.31,0,0,0,4.9,4.9,5.31,5.31,0,0,0,6.5,1,5.31,5.31,0,0,0,8.1,4.9,5.31,5.31,0,0,0,12,6.5,5.46,5.46,0,0,0,6.5,12Z\"/>\n",
              "  </svg>\n",
              "    </button>\n",
              "    <script>\n",
              "      (() => {\n",
              "      const buttonEl =\n",
              "        document.querySelector('#id_c1b0dedb-bfe1-450c-b1ca-198993d3d798 button.colab-df-generate');\n",
              "      buttonEl.style.display =\n",
              "        google.colab.kernel.accessAllowed ? 'block' : 'none';\n",
              "\n",
              "      buttonEl.onclick = () => {\n",
              "        google.colab.notebook.generateWithVariable('sale');\n",
              "      }\n",
              "      })();\n",
              "    </script>\n",
              "  </div>\n",
              "\n",
              "    </div>\n",
              "  </div>\n"
            ],
            "application/vnd.google.colaboratory.intrinsic+json": {
              "type": "dataframe",
              "variable_name": "sale"
            }
          },
          "metadata": {},
          "execution_count": 40
        }
      ],
      "source": [
        "# calculate the sum of sales in each seasons in inp1 i.e. \"Dress Sales\".\n",
        "sale"
      ]
    },
    {
      "cell_type": "markdown",
      "metadata": {
        "id": "6-ZCnee2j7Ye"
      },
      "source": [
        "Now let's merge inp1 with inp0 with left join manner, so that the information of inp0 should remain intact."
      ]
    },
    {
      "cell_type": "code",
      "execution_count": 41,
      "metadata": {
        "id": "2Xl3l_lej7Ye",
        "colab": {
          "base_uri": "https://localhost:8080/",
          "height": 253
        },
        "outputId": "fee3ec8b-c2ad-4935-b3c8-7dccf1c3571e"
      },
      "outputs": [
        {
          "output_type": "execute_result",
          "data": {
            "text/plain": [
              "     Dress_ID    Style    Price  Rating    Size  Season NeckLine SleeveLength  \\\n",
              "0  1006032852     Sexy      Low     4.6  Medium  Summer   o-neck    sleevless   \n",
              "1  1212192089   Casual      Low     0.0   Large  Summer   o-neck        Petal   \n",
              "2  1190380701  vintage     High     0.0   Large  Automn   o-neck         full   \n",
              "3   966005983    Brief  Average     4.6   Large  Spring   o-neck         full   \n",
              "4   876339541     cute      Low     4.5  Medium  Summer   o-neck    butterfly   \n",
              "\n",
              "        Material FabricType  ... 20-09-2013 22-09-2013  24-09-2013  \\\n",
              "0            NaN    chiffon  ...     3386.0     3479.0      3554.0   \n",
              "1     microfiber        NaN  ...     2106.0     2454.0      2710.0   \n",
              "2       polyster        NaN  ...       10.0       11.0        11.0   \n",
              "3           silk    chiffon  ...     1812.0     1845.0      1878.0   \n",
              "4  chiffonfabric    chiffon  ...     1824.0     1919.0      2032.0   \n",
              "\n",
              "   28-09-2013  10-06-2013  10-12-2013   summer   autumn  winter  spring  \n",
              "0      3706.0      3897.0      4048.0  13899.0  26857.0  9658.0  2660.0  \n",
              "1      3258.0      3911.0      4277.0   6216.0  17311.0  6405.0   750.0  \n",
              "2        11.0        11.0        11.0     40.0     82.0    28.0     7.0  \n",
              "3      1914.0      1952.0      1963.0   7213.0  14411.0  5012.0  1455.0  \n",
              "4      2252.0      2544.0      2736.0   7706.0  14676.0  5678.0  1396.0  \n",
              "\n",
              "[5 rows x 34 columns]"
            ],
            "text/html": [
              "\n",
              "  <div id=\"df-fdfa3f14-ce9f-4177-9e36-fddf3060cf8f\" class=\"colab-df-container\">\n",
              "    <div>\n",
              "<style scoped>\n",
              "    .dataframe tbody tr th:only-of-type {\n",
              "        vertical-align: middle;\n",
              "    }\n",
              "\n",
              "    .dataframe tbody tr th {\n",
              "        vertical-align: top;\n",
              "    }\n",
              "\n",
              "    .dataframe thead th {\n",
              "        text-align: right;\n",
              "    }\n",
              "</style>\n",
              "<table border=\"1\" class=\"dataframe\">\n",
              "  <thead>\n",
              "    <tr style=\"text-align: right;\">\n",
              "      <th></th>\n",
              "      <th>Dress_ID</th>\n",
              "      <th>Style</th>\n",
              "      <th>Price</th>\n",
              "      <th>Rating</th>\n",
              "      <th>Size</th>\n",
              "      <th>Season</th>\n",
              "      <th>NeckLine</th>\n",
              "      <th>SleeveLength</th>\n",
              "      <th>Material</th>\n",
              "      <th>FabricType</th>\n",
              "      <th>...</th>\n",
              "      <th>20-09-2013</th>\n",
              "      <th>22-09-2013</th>\n",
              "      <th>24-09-2013</th>\n",
              "      <th>28-09-2013</th>\n",
              "      <th>10-06-2013</th>\n",
              "      <th>10-12-2013</th>\n",
              "      <th>summer</th>\n",
              "      <th>autumn</th>\n",
              "      <th>winter</th>\n",
              "      <th>spring</th>\n",
              "    </tr>\n",
              "  </thead>\n",
              "  <tbody>\n",
              "    <tr>\n",
              "      <th>0</th>\n",
              "      <td>1006032852</td>\n",
              "      <td>Sexy</td>\n",
              "      <td>Low</td>\n",
              "      <td>4.6</td>\n",
              "      <td>Medium</td>\n",
              "      <td>Summer</td>\n",
              "      <td>o-neck</td>\n",
              "      <td>sleevless</td>\n",
              "      <td>NaN</td>\n",
              "      <td>chiffon</td>\n",
              "      <td>...</td>\n",
              "      <td>3386.0</td>\n",
              "      <td>3479.0</td>\n",
              "      <td>3554.0</td>\n",
              "      <td>3706.0</td>\n",
              "      <td>3897.0</td>\n",
              "      <td>4048.0</td>\n",
              "      <td>13899.0</td>\n",
              "      <td>26857.0</td>\n",
              "      <td>9658.0</td>\n",
              "      <td>2660.0</td>\n",
              "    </tr>\n",
              "    <tr>\n",
              "      <th>1</th>\n",
              "      <td>1212192089</td>\n",
              "      <td>Casual</td>\n",
              "      <td>Low</td>\n",
              "      <td>0.0</td>\n",
              "      <td>Large</td>\n",
              "      <td>Summer</td>\n",
              "      <td>o-neck</td>\n",
              "      <td>Petal</td>\n",
              "      <td>microfiber</td>\n",
              "      <td>NaN</td>\n",
              "      <td>...</td>\n",
              "      <td>2106.0</td>\n",
              "      <td>2454.0</td>\n",
              "      <td>2710.0</td>\n",
              "      <td>3258.0</td>\n",
              "      <td>3911.0</td>\n",
              "      <td>4277.0</td>\n",
              "      <td>6216.0</td>\n",
              "      <td>17311.0</td>\n",
              "      <td>6405.0</td>\n",
              "      <td>750.0</td>\n",
              "    </tr>\n",
              "    <tr>\n",
              "      <th>2</th>\n",
              "      <td>1190380701</td>\n",
              "      <td>vintage</td>\n",
              "      <td>High</td>\n",
              "      <td>0.0</td>\n",
              "      <td>Large</td>\n",
              "      <td>Automn</td>\n",
              "      <td>o-neck</td>\n",
              "      <td>full</td>\n",
              "      <td>polyster</td>\n",
              "      <td>NaN</td>\n",
              "      <td>...</td>\n",
              "      <td>10.0</td>\n",
              "      <td>11.0</td>\n",
              "      <td>11.0</td>\n",
              "      <td>11.0</td>\n",
              "      <td>11.0</td>\n",
              "      <td>11.0</td>\n",
              "      <td>40.0</td>\n",
              "      <td>82.0</td>\n",
              "      <td>28.0</td>\n",
              "      <td>7.0</td>\n",
              "    </tr>\n",
              "    <tr>\n",
              "      <th>3</th>\n",
              "      <td>966005983</td>\n",
              "      <td>Brief</td>\n",
              "      <td>Average</td>\n",
              "      <td>4.6</td>\n",
              "      <td>Large</td>\n",
              "      <td>Spring</td>\n",
              "      <td>o-neck</td>\n",
              "      <td>full</td>\n",
              "      <td>silk</td>\n",
              "      <td>chiffon</td>\n",
              "      <td>...</td>\n",
              "      <td>1812.0</td>\n",
              "      <td>1845.0</td>\n",
              "      <td>1878.0</td>\n",
              "      <td>1914.0</td>\n",
              "      <td>1952.0</td>\n",
              "      <td>1963.0</td>\n",
              "      <td>7213.0</td>\n",
              "      <td>14411.0</td>\n",
              "      <td>5012.0</td>\n",
              "      <td>1455.0</td>\n",
              "    </tr>\n",
              "    <tr>\n",
              "      <th>4</th>\n",
              "      <td>876339541</td>\n",
              "      <td>cute</td>\n",
              "      <td>Low</td>\n",
              "      <td>4.5</td>\n",
              "      <td>Medium</td>\n",
              "      <td>Summer</td>\n",
              "      <td>o-neck</td>\n",
              "      <td>butterfly</td>\n",
              "      <td>chiffonfabric</td>\n",
              "      <td>chiffon</td>\n",
              "      <td>...</td>\n",
              "      <td>1824.0</td>\n",
              "      <td>1919.0</td>\n",
              "      <td>2032.0</td>\n",
              "      <td>2252.0</td>\n",
              "      <td>2544.0</td>\n",
              "      <td>2736.0</td>\n",
              "      <td>7706.0</td>\n",
              "      <td>14676.0</td>\n",
              "      <td>5678.0</td>\n",
              "      <td>1396.0</td>\n",
              "    </tr>\n",
              "  </tbody>\n",
              "</table>\n",
              "<p>5 rows × 34 columns</p>\n",
              "</div>\n",
              "    <div class=\"colab-df-buttons\">\n",
              "\n",
              "  <div class=\"colab-df-container\">\n",
              "    <button class=\"colab-df-convert\" onclick=\"convertToInteractive('df-fdfa3f14-ce9f-4177-9e36-fddf3060cf8f')\"\n",
              "            title=\"Convert this dataframe to an interactive table.\"\n",
              "            style=\"display:none;\">\n",
              "\n",
              "  <svg xmlns=\"http://www.w3.org/2000/svg\" height=\"24px\" viewBox=\"0 -960 960 960\">\n",
              "    <path d=\"M120-120v-720h720v720H120Zm60-500h600v-160H180v160Zm220 220h160v-160H400v160Zm0 220h160v-160H400v160ZM180-400h160v-160H180v160Zm440 0h160v-160H620v160ZM180-180h160v-160H180v160Zm440 0h160v-160H620v160Z\"/>\n",
              "  </svg>\n",
              "    </button>\n",
              "\n",
              "  <style>\n",
              "    .colab-df-container {\n",
              "      display:flex;\n",
              "      gap: 12px;\n",
              "    }\n",
              "\n",
              "    .colab-df-convert {\n",
              "      background-color: #E8F0FE;\n",
              "      border: none;\n",
              "      border-radius: 50%;\n",
              "      cursor: pointer;\n",
              "      display: none;\n",
              "      fill: #1967D2;\n",
              "      height: 32px;\n",
              "      padding: 0 0 0 0;\n",
              "      width: 32px;\n",
              "    }\n",
              "\n",
              "    .colab-df-convert:hover {\n",
              "      background-color: #E2EBFA;\n",
              "      box-shadow: 0px 1px 2px rgba(60, 64, 67, 0.3), 0px 1px 3px 1px rgba(60, 64, 67, 0.15);\n",
              "      fill: #174EA6;\n",
              "    }\n",
              "\n",
              "    .colab-df-buttons div {\n",
              "      margin-bottom: 4px;\n",
              "    }\n",
              "\n",
              "    [theme=dark] .colab-df-convert {\n",
              "      background-color: #3B4455;\n",
              "      fill: #D2E3FC;\n",
              "    }\n",
              "\n",
              "    [theme=dark] .colab-df-convert:hover {\n",
              "      background-color: #434B5C;\n",
              "      box-shadow: 0px 1px 3px 1px rgba(0, 0, 0, 0.15);\n",
              "      filter: drop-shadow(0px 1px 2px rgba(0, 0, 0, 0.3));\n",
              "      fill: #FFFFFF;\n",
              "    }\n",
              "  </style>\n",
              "\n",
              "    <script>\n",
              "      const buttonEl =\n",
              "        document.querySelector('#df-fdfa3f14-ce9f-4177-9e36-fddf3060cf8f button.colab-df-convert');\n",
              "      buttonEl.style.display =\n",
              "        google.colab.kernel.accessAllowed ? 'block' : 'none';\n",
              "\n",
              "      async function convertToInteractive(key) {\n",
              "        const element = document.querySelector('#df-fdfa3f14-ce9f-4177-9e36-fddf3060cf8f');\n",
              "        const dataTable =\n",
              "          await google.colab.kernel.invokeFunction('convertToInteractive',\n",
              "                                                    [key], {});\n",
              "        if (!dataTable) return;\n",
              "\n",
              "        const docLinkHtml = 'Like what you see? Visit the ' +\n",
              "          '<a target=\"_blank\" href=https://colab.research.google.com/notebooks/data_table.ipynb>data table notebook</a>'\n",
              "          + ' to learn more about interactive tables.';\n",
              "        element.innerHTML = '';\n",
              "        dataTable['output_type'] = 'display_data';\n",
              "        await google.colab.output.renderOutput(dataTable, element);\n",
              "        const docLink = document.createElement('div');\n",
              "        docLink.innerHTML = docLinkHtml;\n",
              "        element.appendChild(docLink);\n",
              "      }\n",
              "    </script>\n",
              "  </div>\n",
              "\n",
              "\n",
              "<div id=\"df-d85a2213-e192-49bb-bc2c-b177fdb812d6\">\n",
              "  <button class=\"colab-df-quickchart\" onclick=\"quickchart('df-d85a2213-e192-49bb-bc2c-b177fdb812d6')\"\n",
              "            title=\"Suggest charts\"\n",
              "            style=\"display:none;\">\n",
              "\n",
              "<svg xmlns=\"http://www.w3.org/2000/svg\" height=\"24px\"viewBox=\"0 0 24 24\"\n",
              "     width=\"24px\">\n",
              "    <g>\n",
              "        <path d=\"M19 3H5c-1.1 0-2 .9-2 2v14c0 1.1.9 2 2 2h14c1.1 0 2-.9 2-2V5c0-1.1-.9-2-2-2zM9 17H7v-7h2v7zm4 0h-2V7h2v10zm4 0h-2v-4h2v4z\"/>\n",
              "    </g>\n",
              "</svg>\n",
              "  </button>\n",
              "\n",
              "<style>\n",
              "  .colab-df-quickchart {\n",
              "      --bg-color: #E8F0FE;\n",
              "      --fill-color: #1967D2;\n",
              "      --hover-bg-color: #E2EBFA;\n",
              "      --hover-fill-color: #174EA6;\n",
              "      --disabled-fill-color: #AAA;\n",
              "      --disabled-bg-color: #DDD;\n",
              "  }\n",
              "\n",
              "  [theme=dark] .colab-df-quickchart {\n",
              "      --bg-color: #3B4455;\n",
              "      --fill-color: #D2E3FC;\n",
              "      --hover-bg-color: #434B5C;\n",
              "      --hover-fill-color: #FFFFFF;\n",
              "      --disabled-bg-color: #3B4455;\n",
              "      --disabled-fill-color: #666;\n",
              "  }\n",
              "\n",
              "  .colab-df-quickchart {\n",
              "    background-color: var(--bg-color);\n",
              "    border: none;\n",
              "    border-radius: 50%;\n",
              "    cursor: pointer;\n",
              "    display: none;\n",
              "    fill: var(--fill-color);\n",
              "    height: 32px;\n",
              "    padding: 0;\n",
              "    width: 32px;\n",
              "  }\n",
              "\n",
              "  .colab-df-quickchart:hover {\n",
              "    background-color: var(--hover-bg-color);\n",
              "    box-shadow: 0 1px 2px rgba(60, 64, 67, 0.3), 0 1px 3px 1px rgba(60, 64, 67, 0.15);\n",
              "    fill: var(--button-hover-fill-color);\n",
              "  }\n",
              "\n",
              "  .colab-df-quickchart-complete:disabled,\n",
              "  .colab-df-quickchart-complete:disabled:hover {\n",
              "    background-color: var(--disabled-bg-color);\n",
              "    fill: var(--disabled-fill-color);\n",
              "    box-shadow: none;\n",
              "  }\n",
              "\n",
              "  .colab-df-spinner {\n",
              "    border: 2px solid var(--fill-color);\n",
              "    border-color: transparent;\n",
              "    border-bottom-color: var(--fill-color);\n",
              "    animation:\n",
              "      spin 1s steps(1) infinite;\n",
              "  }\n",
              "\n",
              "  @keyframes spin {\n",
              "    0% {\n",
              "      border-color: transparent;\n",
              "      border-bottom-color: var(--fill-color);\n",
              "      border-left-color: var(--fill-color);\n",
              "    }\n",
              "    20% {\n",
              "      border-color: transparent;\n",
              "      border-left-color: var(--fill-color);\n",
              "      border-top-color: var(--fill-color);\n",
              "    }\n",
              "    30% {\n",
              "      border-color: transparent;\n",
              "      border-left-color: var(--fill-color);\n",
              "      border-top-color: var(--fill-color);\n",
              "      border-right-color: var(--fill-color);\n",
              "    }\n",
              "    40% {\n",
              "      border-color: transparent;\n",
              "      border-right-color: var(--fill-color);\n",
              "      border-top-color: var(--fill-color);\n",
              "    }\n",
              "    60% {\n",
              "      border-color: transparent;\n",
              "      border-right-color: var(--fill-color);\n",
              "    }\n",
              "    80% {\n",
              "      border-color: transparent;\n",
              "      border-right-color: var(--fill-color);\n",
              "      border-bottom-color: var(--fill-color);\n",
              "    }\n",
              "    90% {\n",
              "      border-color: transparent;\n",
              "      border-bottom-color: var(--fill-color);\n",
              "    }\n",
              "  }\n",
              "</style>\n",
              "\n",
              "  <script>\n",
              "    async function quickchart(key) {\n",
              "      const quickchartButtonEl =\n",
              "        document.querySelector('#' + key + ' button');\n",
              "      quickchartButtonEl.disabled = true;  // To prevent multiple clicks.\n",
              "      quickchartButtonEl.classList.add('colab-df-spinner');\n",
              "      try {\n",
              "        const charts = await google.colab.kernel.invokeFunction(\n",
              "            'suggestCharts', [key], {});\n",
              "      } catch (error) {\n",
              "        console.error('Error during call to suggestCharts:', error);\n",
              "      }\n",
              "      quickchartButtonEl.classList.remove('colab-df-spinner');\n",
              "      quickchartButtonEl.classList.add('colab-df-quickchart-complete');\n",
              "    }\n",
              "    (() => {\n",
              "      let quickchartButtonEl =\n",
              "        document.querySelector('#df-d85a2213-e192-49bb-bc2c-b177fdb812d6 button');\n",
              "      quickchartButtonEl.style.display =\n",
              "        google.colab.kernel.accessAllowed ? 'block' : 'none';\n",
              "    })();\n",
              "  </script>\n",
              "</div>\n",
              "\n",
              "    </div>\n",
              "  </div>\n"
            ],
            "application/vnd.google.colaboratory.intrinsic+json": {
              "type": "dataframe",
              "variable_name": "df"
            }
          },
          "metadata": {},
          "execution_count": 41
        }
      ],
      "source": [
        "# Merge inp0 with inp1 into inp0. this is also called left merge.\n",
        "df = pd.merge(left=df1,right=sale, how='left', left_on='Dress_ID', right_on='Dress_ID')\n",
        "df.head()"
      ]
    },
    {
      "cell_type": "code",
      "execution_count": 42,
      "metadata": {
        "id": "74mM8XyUj7Ye",
        "colab": {
          "base_uri": "https://localhost:8080/"
        },
        "outputId": "621b19f9-7418-4a72-c510-7237ca1ab8e9"
      },
      "outputs": [
        {
          "output_type": "execute_result",
          "data": {
            "text/plain": [
              "Dress_ID            0\n",
              "Style               0\n",
              "Price               2\n",
              "Rating              0\n",
              "Size                0\n",
              "Season              2\n",
              "NeckLine            3\n",
              "SleeveLength        2\n",
              "Material          119\n",
              "FabricType        256\n",
              "Decoration        224\n",
              "Pattern Type      102\n",
              "Recommendation      0\n",
              "summer              2\n",
              "autumn              2\n",
              "winter              2\n",
              "spring              2\n",
              "dtype: int64"
            ]
          },
          "metadata": {},
          "execution_count": 42
        }
      ],
      "source": [
        "# Now Drop the Date columns from inp0 as it is already combined into four seasons.\n",
        "df.drop(df.loc[:,'29-08-2013':'10-12-2013'].columns, axis= 1, inplace= True)\n",
        "df.isnull().sum()"
      ]
    },
    {
      "cell_type": "markdown",
      "metadata": {
        "id": "GynUOZS4j7Ye"
      },
      "source": [
        "Print the null count of inp0 to get the idea about the missing values in data set."
      ]
    },
    {
      "cell_type": "code",
      "execution_count": 43,
      "metadata": {
        "id": "POshOn9wj7Ye",
        "colab": {
          "base_uri": "https://localhost:8080/"
        },
        "outputId": "591581e0-97cc-45ab-e037-971f1385b477"
      },
      "outputs": [
        {
          "output_type": "stream",
          "name": "stdout",
          "text": [
            "<class 'pandas.core.frame.DataFrame'>\n",
            "RangeIndex: 479 entries, 0 to 478\n",
            "Data columns (total 17 columns):\n",
            " #   Column          Non-Null Count  Dtype  \n",
            "---  ------          --------------  -----  \n",
            " 0   Dress_ID        479 non-null    int64  \n",
            " 1   Style           479 non-null    object \n",
            " 2   Price           477 non-null    object \n",
            " 3   Rating          479 non-null    float64\n",
            " 4   Size            479 non-null    object \n",
            " 5   Season          477 non-null    object \n",
            " 6   NeckLine        476 non-null    object \n",
            " 7   SleeveLength    477 non-null    object \n",
            " 8   Material        360 non-null    object \n",
            " 9   FabricType      223 non-null    object \n",
            " 10  Decoration      255 non-null    object \n",
            " 11  Pattern Type    377 non-null    object \n",
            " 12  Recommendation  479 non-null    int64  \n",
            " 13  summer          477 non-null    float64\n",
            " 14  autumn          477 non-null    float64\n",
            " 15  winter          477 non-null    float64\n",
            " 16  spring          477 non-null    float64\n",
            "dtypes: float64(5), int64(2), object(10)\n",
            "memory usage: 63.7+ KB\n"
          ]
        }
      ],
      "source": [
        "# Print the null count of each columns in inp0 dataframe i.e. combined data frame of inp0 and inp1 without date columns.\n",
        "df.info()"
      ]
    },
    {
      "cell_type": "code",
      "source": [
        "df.isnull().sum()"
      ],
      "metadata": {
        "colab": {
          "base_uri": "https://localhost:8080/"
        },
        "id": "CHiX9NI4mmBD",
        "outputId": "46236efc-7430-473c-aac4-3846da758e0d"
      },
      "execution_count": 44,
      "outputs": [
        {
          "output_type": "execute_result",
          "data": {
            "text/plain": [
              "Dress_ID            0\n",
              "Style               0\n",
              "Price               2\n",
              "Rating              0\n",
              "Size                0\n",
              "Season              2\n",
              "NeckLine            3\n",
              "SleeveLength        2\n",
              "Material          119\n",
              "FabricType        256\n",
              "Decoration        224\n",
              "Pattern Type      102\n",
              "Recommendation      0\n",
              "summer              2\n",
              "autumn              2\n",
              "winter              2\n",
              "spring              2\n",
              "dtype: int64"
            ]
          },
          "metadata": {},
          "execution_count": 44
        }
      ]
    },
    {
      "cell_type": "code",
      "execution_count": 45,
      "metadata": {
        "id": "poJ6oDQ7j7Yf"
      },
      "outputs": [],
      "source": [
        "# Deal with the missing values of Type-1 columns: Price, Season, NeckLine, SleeveLength, Winter and Autumn.\n",
        "for i in ['Price','Season', 'NeckLine','SleeveLength','winter','autumn','summer','spring']:\n",
        "  df[i] = df[i].fillna(df[i].mode()[0])\n"
      ]
    },
    {
      "cell_type": "code",
      "execution_count": 46,
      "metadata": {
        "id": "e60bARxCj7Yf"
      },
      "outputs": [],
      "source": [
        "# Deal with the missing values for Type-2 columns: Material, FabricType, Decoration and Pattern Type.\n",
        "for i in ['Material','FabricType','Decoration','Pattern Type']:\n",
        "  df[i] = df[i].fillna(df[i].mode()[0])\n"
      ]
    },
    {
      "cell_type": "markdown",
      "metadata": {
        "id": "dAk4faeJj7Yf"
      },
      "source": [
        "### Standardise value\n"
      ]
    },
    {
      "cell_type": "code",
      "execution_count": 47,
      "metadata": {
        "id": "dgfl-GCmj7Yf",
        "colab": {
          "base_uri": "https://localhost:8080/"
        },
        "outputId": "c841d230-ac51-4726-b426-830dc0646dcb"
      },
      "outputs": [
        {
          "output_type": "execute_result",
          "data": {
            "text/plain": [
              "array(['Summer', 'Automn', 'Spring', 'Winter', 'spring', 'winter',\n",
              "       'Autumn'], dtype=object)"
            ]
          },
          "metadata": {},
          "execution_count": 47
        }
      ],
      "source": [
        "#correcting the spellings.\n",
        "df.Season.unique()"
      ]
    },
    {
      "cell_type": "code",
      "source": [
        "df.loc[df['Season'].isin(['Automn']),'Season']='Autumn'\n",
        "df.loc[df['Season'].isin(['spring']),'Season']='Spring'\n",
        "df.loc[df['Season'].isin(['winter']),'Season']='Winter'\n"
      ],
      "metadata": {
        "id": "fFDYIiSCrb88"
      },
      "execution_count": 48,
      "outputs": []
    },
    {
      "cell_type": "code",
      "source": [
        "df.NeckLine.unique()"
      ],
      "metadata": {
        "colab": {
          "base_uri": "https://localhost:8080/"
        },
        "id": "V5oXGrFHsXqP",
        "outputId": "ed10342c-8bb1-4e8d-c789-394b238100b7"
      },
      "execution_count": 49,
      "outputs": [
        {
          "output_type": "execute_result",
          "data": {
            "text/plain": [
              "array(['o-neck', 'v-neck', 'boat-neck', 'peterpan-collor', 'ruffled',\n",
              "       'turndowncollor', 'slash-neck', 'mandarin-collor', 'open',\n",
              "       'sqare-collor', 'Sweetheart', 'sweetheart', 'Scoop', 'halter',\n",
              "       'backless', 'bowneck'], dtype=object)"
            ]
          },
          "metadata": {},
          "execution_count": 49
        }
      ]
    },
    {
      "cell_type": "markdown",
      "source": [
        "nên đưa về hết chữ Hoa hoặc chữ thường"
      ],
      "metadata": {
        "id": "p02obNUA6XL5"
      }
    },
    {
      "cell_type": "code",
      "source": [
        "df.loc[df['NeckLine'].isin(['Sweetheart']),'NeckLine']='sweetheart'\n",
        "df.loc[df['NeckLine'].isin(['Scoop']),'NeckLine']='scoop'"
      ],
      "metadata": {
        "id": "gpAkLuJKuBnL"
      },
      "execution_count": 50,
      "outputs": []
    },
    {
      "cell_type": "code",
      "source": [
        "df.Price.unique()"
      ],
      "metadata": {
        "colab": {
          "base_uri": "https://localhost:8080/"
        },
        "id": "mvZ1IooNuOfm",
        "outputId": "0764041f-2c75-4511-8300-2a21d7fd4117"
      },
      "execution_count": 51,
      "outputs": [
        {
          "output_type": "execute_result",
          "data": {
            "text/plain": [
              "array(['Low', 'High', 'Average', 'Medium', 'very-high'], dtype=object)"
            ]
          },
          "metadata": {},
          "execution_count": 51
        }
      ]
    },
    {
      "cell_type": "code",
      "source": [
        "df.loc[df['Price'].isin(['very-high']),'Price']='Very-High'"
      ],
      "metadata": {
        "id": "iBJOA8EPiHiH"
      },
      "execution_count": 52,
      "outputs": []
    },
    {
      "cell_type": "code",
      "source": [
        "df.Material.unique()"
      ],
      "metadata": {
        "colab": {
          "base_uri": "https://localhost:8080/"
        },
        "id": "jFTzjJV2uaul",
        "outputId": "c0127757-9413-4170-9e75-0d381b622e86"
      },
      "execution_count": 53,
      "outputs": [
        {
          "output_type": "execute_result",
          "data": {
            "text/plain": [
              "array(['cotton', 'microfiber', 'polyster', 'silk', 'chiffonfabric',\n",
              "       'nylon', 'other', 'milksilk', 'linen', 'rayon', 'lycra', 'mix',\n",
              "       'acrylic', 'spandex', 'lace', 'modal', 'cashmere', 'viscos',\n",
              "       'sill', 'wool', 'model', 'shiffon'], dtype=object)"
            ]
          },
          "metadata": {},
          "execution_count": 53
        }
      ]
    },
    {
      "cell_type": "code",
      "source": [
        "df.FabricType.unique()"
      ],
      "metadata": {
        "colab": {
          "base_uri": "https://localhost:8080/"
        },
        "id": "iQGzYd8Zui3W",
        "outputId": "a8486d78-2387-4a7f-fe8c-0e2c7229a28f"
      },
      "execution_count": 54,
      "outputs": [
        {
          "output_type": "execute_result",
          "data": {
            "text/plain": [
              "array(['chiffon', 'broadcloth', 'jersey', 'other', 'batik', 'satin',\n",
              "       'flannael', 'worsted', 'woolen', 'poplin', 'dobby', 'knitting',\n",
              "       'flannel', 'tulle', 'sattin', 'organza', 'lace', 'Corduroy',\n",
              "       'wollen', 'knitted', 'shiffon', 'terry'], dtype=object)"
            ]
          },
          "metadata": {},
          "execution_count": 54
        }
      ]
    },
    {
      "cell_type": "code",
      "source": [
        "df. Decoration.unique()"
      ],
      "metadata": {
        "colab": {
          "base_uri": "https://localhost:8080/"
        },
        "id": "ebnGBEwlu0Wf",
        "outputId": "0a1429ca-7289-4fda-a964-8aff6c0b81ab"
      },
      "execution_count": 55,
      "outputs": [
        {
          "output_type": "execute_result",
          "data": {
            "text/plain": [
              "array(['ruffles', 'lace', 'embroidary', 'bow', 'beading', 'sashes',\n",
              "       'hollowout', 'pockets', 'sequined', 'applique', 'button', 'Tiered',\n",
              "       'rivet', 'feathers', 'flowers', 'pearls', 'pleat', 'crystal',\n",
              "       'ruched', 'draped', 'tassel', 'plain', 'cascading', 'none'],\n",
              "      dtype=object)"
            ]
          },
          "metadata": {},
          "execution_count": 55
        }
      ]
    },
    {
      "cell_type": "code",
      "source": [
        "df.SleeveLength.unique()"
      ],
      "metadata": {
        "colab": {
          "base_uri": "https://localhost:8080/"
        },
        "id": "0Y89ogcEvBtt",
        "outputId": "25c7503d-a9a6-4458-f57f-3d5609b00620"
      },
      "execution_count": 56,
      "outputs": [
        {
          "output_type": "execute_result",
          "data": {
            "text/plain": [
              "array(['sleevless', 'Petal', 'full', 'butterfly', 'short', 'threequarter',\n",
              "       'halfsleeve', 'cap-sleeves', 'turndowncollor', 'threequater',\n",
              "       'capsleeves', 'sleeveless', 'sleeevless', 'half', 'urndowncollor',\n",
              "       'thressqatar', 'sleveless'], dtype=object)"
            ]
          },
          "metadata": {},
          "execution_count": 56
        }
      ]
    },
    {
      "cell_type": "markdown",
      "metadata": {
        "id": "RlF1RWd-j7Yf"
      },
      "source": [
        "## Univariate Analysis\n",
        "Phân tích đơn biến"
      ]
    },
    {
      "cell_type": "markdown",
      "metadata": {
        "id": "f9LbGPf_j7Yg"
      },
      "source": [
        "### Categorical Unordered Univariate Analysis\n"
      ]
    },
    {
      "cell_type": "markdown",
      "metadata": {
        "id": "GA4DeND_j7Ym"
      },
      "source": []
    },
    {
      "cell_type": "markdown",
      "metadata": {
        "id": "SmrVrQh3j7Ym"
      },
      "source": []
    },
    {
      "cell_type": "code",
      "execution_count": 64,
      "metadata": {
        "id": "krFA8MGdj7Ym"
      },
      "outputs": [],
      "source": [
        "# Group \"Style\" categories into \"Others\" which have less than 50000 sales across all the seasons.\n",
        "df['all_seasons']=df['summer']+df['spring']+df['winter']+df['autumn']"
      ]
    },
    {
      "cell_type": "code",
      "source": [
        "style_sum=df.groupby('Style').sum()['all_seasons']\n",
        "others_list=style_sum[style_sum<50000].index.tolist()"
      ],
      "metadata": {
        "id": "yGkmyohDlN7g"
      },
      "execution_count": 65,
      "outputs": []
    },
    {
      "cell_type": "code",
      "source": [
        "others_list"
      ],
      "metadata": {
        "id": "6dIYFXAvwWUs",
        "colab": {
          "base_uri": "https://localhost:8080/"
        },
        "outputId": "2b6ad857-d001-407d-9707-f1b70d14f3e5"
      },
      "execution_count": 66,
      "outputs": [
        {
          "output_type": "execute_result",
          "data": {
            "text/plain": [
              "['Other']"
            ]
          },
          "metadata": {},
          "execution_count": 66
        }
      ]
    },
    {
      "cell_type": "code",
      "source": [
        "for i in others_list:\n",
        "  df.loc[df['Style']==i,'Style']='Other'"
      ],
      "metadata": {
        "id": "TBqpf-pywn6W"
      },
      "execution_count": 67,
      "outputs": []
    },
    {
      "cell_type": "code",
      "source": [
        "others_list\n"
      ],
      "metadata": {
        "colab": {
          "base_uri": "https://localhost:8080/"
        },
        "id": "54c6uKlF0B8d",
        "outputId": "bca1f8d2-aabe-48bc-8798-9a5e77dc938b"
      },
      "execution_count": 68,
      "outputs": [
        {
          "output_type": "execute_result",
          "data": {
            "text/plain": [
              "['Other']"
            ]
          },
          "metadata": {},
          "execution_count": 68
        }
      ]
    },
    {
      "cell_type": "markdown",
      "metadata": {
        "id": "hMF_DjTFj7Ym"
      },
      "source": [
        "What is the percentage of “cute” and “Others” category in “Style” column in “Attribute DataSet” respectively?\n",
        "- 46%, 5%\n",
        "- 9%, 2.1%\n",
        "- 2.1%, 5%\n",
        "- 13.8%, 9%\n"
      ]
    },
    {
      "cell_type": "code",
      "source": [
        "df.head()"
      ],
      "metadata": {
        "colab": {
          "base_uri": "https://localhost:8080/",
          "height": 206
        },
        "id": "zhbY96SN-YD6",
        "outputId": "cb79c6e0-cee7-4ddf-b717-ff583f817f17"
      },
      "execution_count": 69,
      "outputs": [
        {
          "output_type": "execute_result",
          "data": {
            "text/plain": [
              "     Dress_ID    Style    Price  Rating    Size  Season NeckLine SleeveLength  \\\n",
              "0  1006032852     Sexy      Low     4.6  Medium  Summer   o-neck    sleevless   \n",
              "1  1212192089   Casual      Low     0.0   Large  Summer   o-neck        Petal   \n",
              "2  1190380701  vintage     High     0.0   Large  Autumn   o-neck         full   \n",
              "3   966005983    Brief  Average     4.6   Large  Spring   o-neck         full   \n",
              "4   876339541     cute      Low     4.5  Medium  Summer   o-neck    butterfly   \n",
              "\n",
              "        Material FabricType  Decoration Pattern Type  Recommendation   summer  \\\n",
              "0         cotton    chiffon     ruffles       animal               1  13899.0   \n",
              "1     microfiber    chiffon     ruffles       animal               0   6216.0   \n",
              "2       polyster    chiffon        lace        print               0     40.0   \n",
              "3           silk    chiffon  embroidary        print               1   7213.0   \n",
              "4  chiffonfabric    chiffon         bow          dot               0   7706.0   \n",
              "\n",
              "    autumn  winter  spring  all_seasons  \n",
              "0  26857.0  9658.0  2660.0      53074.0  \n",
              "1  17311.0  6405.0   750.0      30682.0  \n",
              "2     82.0    28.0     7.0        157.0  \n",
              "3  14411.0  5012.0  1455.0      28091.0  \n",
              "4  14676.0  5678.0  1396.0      29456.0  "
            ],
            "text/html": [
              "\n",
              "  <div id=\"df-9ff9aa60-551d-4880-bb3c-40e4d368183c\" class=\"colab-df-container\">\n",
              "    <div>\n",
              "<style scoped>\n",
              "    .dataframe tbody tr th:only-of-type {\n",
              "        vertical-align: middle;\n",
              "    }\n",
              "\n",
              "    .dataframe tbody tr th {\n",
              "        vertical-align: top;\n",
              "    }\n",
              "\n",
              "    .dataframe thead th {\n",
              "        text-align: right;\n",
              "    }\n",
              "</style>\n",
              "<table border=\"1\" class=\"dataframe\">\n",
              "  <thead>\n",
              "    <tr style=\"text-align: right;\">\n",
              "      <th></th>\n",
              "      <th>Dress_ID</th>\n",
              "      <th>Style</th>\n",
              "      <th>Price</th>\n",
              "      <th>Rating</th>\n",
              "      <th>Size</th>\n",
              "      <th>Season</th>\n",
              "      <th>NeckLine</th>\n",
              "      <th>SleeveLength</th>\n",
              "      <th>Material</th>\n",
              "      <th>FabricType</th>\n",
              "      <th>Decoration</th>\n",
              "      <th>Pattern Type</th>\n",
              "      <th>Recommendation</th>\n",
              "      <th>summer</th>\n",
              "      <th>autumn</th>\n",
              "      <th>winter</th>\n",
              "      <th>spring</th>\n",
              "      <th>all_seasons</th>\n",
              "    </tr>\n",
              "  </thead>\n",
              "  <tbody>\n",
              "    <tr>\n",
              "      <th>0</th>\n",
              "      <td>1006032852</td>\n",
              "      <td>Sexy</td>\n",
              "      <td>Low</td>\n",
              "      <td>4.6</td>\n",
              "      <td>Medium</td>\n",
              "      <td>Summer</td>\n",
              "      <td>o-neck</td>\n",
              "      <td>sleevless</td>\n",
              "      <td>cotton</td>\n",
              "      <td>chiffon</td>\n",
              "      <td>ruffles</td>\n",
              "      <td>animal</td>\n",
              "      <td>1</td>\n",
              "      <td>13899.0</td>\n",
              "      <td>26857.0</td>\n",
              "      <td>9658.0</td>\n",
              "      <td>2660.0</td>\n",
              "      <td>53074.0</td>\n",
              "    </tr>\n",
              "    <tr>\n",
              "      <th>1</th>\n",
              "      <td>1212192089</td>\n",
              "      <td>Casual</td>\n",
              "      <td>Low</td>\n",
              "      <td>0.0</td>\n",
              "      <td>Large</td>\n",
              "      <td>Summer</td>\n",
              "      <td>o-neck</td>\n",
              "      <td>Petal</td>\n",
              "      <td>microfiber</td>\n",
              "      <td>chiffon</td>\n",
              "      <td>ruffles</td>\n",
              "      <td>animal</td>\n",
              "      <td>0</td>\n",
              "      <td>6216.0</td>\n",
              "      <td>17311.0</td>\n",
              "      <td>6405.0</td>\n",
              "      <td>750.0</td>\n",
              "      <td>30682.0</td>\n",
              "    </tr>\n",
              "    <tr>\n",
              "      <th>2</th>\n",
              "      <td>1190380701</td>\n",
              "      <td>vintage</td>\n",
              "      <td>High</td>\n",
              "      <td>0.0</td>\n",
              "      <td>Large</td>\n",
              "      <td>Autumn</td>\n",
              "      <td>o-neck</td>\n",
              "      <td>full</td>\n",
              "      <td>polyster</td>\n",
              "      <td>chiffon</td>\n",
              "      <td>lace</td>\n",
              "      <td>print</td>\n",
              "      <td>0</td>\n",
              "      <td>40.0</td>\n",
              "      <td>82.0</td>\n",
              "      <td>28.0</td>\n",
              "      <td>7.0</td>\n",
              "      <td>157.0</td>\n",
              "    </tr>\n",
              "    <tr>\n",
              "      <th>3</th>\n",
              "      <td>966005983</td>\n",
              "      <td>Brief</td>\n",
              "      <td>Average</td>\n",
              "      <td>4.6</td>\n",
              "      <td>Large</td>\n",
              "      <td>Spring</td>\n",
              "      <td>o-neck</td>\n",
              "      <td>full</td>\n",
              "      <td>silk</td>\n",
              "      <td>chiffon</td>\n",
              "      <td>embroidary</td>\n",
              "      <td>print</td>\n",
              "      <td>1</td>\n",
              "      <td>7213.0</td>\n",
              "      <td>14411.0</td>\n",
              "      <td>5012.0</td>\n",
              "      <td>1455.0</td>\n",
              "      <td>28091.0</td>\n",
              "    </tr>\n",
              "    <tr>\n",
              "      <th>4</th>\n",
              "      <td>876339541</td>\n",
              "      <td>cute</td>\n",
              "      <td>Low</td>\n",
              "      <td>4.5</td>\n",
              "      <td>Medium</td>\n",
              "      <td>Summer</td>\n",
              "      <td>o-neck</td>\n",
              "      <td>butterfly</td>\n",
              "      <td>chiffonfabric</td>\n",
              "      <td>chiffon</td>\n",
              "      <td>bow</td>\n",
              "      <td>dot</td>\n",
              "      <td>0</td>\n",
              "      <td>7706.0</td>\n",
              "      <td>14676.0</td>\n",
              "      <td>5678.0</td>\n",
              "      <td>1396.0</td>\n",
              "      <td>29456.0</td>\n",
              "    </tr>\n",
              "  </tbody>\n",
              "</table>\n",
              "</div>\n",
              "    <div class=\"colab-df-buttons\">\n",
              "\n",
              "  <div class=\"colab-df-container\">\n",
              "    <button class=\"colab-df-convert\" onclick=\"convertToInteractive('df-9ff9aa60-551d-4880-bb3c-40e4d368183c')\"\n",
              "            title=\"Convert this dataframe to an interactive table.\"\n",
              "            style=\"display:none;\">\n",
              "\n",
              "  <svg xmlns=\"http://www.w3.org/2000/svg\" height=\"24px\" viewBox=\"0 -960 960 960\">\n",
              "    <path d=\"M120-120v-720h720v720H120Zm60-500h600v-160H180v160Zm220 220h160v-160H400v160Zm0 220h160v-160H400v160ZM180-400h160v-160H180v160Zm440 0h160v-160H620v160ZM180-180h160v-160H180v160Zm440 0h160v-160H620v160Z\"/>\n",
              "  </svg>\n",
              "    </button>\n",
              "\n",
              "  <style>\n",
              "    .colab-df-container {\n",
              "      display:flex;\n",
              "      gap: 12px;\n",
              "    }\n",
              "\n",
              "    .colab-df-convert {\n",
              "      background-color: #E8F0FE;\n",
              "      border: none;\n",
              "      border-radius: 50%;\n",
              "      cursor: pointer;\n",
              "      display: none;\n",
              "      fill: #1967D2;\n",
              "      height: 32px;\n",
              "      padding: 0 0 0 0;\n",
              "      width: 32px;\n",
              "    }\n",
              "\n",
              "    .colab-df-convert:hover {\n",
              "      background-color: #E2EBFA;\n",
              "      box-shadow: 0px 1px 2px rgba(60, 64, 67, 0.3), 0px 1px 3px 1px rgba(60, 64, 67, 0.15);\n",
              "      fill: #174EA6;\n",
              "    }\n",
              "\n",
              "    .colab-df-buttons div {\n",
              "      margin-bottom: 4px;\n",
              "    }\n",
              "\n",
              "    [theme=dark] .colab-df-convert {\n",
              "      background-color: #3B4455;\n",
              "      fill: #D2E3FC;\n",
              "    }\n",
              "\n",
              "    [theme=dark] .colab-df-convert:hover {\n",
              "      background-color: #434B5C;\n",
              "      box-shadow: 0px 1px 3px 1px rgba(0, 0, 0, 0.15);\n",
              "      filter: drop-shadow(0px 1px 2px rgba(0, 0, 0, 0.3));\n",
              "      fill: #FFFFFF;\n",
              "    }\n",
              "  </style>\n",
              "\n",
              "    <script>\n",
              "      const buttonEl =\n",
              "        document.querySelector('#df-9ff9aa60-551d-4880-bb3c-40e4d368183c button.colab-df-convert');\n",
              "      buttonEl.style.display =\n",
              "        google.colab.kernel.accessAllowed ? 'block' : 'none';\n",
              "\n",
              "      async function convertToInteractive(key) {\n",
              "        const element = document.querySelector('#df-9ff9aa60-551d-4880-bb3c-40e4d368183c');\n",
              "        const dataTable =\n",
              "          await google.colab.kernel.invokeFunction('convertToInteractive',\n",
              "                                                    [key], {});\n",
              "        if (!dataTable) return;\n",
              "\n",
              "        const docLinkHtml = 'Like what you see? Visit the ' +\n",
              "          '<a target=\"_blank\" href=https://colab.research.google.com/notebooks/data_table.ipynb>data table notebook</a>'\n",
              "          + ' to learn more about interactive tables.';\n",
              "        element.innerHTML = '';\n",
              "        dataTable['output_type'] = 'display_data';\n",
              "        await google.colab.output.renderOutput(dataTable, element);\n",
              "        const docLink = document.createElement('div');\n",
              "        docLink.innerHTML = docLinkHtml;\n",
              "        element.appendChild(docLink);\n",
              "      }\n",
              "    </script>\n",
              "  </div>\n",
              "\n",
              "\n",
              "<div id=\"df-4d7a0554-ac8b-4bd8-920a-e061afc7b281\">\n",
              "  <button class=\"colab-df-quickchart\" onclick=\"quickchart('df-4d7a0554-ac8b-4bd8-920a-e061afc7b281')\"\n",
              "            title=\"Suggest charts\"\n",
              "            style=\"display:none;\">\n",
              "\n",
              "<svg xmlns=\"http://www.w3.org/2000/svg\" height=\"24px\"viewBox=\"0 0 24 24\"\n",
              "     width=\"24px\">\n",
              "    <g>\n",
              "        <path d=\"M19 3H5c-1.1 0-2 .9-2 2v14c0 1.1.9 2 2 2h14c1.1 0 2-.9 2-2V5c0-1.1-.9-2-2-2zM9 17H7v-7h2v7zm4 0h-2V7h2v10zm4 0h-2v-4h2v4z\"/>\n",
              "    </g>\n",
              "</svg>\n",
              "  </button>\n",
              "\n",
              "<style>\n",
              "  .colab-df-quickchart {\n",
              "      --bg-color: #E8F0FE;\n",
              "      --fill-color: #1967D2;\n",
              "      --hover-bg-color: #E2EBFA;\n",
              "      --hover-fill-color: #174EA6;\n",
              "      --disabled-fill-color: #AAA;\n",
              "      --disabled-bg-color: #DDD;\n",
              "  }\n",
              "\n",
              "  [theme=dark] .colab-df-quickchart {\n",
              "      --bg-color: #3B4455;\n",
              "      --fill-color: #D2E3FC;\n",
              "      --hover-bg-color: #434B5C;\n",
              "      --hover-fill-color: #FFFFFF;\n",
              "      --disabled-bg-color: #3B4455;\n",
              "      --disabled-fill-color: #666;\n",
              "  }\n",
              "\n",
              "  .colab-df-quickchart {\n",
              "    background-color: var(--bg-color);\n",
              "    border: none;\n",
              "    border-radius: 50%;\n",
              "    cursor: pointer;\n",
              "    display: none;\n",
              "    fill: var(--fill-color);\n",
              "    height: 32px;\n",
              "    padding: 0;\n",
              "    width: 32px;\n",
              "  }\n",
              "\n",
              "  .colab-df-quickchart:hover {\n",
              "    background-color: var(--hover-bg-color);\n",
              "    box-shadow: 0 1px 2px rgba(60, 64, 67, 0.3), 0 1px 3px 1px rgba(60, 64, 67, 0.15);\n",
              "    fill: var(--button-hover-fill-color);\n",
              "  }\n",
              "\n",
              "  .colab-df-quickchart-complete:disabled,\n",
              "  .colab-df-quickchart-complete:disabled:hover {\n",
              "    background-color: var(--disabled-bg-color);\n",
              "    fill: var(--disabled-fill-color);\n",
              "    box-shadow: none;\n",
              "  }\n",
              "\n",
              "  .colab-df-spinner {\n",
              "    border: 2px solid var(--fill-color);\n",
              "    border-color: transparent;\n",
              "    border-bottom-color: var(--fill-color);\n",
              "    animation:\n",
              "      spin 1s steps(1) infinite;\n",
              "  }\n",
              "\n",
              "  @keyframes spin {\n",
              "    0% {\n",
              "      border-color: transparent;\n",
              "      border-bottom-color: var(--fill-color);\n",
              "      border-left-color: var(--fill-color);\n",
              "    }\n",
              "    20% {\n",
              "      border-color: transparent;\n",
              "      border-left-color: var(--fill-color);\n",
              "      border-top-color: var(--fill-color);\n",
              "    }\n",
              "    30% {\n",
              "      border-color: transparent;\n",
              "      border-left-color: var(--fill-color);\n",
              "      border-top-color: var(--fill-color);\n",
              "      border-right-color: var(--fill-color);\n",
              "    }\n",
              "    40% {\n",
              "      border-color: transparent;\n",
              "      border-right-color: var(--fill-color);\n",
              "      border-top-color: var(--fill-color);\n",
              "    }\n",
              "    60% {\n",
              "      border-color: transparent;\n",
              "      border-right-color: var(--fill-color);\n",
              "    }\n",
              "    80% {\n",
              "      border-color: transparent;\n",
              "      border-right-color: var(--fill-color);\n",
              "      border-bottom-color: var(--fill-color);\n",
              "    }\n",
              "    90% {\n",
              "      border-color: transparent;\n",
              "      border-bottom-color: var(--fill-color);\n",
              "    }\n",
              "  }\n",
              "</style>\n",
              "\n",
              "  <script>\n",
              "    async function quickchart(key) {\n",
              "      const quickchartButtonEl =\n",
              "        document.querySelector('#' + key + ' button');\n",
              "      quickchartButtonEl.disabled = true;  // To prevent multiple clicks.\n",
              "      quickchartButtonEl.classList.add('colab-df-spinner');\n",
              "      try {\n",
              "        const charts = await google.colab.kernel.invokeFunction(\n",
              "            'suggestCharts', [key], {});\n",
              "      } catch (error) {\n",
              "        console.error('Error during call to suggestCharts:', error);\n",
              "      }\n",
              "      quickchartButtonEl.classList.remove('colab-df-spinner');\n",
              "      quickchartButtonEl.classList.add('colab-df-quickchart-complete');\n",
              "    }\n",
              "    (() => {\n",
              "      let quickchartButtonEl =\n",
              "        document.querySelector('#df-4d7a0554-ac8b-4bd8-920a-e061afc7b281 button');\n",
              "      quickchartButtonEl.style.display =\n",
              "        google.colab.kernel.accessAllowed ? 'block' : 'none';\n",
              "    })();\n",
              "  </script>\n",
              "</div>\n",
              "\n",
              "    </div>\n",
              "  </div>\n"
            ],
            "application/vnd.google.colaboratory.intrinsic+json": {
              "type": "dataframe",
              "variable_name": "df",
              "summary": "{\n  \"name\": \"df\",\n  \"rows\": 479,\n  \"fields\": [\n    {\n      \"column\": \"Dress_ID\",\n      \"properties\": {\n        \"dtype\": \"number\",\n        \"std\": 182235169,\n        \"min\": 123456789,\n        \"max\": 1253973206,\n        \"num_unique_values\": 479,\n        \"samples\": [\n          1118628066,\n          1219677488,\n          743729613\n        ],\n        \"semantic_type\": \"\",\n        \"description\": \"\"\n      }\n    },\n    {\n      \"column\": \"Style\",\n      \"properties\": {\n        \"dtype\": \"category\",\n        \"num_unique_values\": 10,\n        \"samples\": [\n          \"sexy\",\n          \"Casual\",\n          \"bohemian\"\n        ],\n        \"semantic_type\": \"\",\n        \"description\": \"\"\n      }\n    },\n    {\n      \"column\": \"Price\",\n      \"properties\": {\n        \"dtype\": \"category\",\n        \"num_unique_values\": 5,\n        \"samples\": [\n          \"High\",\n          \"Very-High\",\n          \"Average\"\n        ],\n        \"semantic_type\": \"\",\n        \"description\": \"\"\n      }\n    },\n    {\n      \"column\": \"Rating\",\n      \"properties\": {\n        \"dtype\": \"number\",\n        \"std\": 2.028941073943481,\n        \"min\": 0.0,\n        \"max\": 5.0,\n        \"num_unique_values\": 17,\n        \"samples\": [\n          4.6,\n          0.0,\n          4.8\n        ],\n        \"semantic_type\": \"\",\n        \"description\": \"\"\n      }\n    },\n    {\n      \"column\": \"Size\",\n      \"properties\": {\n        \"dtype\": \"category\",\n        \"num_unique_values\": 5,\n        \"samples\": [\n          \"Large\",\n          \"Small\",\n          \"Extra large\"\n        ],\n        \"semantic_type\": \"\",\n        \"description\": \"\"\n      }\n    },\n    {\n      \"column\": \"Season\",\n      \"properties\": {\n        \"dtype\": \"category\",\n        \"num_unique_values\": 4,\n        \"samples\": [\n          \"Autumn\",\n          \"Winter\",\n          \"Summer\"\n        ],\n        \"semantic_type\": \"\",\n        \"description\": \"\"\n      }\n    },\n    {\n      \"column\": \"NeckLine\",\n      \"properties\": {\n        \"dtype\": \"category\",\n        \"num_unique_values\": 15,\n        \"samples\": [\n          \"sqare-collor\",\n          \"scoop\",\n          \"o-neck\"\n        ],\n        \"semantic_type\": \"\",\n        \"description\": \"\"\n      }\n    },\n    {\n      \"column\": \"SleeveLength\",\n      \"properties\": {\n        \"dtype\": \"category\",\n        \"num_unique_values\": 17,\n        \"samples\": [\n          \"sleevless\",\n          \"Petal\",\n          \"threequarter\"\n        ],\n        \"semantic_type\": \"\",\n        \"description\": \"\"\n      }\n    },\n    {\n      \"column\": \"Material\",\n      \"properties\": {\n        \"dtype\": \"category\",\n        \"num_unique_values\": 22,\n        \"samples\": [\n          \"cotton\",\n          \"spandex\",\n          \"linen\"\n        ],\n        \"semantic_type\": \"\",\n        \"description\": \"\"\n      }\n    },\n    {\n      \"column\": \"FabricType\",\n      \"properties\": {\n        \"dtype\": \"category\",\n        \"num_unique_values\": 22,\n        \"samples\": [\n          \"chiffon\",\n          \"tulle\",\n          \"woolen\"\n        ],\n        \"semantic_type\": \"\",\n        \"description\": \"\"\n      }\n    },\n    {\n      \"column\": \"Decoration\",\n      \"properties\": {\n        \"dtype\": \"category\",\n        \"num_unique_values\": 24,\n        \"samples\": [\n          \"sequined\",\n          \"pleat\",\n          \"ruffles\"\n        ],\n        \"semantic_type\": \"\",\n        \"description\": \"\"\n      }\n    },\n    {\n      \"column\": \"Pattern Type\",\n      \"properties\": {\n        \"dtype\": \"category\",\n        \"num_unique_values\": 14,\n        \"samples\": [\n          \"floral\",\n          \"splice\",\n          \"animal\"\n        ],\n        \"semantic_type\": \"\",\n        \"description\": \"\"\n      }\n    },\n    {\n      \"column\": \"Recommendation\",\n      \"properties\": {\n        \"dtype\": \"number\",\n        \"std\": 0,\n        \"min\": 0,\n        \"max\": 1,\n        \"num_unique_values\": 2,\n        \"samples\": [\n          0,\n          1\n        ],\n        \"semantic_type\": \"\",\n        \"description\": \"\"\n      }\n    },\n    {\n      \"column\": \"summer\",\n      \"properties\": {\n        \"dtype\": \"number\",\n        \"std\": 2974.548813810313,\n        \"min\": 2.0,\n        \"max\": 35577.0,\n        \"num_unique_values\": 413,\n        \"samples\": [\n          496.0,\n          523.0\n        ],\n        \"semantic_type\": \"\",\n        \"description\": \"\"\n      }\n    },\n    {\n      \"column\": \"autumn\",\n      \"properties\": {\n        \"dtype\": \"number\",\n        \"std\": 5003.631778959301,\n        \"min\": 1.0,\n        \"max\": 55532.0,\n        \"num_unique_values\": 443,\n        \"samples\": [\n          372.0,\n          1003.0\n        ],\n        \"semantic_type\": \"\",\n        \"description\": \"\"\n      }\n    },\n    {\n      \"column\": \"winter\",\n      \"properties\": {\n        \"dtype\": \"number\",\n        \"std\": 1849.0322725615893,\n        \"min\": 0.0,\n        \"max\": 20388.0,\n        \"num_unique_values\": 395,\n        \"samples\": [\n          1384.0,\n          78.0\n        ],\n        \"semantic_type\": \"\",\n        \"description\": \"\"\n      }\n    },\n    {\n      \"column\": \"spring\",\n      \"properties\": {\n        \"dtype\": \"number\",\n        \"std\": 601.2077814400293,\n        \"min\": 1.0,\n        \"max\": 7374.0,\n        \"num_unique_values\": 291,\n        \"samples\": [\n          675.0,\n          10.0\n        ],\n        \"semantic_type\": \"\",\n        \"description\": \"\"\n      }\n    },\n    {\n      \"column\": \"all_seasons\",\n      \"properties\": {\n        \"dtype\": \"number\",\n        \"std\": 10396.711597204518,\n        \"min\": 4.0,\n        \"max\": 118871.0,\n        \"num_unique_values\": 455,\n        \"samples\": [\n          863.0,\n          2769.0\n        ],\n        \"semantic_type\": \"\",\n        \"description\": \"\"\n      }\n    }\n  ]\n}"
            }
          },
          "metadata": {},
          "execution_count": 69
        }
      ]
    },
    {
      "cell_type": "code",
      "execution_count": 70,
      "metadata": {
        "id": "296E8wu4j7Ym",
        "colab": {
          "base_uri": "https://localhost:8080/"
        },
        "outputId": "4abb9f57-597e-4945-c3f9-8dfdbf3818f6"
      },
      "outputs": [
        {
          "output_type": "execute_result",
          "data": {
            "text/plain": [
              "0.0918580375782881"
            ]
          },
          "metadata": {},
          "execution_count": 70
        }
      ],
      "source": [
        "# Calculate the percentage of each categories in the \"Style\" variable.\n",
        "style_count=df.groupby('Style').count()['Dress_ID']\n",
        "style_count.loc['cute']/style_count.sum()"
      ]
    },
    {
      "cell_type": "code",
      "source": [
        "style_count.loc['Other']/style_count.sum()"
      ],
      "metadata": {
        "colab": {
          "base_uri": "https://localhost:8080/"
        },
        "id": "nvgXZmF2sSwP",
        "outputId": "07122cae-19af-4491-bfbc-8185b20eb608"
      },
      "execution_count": 71,
      "outputs": [
        {
          "output_type": "execute_result",
          "data": {
            "text/plain": [
              "0.020876826722338204"
            ]
          },
          "metadata": {},
          "execution_count": 71
        }
      ]
    },
    {
      "cell_type": "markdown",
      "metadata": {
        "id": "b_QkPgQ3j7Ym"
      },
      "source": [
        "Similarly Club Neckline, SLeeve length categories into \"Others\" which have less than 50000 sales across all the seasons."
      ]
    },
    {
      "cell_type": "code",
      "source": [
        "df.head()"
      ],
      "metadata": {
        "colab": {
          "base_uri": "https://localhost:8080/",
          "height": 206
        },
        "id": "GwOrb3tyt86l",
        "outputId": "8a76a05f-3ed1-4091-e84c-c35946e12df2"
      },
      "execution_count": 72,
      "outputs": [
        {
          "output_type": "execute_result",
          "data": {
            "text/plain": [
              "     Dress_ID    Style    Price  Rating    Size  Season NeckLine SleeveLength  \\\n",
              "0  1006032852     Sexy      Low     4.6  Medium  Summer   o-neck    sleevless   \n",
              "1  1212192089   Casual      Low     0.0   Large  Summer   o-neck        Petal   \n",
              "2  1190380701  vintage     High     0.0   Large  Autumn   o-neck         full   \n",
              "3   966005983    Brief  Average     4.6   Large  Spring   o-neck         full   \n",
              "4   876339541     cute      Low     4.5  Medium  Summer   o-neck    butterfly   \n",
              "\n",
              "        Material FabricType  Decoration Pattern Type  Recommendation   summer  \\\n",
              "0         cotton    chiffon     ruffles       animal               1  13899.0   \n",
              "1     microfiber    chiffon     ruffles       animal               0   6216.0   \n",
              "2       polyster    chiffon        lace        print               0     40.0   \n",
              "3           silk    chiffon  embroidary        print               1   7213.0   \n",
              "4  chiffonfabric    chiffon         bow          dot               0   7706.0   \n",
              "\n",
              "    autumn  winter  spring  all_seasons  \n",
              "0  26857.0  9658.0  2660.0      53074.0  \n",
              "1  17311.0  6405.0   750.0      30682.0  \n",
              "2     82.0    28.0     7.0        157.0  \n",
              "3  14411.0  5012.0  1455.0      28091.0  \n",
              "4  14676.0  5678.0  1396.0      29456.0  "
            ],
            "text/html": [
              "\n",
              "  <div id=\"df-e6cf869a-dac8-45aa-a155-cff5a9ae0a54\" class=\"colab-df-container\">\n",
              "    <div>\n",
              "<style scoped>\n",
              "    .dataframe tbody tr th:only-of-type {\n",
              "        vertical-align: middle;\n",
              "    }\n",
              "\n",
              "    .dataframe tbody tr th {\n",
              "        vertical-align: top;\n",
              "    }\n",
              "\n",
              "    .dataframe thead th {\n",
              "        text-align: right;\n",
              "    }\n",
              "</style>\n",
              "<table border=\"1\" class=\"dataframe\">\n",
              "  <thead>\n",
              "    <tr style=\"text-align: right;\">\n",
              "      <th></th>\n",
              "      <th>Dress_ID</th>\n",
              "      <th>Style</th>\n",
              "      <th>Price</th>\n",
              "      <th>Rating</th>\n",
              "      <th>Size</th>\n",
              "      <th>Season</th>\n",
              "      <th>NeckLine</th>\n",
              "      <th>SleeveLength</th>\n",
              "      <th>Material</th>\n",
              "      <th>FabricType</th>\n",
              "      <th>Decoration</th>\n",
              "      <th>Pattern Type</th>\n",
              "      <th>Recommendation</th>\n",
              "      <th>summer</th>\n",
              "      <th>autumn</th>\n",
              "      <th>winter</th>\n",
              "      <th>spring</th>\n",
              "      <th>all_seasons</th>\n",
              "    </tr>\n",
              "  </thead>\n",
              "  <tbody>\n",
              "    <tr>\n",
              "      <th>0</th>\n",
              "      <td>1006032852</td>\n",
              "      <td>Sexy</td>\n",
              "      <td>Low</td>\n",
              "      <td>4.6</td>\n",
              "      <td>Medium</td>\n",
              "      <td>Summer</td>\n",
              "      <td>o-neck</td>\n",
              "      <td>sleevless</td>\n",
              "      <td>cotton</td>\n",
              "      <td>chiffon</td>\n",
              "      <td>ruffles</td>\n",
              "      <td>animal</td>\n",
              "      <td>1</td>\n",
              "      <td>13899.0</td>\n",
              "      <td>26857.0</td>\n",
              "      <td>9658.0</td>\n",
              "      <td>2660.0</td>\n",
              "      <td>53074.0</td>\n",
              "    </tr>\n",
              "    <tr>\n",
              "      <th>1</th>\n",
              "      <td>1212192089</td>\n",
              "      <td>Casual</td>\n",
              "      <td>Low</td>\n",
              "      <td>0.0</td>\n",
              "      <td>Large</td>\n",
              "      <td>Summer</td>\n",
              "      <td>o-neck</td>\n",
              "      <td>Petal</td>\n",
              "      <td>microfiber</td>\n",
              "      <td>chiffon</td>\n",
              "      <td>ruffles</td>\n",
              "      <td>animal</td>\n",
              "      <td>0</td>\n",
              "      <td>6216.0</td>\n",
              "      <td>17311.0</td>\n",
              "      <td>6405.0</td>\n",
              "      <td>750.0</td>\n",
              "      <td>30682.0</td>\n",
              "    </tr>\n",
              "    <tr>\n",
              "      <th>2</th>\n",
              "      <td>1190380701</td>\n",
              "      <td>vintage</td>\n",
              "      <td>High</td>\n",
              "      <td>0.0</td>\n",
              "      <td>Large</td>\n",
              "      <td>Autumn</td>\n",
              "      <td>o-neck</td>\n",
              "      <td>full</td>\n",
              "      <td>polyster</td>\n",
              "      <td>chiffon</td>\n",
              "      <td>lace</td>\n",
              "      <td>print</td>\n",
              "      <td>0</td>\n",
              "      <td>40.0</td>\n",
              "      <td>82.0</td>\n",
              "      <td>28.0</td>\n",
              "      <td>7.0</td>\n",
              "      <td>157.0</td>\n",
              "    </tr>\n",
              "    <tr>\n",
              "      <th>3</th>\n",
              "      <td>966005983</td>\n",
              "      <td>Brief</td>\n",
              "      <td>Average</td>\n",
              "      <td>4.6</td>\n",
              "      <td>Large</td>\n",
              "      <td>Spring</td>\n",
              "      <td>o-neck</td>\n",
              "      <td>full</td>\n",
              "      <td>silk</td>\n",
              "      <td>chiffon</td>\n",
              "      <td>embroidary</td>\n",
              "      <td>print</td>\n",
              "      <td>1</td>\n",
              "      <td>7213.0</td>\n",
              "      <td>14411.0</td>\n",
              "      <td>5012.0</td>\n",
              "      <td>1455.0</td>\n",
              "      <td>28091.0</td>\n",
              "    </tr>\n",
              "    <tr>\n",
              "      <th>4</th>\n",
              "      <td>876339541</td>\n",
              "      <td>cute</td>\n",
              "      <td>Low</td>\n",
              "      <td>4.5</td>\n",
              "      <td>Medium</td>\n",
              "      <td>Summer</td>\n",
              "      <td>o-neck</td>\n",
              "      <td>butterfly</td>\n",
              "      <td>chiffonfabric</td>\n",
              "      <td>chiffon</td>\n",
              "      <td>bow</td>\n",
              "      <td>dot</td>\n",
              "      <td>0</td>\n",
              "      <td>7706.0</td>\n",
              "      <td>14676.0</td>\n",
              "      <td>5678.0</td>\n",
              "      <td>1396.0</td>\n",
              "      <td>29456.0</td>\n",
              "    </tr>\n",
              "  </tbody>\n",
              "</table>\n",
              "</div>\n",
              "    <div class=\"colab-df-buttons\">\n",
              "\n",
              "  <div class=\"colab-df-container\">\n",
              "    <button class=\"colab-df-convert\" onclick=\"convertToInteractive('df-e6cf869a-dac8-45aa-a155-cff5a9ae0a54')\"\n",
              "            title=\"Convert this dataframe to an interactive table.\"\n",
              "            style=\"display:none;\">\n",
              "\n",
              "  <svg xmlns=\"http://www.w3.org/2000/svg\" height=\"24px\" viewBox=\"0 -960 960 960\">\n",
              "    <path d=\"M120-120v-720h720v720H120Zm60-500h600v-160H180v160Zm220 220h160v-160H400v160Zm0 220h160v-160H400v160ZM180-400h160v-160H180v160Zm440 0h160v-160H620v160ZM180-180h160v-160H180v160Zm440 0h160v-160H620v160Z\"/>\n",
              "  </svg>\n",
              "    </button>\n",
              "\n",
              "  <style>\n",
              "    .colab-df-container {\n",
              "      display:flex;\n",
              "      gap: 12px;\n",
              "    }\n",
              "\n",
              "    .colab-df-convert {\n",
              "      background-color: #E8F0FE;\n",
              "      border: none;\n",
              "      border-radius: 50%;\n",
              "      cursor: pointer;\n",
              "      display: none;\n",
              "      fill: #1967D2;\n",
              "      height: 32px;\n",
              "      padding: 0 0 0 0;\n",
              "      width: 32px;\n",
              "    }\n",
              "\n",
              "    .colab-df-convert:hover {\n",
              "      background-color: #E2EBFA;\n",
              "      box-shadow: 0px 1px 2px rgba(60, 64, 67, 0.3), 0px 1px 3px 1px rgba(60, 64, 67, 0.15);\n",
              "      fill: #174EA6;\n",
              "    }\n",
              "\n",
              "    .colab-df-buttons div {\n",
              "      margin-bottom: 4px;\n",
              "    }\n",
              "\n",
              "    [theme=dark] .colab-df-convert {\n",
              "      background-color: #3B4455;\n",
              "      fill: #D2E3FC;\n",
              "    }\n",
              "\n",
              "    [theme=dark] .colab-df-convert:hover {\n",
              "      background-color: #434B5C;\n",
              "      box-shadow: 0px 1px 3px 1px rgba(0, 0, 0, 0.15);\n",
              "      filter: drop-shadow(0px 1px 2px rgba(0, 0, 0, 0.3));\n",
              "      fill: #FFFFFF;\n",
              "    }\n",
              "  </style>\n",
              "\n",
              "    <script>\n",
              "      const buttonEl =\n",
              "        document.querySelector('#df-e6cf869a-dac8-45aa-a155-cff5a9ae0a54 button.colab-df-convert');\n",
              "      buttonEl.style.display =\n",
              "        google.colab.kernel.accessAllowed ? 'block' : 'none';\n",
              "\n",
              "      async function convertToInteractive(key) {\n",
              "        const element = document.querySelector('#df-e6cf869a-dac8-45aa-a155-cff5a9ae0a54');\n",
              "        const dataTable =\n",
              "          await google.colab.kernel.invokeFunction('convertToInteractive',\n",
              "                                                    [key], {});\n",
              "        if (!dataTable) return;\n",
              "\n",
              "        const docLinkHtml = 'Like what you see? Visit the ' +\n",
              "          '<a target=\"_blank\" href=https://colab.research.google.com/notebooks/data_table.ipynb>data table notebook</a>'\n",
              "          + ' to learn more about interactive tables.';\n",
              "        element.innerHTML = '';\n",
              "        dataTable['output_type'] = 'display_data';\n",
              "        await google.colab.output.renderOutput(dataTable, element);\n",
              "        const docLink = document.createElement('div');\n",
              "        docLink.innerHTML = docLinkHtml;\n",
              "        element.appendChild(docLink);\n",
              "      }\n",
              "    </script>\n",
              "  </div>\n",
              "\n",
              "\n",
              "<div id=\"df-4c5d4535-663d-49dc-b774-46e4b3a64ed7\">\n",
              "  <button class=\"colab-df-quickchart\" onclick=\"quickchart('df-4c5d4535-663d-49dc-b774-46e4b3a64ed7')\"\n",
              "            title=\"Suggest charts\"\n",
              "            style=\"display:none;\">\n",
              "\n",
              "<svg xmlns=\"http://www.w3.org/2000/svg\" height=\"24px\"viewBox=\"0 0 24 24\"\n",
              "     width=\"24px\">\n",
              "    <g>\n",
              "        <path d=\"M19 3H5c-1.1 0-2 .9-2 2v14c0 1.1.9 2 2 2h14c1.1 0 2-.9 2-2V5c0-1.1-.9-2-2-2zM9 17H7v-7h2v7zm4 0h-2V7h2v10zm4 0h-2v-4h2v4z\"/>\n",
              "    </g>\n",
              "</svg>\n",
              "  </button>\n",
              "\n",
              "<style>\n",
              "  .colab-df-quickchart {\n",
              "      --bg-color: #E8F0FE;\n",
              "      --fill-color: #1967D2;\n",
              "      --hover-bg-color: #E2EBFA;\n",
              "      --hover-fill-color: #174EA6;\n",
              "      --disabled-fill-color: #AAA;\n",
              "      --disabled-bg-color: #DDD;\n",
              "  }\n",
              "\n",
              "  [theme=dark] .colab-df-quickchart {\n",
              "      --bg-color: #3B4455;\n",
              "      --fill-color: #D2E3FC;\n",
              "      --hover-bg-color: #434B5C;\n",
              "      --hover-fill-color: #FFFFFF;\n",
              "      --disabled-bg-color: #3B4455;\n",
              "      --disabled-fill-color: #666;\n",
              "  }\n",
              "\n",
              "  .colab-df-quickchart {\n",
              "    background-color: var(--bg-color);\n",
              "    border: none;\n",
              "    border-radius: 50%;\n",
              "    cursor: pointer;\n",
              "    display: none;\n",
              "    fill: var(--fill-color);\n",
              "    height: 32px;\n",
              "    padding: 0;\n",
              "    width: 32px;\n",
              "  }\n",
              "\n",
              "  .colab-df-quickchart:hover {\n",
              "    background-color: var(--hover-bg-color);\n",
              "    box-shadow: 0 1px 2px rgba(60, 64, 67, 0.3), 0 1px 3px 1px rgba(60, 64, 67, 0.15);\n",
              "    fill: var(--button-hover-fill-color);\n",
              "  }\n",
              "\n",
              "  .colab-df-quickchart-complete:disabled,\n",
              "  .colab-df-quickchart-complete:disabled:hover {\n",
              "    background-color: var(--disabled-bg-color);\n",
              "    fill: var(--disabled-fill-color);\n",
              "    box-shadow: none;\n",
              "  }\n",
              "\n",
              "  .colab-df-spinner {\n",
              "    border: 2px solid var(--fill-color);\n",
              "    border-color: transparent;\n",
              "    border-bottom-color: var(--fill-color);\n",
              "    animation:\n",
              "      spin 1s steps(1) infinite;\n",
              "  }\n",
              "\n",
              "  @keyframes spin {\n",
              "    0% {\n",
              "      border-color: transparent;\n",
              "      border-bottom-color: var(--fill-color);\n",
              "      border-left-color: var(--fill-color);\n",
              "    }\n",
              "    20% {\n",
              "      border-color: transparent;\n",
              "      border-left-color: var(--fill-color);\n",
              "      border-top-color: var(--fill-color);\n",
              "    }\n",
              "    30% {\n",
              "      border-color: transparent;\n",
              "      border-left-color: var(--fill-color);\n",
              "      border-top-color: var(--fill-color);\n",
              "      border-right-color: var(--fill-color);\n",
              "    }\n",
              "    40% {\n",
              "      border-color: transparent;\n",
              "      border-right-color: var(--fill-color);\n",
              "      border-top-color: var(--fill-color);\n",
              "    }\n",
              "    60% {\n",
              "      border-color: transparent;\n",
              "      border-right-color: var(--fill-color);\n",
              "    }\n",
              "    80% {\n",
              "      border-color: transparent;\n",
              "      border-right-color: var(--fill-color);\n",
              "      border-bottom-color: var(--fill-color);\n",
              "    }\n",
              "    90% {\n",
              "      border-color: transparent;\n",
              "      border-bottom-color: var(--fill-color);\n",
              "    }\n",
              "  }\n",
              "</style>\n",
              "\n",
              "  <script>\n",
              "    async function quickchart(key) {\n",
              "      const quickchartButtonEl =\n",
              "        document.querySelector('#' + key + ' button');\n",
              "      quickchartButtonEl.disabled = true;  // To prevent multiple clicks.\n",
              "      quickchartButtonEl.classList.add('colab-df-spinner');\n",
              "      try {\n",
              "        const charts = await google.colab.kernel.invokeFunction(\n",
              "            'suggestCharts', [key], {});\n",
              "      } catch (error) {\n",
              "        console.error('Error during call to suggestCharts:', error);\n",
              "      }\n",
              "      quickchartButtonEl.classList.remove('colab-df-spinner');\n",
              "      quickchartButtonEl.classList.add('colab-df-quickchart-complete');\n",
              "    }\n",
              "    (() => {\n",
              "      let quickchartButtonEl =\n",
              "        document.querySelector('#df-4c5d4535-663d-49dc-b774-46e4b3a64ed7 button');\n",
              "      quickchartButtonEl.style.display =\n",
              "        google.colab.kernel.accessAllowed ? 'block' : 'none';\n",
              "    })();\n",
              "  </script>\n",
              "</div>\n",
              "\n",
              "    </div>\n",
              "  </div>\n"
            ],
            "application/vnd.google.colaboratory.intrinsic+json": {
              "type": "dataframe",
              "variable_name": "df",
              "summary": "{\n  \"name\": \"df\",\n  \"rows\": 479,\n  \"fields\": [\n    {\n      \"column\": \"Dress_ID\",\n      \"properties\": {\n        \"dtype\": \"number\",\n        \"std\": 182235169,\n        \"min\": 123456789,\n        \"max\": 1253973206,\n        \"num_unique_values\": 479,\n        \"samples\": [\n          1118628066,\n          1219677488,\n          743729613\n        ],\n        \"semantic_type\": \"\",\n        \"description\": \"\"\n      }\n    },\n    {\n      \"column\": \"Style\",\n      \"properties\": {\n        \"dtype\": \"category\",\n        \"num_unique_values\": 10,\n        \"samples\": [\n          \"sexy\",\n          \"Casual\",\n          \"bohemian\"\n        ],\n        \"semantic_type\": \"\",\n        \"description\": \"\"\n      }\n    },\n    {\n      \"column\": \"Price\",\n      \"properties\": {\n        \"dtype\": \"category\",\n        \"num_unique_values\": 5,\n        \"samples\": [\n          \"High\",\n          \"Very-High\",\n          \"Average\"\n        ],\n        \"semantic_type\": \"\",\n        \"description\": \"\"\n      }\n    },\n    {\n      \"column\": \"Rating\",\n      \"properties\": {\n        \"dtype\": \"number\",\n        \"std\": 2.028941073943481,\n        \"min\": 0.0,\n        \"max\": 5.0,\n        \"num_unique_values\": 17,\n        \"samples\": [\n          4.6,\n          0.0,\n          4.8\n        ],\n        \"semantic_type\": \"\",\n        \"description\": \"\"\n      }\n    },\n    {\n      \"column\": \"Size\",\n      \"properties\": {\n        \"dtype\": \"category\",\n        \"num_unique_values\": 5,\n        \"samples\": [\n          \"Large\",\n          \"Small\",\n          \"Extra large\"\n        ],\n        \"semantic_type\": \"\",\n        \"description\": \"\"\n      }\n    },\n    {\n      \"column\": \"Season\",\n      \"properties\": {\n        \"dtype\": \"category\",\n        \"num_unique_values\": 4,\n        \"samples\": [\n          \"Autumn\",\n          \"Winter\",\n          \"Summer\"\n        ],\n        \"semantic_type\": \"\",\n        \"description\": \"\"\n      }\n    },\n    {\n      \"column\": \"NeckLine\",\n      \"properties\": {\n        \"dtype\": \"category\",\n        \"num_unique_values\": 15,\n        \"samples\": [\n          \"sqare-collor\",\n          \"scoop\",\n          \"o-neck\"\n        ],\n        \"semantic_type\": \"\",\n        \"description\": \"\"\n      }\n    },\n    {\n      \"column\": \"SleeveLength\",\n      \"properties\": {\n        \"dtype\": \"category\",\n        \"num_unique_values\": 17,\n        \"samples\": [\n          \"sleevless\",\n          \"Petal\",\n          \"threequarter\"\n        ],\n        \"semantic_type\": \"\",\n        \"description\": \"\"\n      }\n    },\n    {\n      \"column\": \"Material\",\n      \"properties\": {\n        \"dtype\": \"category\",\n        \"num_unique_values\": 22,\n        \"samples\": [\n          \"cotton\",\n          \"spandex\",\n          \"linen\"\n        ],\n        \"semantic_type\": \"\",\n        \"description\": \"\"\n      }\n    },\n    {\n      \"column\": \"FabricType\",\n      \"properties\": {\n        \"dtype\": \"category\",\n        \"num_unique_values\": 22,\n        \"samples\": [\n          \"chiffon\",\n          \"tulle\",\n          \"woolen\"\n        ],\n        \"semantic_type\": \"\",\n        \"description\": \"\"\n      }\n    },\n    {\n      \"column\": \"Decoration\",\n      \"properties\": {\n        \"dtype\": \"category\",\n        \"num_unique_values\": 24,\n        \"samples\": [\n          \"sequined\",\n          \"pleat\",\n          \"ruffles\"\n        ],\n        \"semantic_type\": \"\",\n        \"description\": \"\"\n      }\n    },\n    {\n      \"column\": \"Pattern Type\",\n      \"properties\": {\n        \"dtype\": \"category\",\n        \"num_unique_values\": 14,\n        \"samples\": [\n          \"floral\",\n          \"splice\",\n          \"animal\"\n        ],\n        \"semantic_type\": \"\",\n        \"description\": \"\"\n      }\n    },\n    {\n      \"column\": \"Recommendation\",\n      \"properties\": {\n        \"dtype\": \"number\",\n        \"std\": 0,\n        \"min\": 0,\n        \"max\": 1,\n        \"num_unique_values\": 2,\n        \"samples\": [\n          0,\n          1\n        ],\n        \"semantic_type\": \"\",\n        \"description\": \"\"\n      }\n    },\n    {\n      \"column\": \"summer\",\n      \"properties\": {\n        \"dtype\": \"number\",\n        \"std\": 2974.548813810313,\n        \"min\": 2.0,\n        \"max\": 35577.0,\n        \"num_unique_values\": 413,\n        \"samples\": [\n          496.0,\n          523.0\n        ],\n        \"semantic_type\": \"\",\n        \"description\": \"\"\n      }\n    },\n    {\n      \"column\": \"autumn\",\n      \"properties\": {\n        \"dtype\": \"number\",\n        \"std\": 5003.631778959301,\n        \"min\": 1.0,\n        \"max\": 55532.0,\n        \"num_unique_values\": 443,\n        \"samples\": [\n          372.0,\n          1003.0\n        ],\n        \"semantic_type\": \"\",\n        \"description\": \"\"\n      }\n    },\n    {\n      \"column\": \"winter\",\n      \"properties\": {\n        \"dtype\": \"number\",\n        \"std\": 1849.0322725615893,\n        \"min\": 0.0,\n        \"max\": 20388.0,\n        \"num_unique_values\": 395,\n        \"samples\": [\n          1384.0,\n          78.0\n        ],\n        \"semantic_type\": \"\",\n        \"description\": \"\"\n      }\n    },\n    {\n      \"column\": \"spring\",\n      \"properties\": {\n        \"dtype\": \"number\",\n        \"std\": 601.2077814400293,\n        \"min\": 1.0,\n        \"max\": 7374.0,\n        \"num_unique_values\": 291,\n        \"samples\": [\n          675.0,\n          10.0\n        ],\n        \"semantic_type\": \"\",\n        \"description\": \"\"\n      }\n    },\n    {\n      \"column\": \"all_seasons\",\n      \"properties\": {\n        \"dtype\": \"number\",\n        \"std\": 10396.711597204518,\n        \"min\": 4.0,\n        \"max\": 118871.0,\n        \"num_unique_values\": 455,\n        \"samples\": [\n          863.0,\n          2769.0\n        ],\n        \"semantic_type\": \"\",\n        \"description\": \"\"\n      }\n    }\n  ]\n}"
            }
          },
          "metadata": {},
          "execution_count": 72
        }
      ]
    },
    {
      "cell_type": "code",
      "execution_count": 70,
      "metadata": {
        "id": "zjcACQh5j7Yn"
      },
      "outputs": [],
      "source": [
        "# Group \"Neckline\" categories into \"Others\" which have less than 50000 sales across all the seasons.\n",
        "table=df.groupby('NeckLine').sum()['all_seasons']\n",
        "others_list=table[table<50000].index.tolist()"
      ]
    },
    {
      "cell_type": "code",
      "source": [
        "df.loc[df['NeckLine'].isin(others_list),'NeckLine']='Other'"
      ],
      "metadata": {
        "id": "riU37OgD2Tlq"
      },
      "execution_count": 117,
      "outputs": []
    },
    {
      "cell_type": "code",
      "source": [
        "df.NeckLine.unique()"
      ],
      "metadata": {
        "colab": {
          "base_uri": "https://localhost:8080/"
        },
        "id": "6jI6IKNquvbN",
        "outputId": "aa9dbbbb-8543-47c6-8856-b4b32ddac36e"
      },
      "execution_count": 118,
      "outputs": [
        {
          "output_type": "execute_result",
          "data": {
            "text/plain": [
              "array(['o-neck', 'v-neck', 'boat-neck', 'Other', 'ruffled',\n",
              "       'turndowncollor', 'slash-neck'], dtype=object)"
            ]
          },
          "metadata": {},
          "execution_count": 118
        }
      ]
    },
    {
      "cell_type": "code",
      "execution_count": null,
      "metadata": {
        "id": "syeB4kJfj7Yn"
      },
      "outputs": [],
      "source": [
        "# Group \"Sleeve length\" categories into \"Others\" which have less than 50000 sales across all the seasons.\n"
      ]
    },
    {
      "cell_type": "code",
      "source": [
        "def func(x,y):\n",
        "  table=df.groupby(x).sum()['all_seasons']\n",
        "  other_list=table[table<y].index.tolist()\n",
        "  for i in other_list:\n",
        "    df.loc[df[x]==i,x]='Other'"
      ],
      "metadata": {
        "id": "eXxEWfYn6sE_"
      },
      "execution_count": 73,
      "outputs": []
    },
    {
      "cell_type": "markdown",
      "metadata": {
        "id": "axe-VlC_j7Yn"
      },
      "source": [
        "Club material, fabrictype, patterntype and decoration categories into \"Others\" which have less than 25000 sales across all the seasons"
      ]
    },
    {
      "cell_type": "code",
      "source": [
        "func(\"SleeveLength\",50000)\n",
        "df.SleeveLength.unique()"
      ],
      "metadata": {
        "colab": {
          "base_uri": "https://localhost:8080/"
        },
        "id": "pODWDmYm6yPK",
        "outputId": "eb01a89f-d6fe-43b8-a037-4e335e154492"
      },
      "execution_count": 74,
      "outputs": [
        {
          "output_type": "execute_result",
          "data": {
            "text/plain": [
              "array(['sleevless', 'Other', 'full', 'short', 'threequarter',\n",
              "       'halfsleeve'], dtype=object)"
            ]
          },
          "metadata": {},
          "execution_count": 74
        }
      ]
    },
    {
      "cell_type": "code",
      "source": [
        "func(\"NeckLine\",50000)"
      ],
      "metadata": {
        "id": "3HEY9UT-7iEy"
      },
      "execution_count": 75,
      "outputs": []
    },
    {
      "cell_type": "code",
      "source": [
        "# Group \"material\" categories into \"Others\" which have less than 25000 sales across all the seasons.\n",
        "func(\"Material\",25000)\n",
        "df.groupby(\"Material\").sum()['all_seasons']"
      ],
      "metadata": {
        "colab": {
          "base_uri": "https://localhost:8080/"
        },
        "id": "mWMOYpiT8a_g",
        "outputId": "d043b6c7-4872-4523-8cd6-d700fd05b9bc"
      },
      "execution_count": 76,
      "outputs": [
        {
          "output_type": "execute_result",
          "data": {
            "text/plain": [
              "Material\n",
              "Other             101502.0\n",
              "chiffonfabric     333284.0\n",
              "cotton           1407834.0\n",
              "microfiber         31817.0\n",
              "milksilk           33710.0\n",
              "mix                68490.0\n",
              "nylon              29483.0\n",
              "polyster          487893.0\n",
              "rayon              65208.0\n",
              "silk               93867.0\n",
              "Name: all_seasons, dtype: float64"
            ]
          },
          "metadata": {},
          "execution_count": 76
        }
      ]
    },
    {
      "cell_type": "code",
      "execution_count": 77,
      "metadata": {
        "id": "W5J1uaiaj7Yn",
        "colab": {
          "base_uri": "https://localhost:8080/"
        },
        "outputId": "0a525e76-3f29-4e01-f828-29d65bf6c06a"
      },
      "outputs": [
        {
          "output_type": "execute_result",
          "data": {
            "text/plain": [
              "FabricType\n",
              "Other           71247.0\n",
              "broadcloth     119998.0\n",
              "chiffon       2234312.0\n",
              "jersey         119952.0\n",
              "shiffon         27486.0\n",
              "worsted         80093.0\n",
              "Name: all_seasons, dtype: float64"
            ]
          },
          "metadata": {},
          "execution_count": 77
        }
      ],
      "source": [
        "# Group \"fabric type\" categories into \"Others\" which have less than 25000 sales across all the seasons.\n",
        "func(\"FabricType\",25000)\n",
        "df.groupby(\"FabricType\").sum()['all_seasons']"
      ]
    },
    {
      "cell_type": "code",
      "execution_count": 78,
      "metadata": {
        "id": "iS4JHB9Kj7Yn",
        "colab": {
          "base_uri": "https://localhost:8080/"
        },
        "outputId": "1201eade-4dd5-4416-c117-f8f28220cabe"
      },
      "outputs": [
        {
          "output_type": "execute_result",
          "data": {
            "text/plain": [
              "Pattern Type\n",
              "Other          29841.0\n",
              "animal        211273.0\n",
              "dot           245091.0\n",
              "geometric     114335.0\n",
              "leopard        25267.0\n",
              "patchwork     190498.0\n",
              "print         403025.0\n",
              "solid        1371813.0\n",
              "striped        61945.0\n",
              "Name: all_seasons, dtype: float64"
            ]
          },
          "metadata": {},
          "execution_count": 78
        }
      ],
      "source": [
        "# Group \"patern type\" categories into \"Others\" which have less than 25000 sales across all the seasons.\n",
        "func(\"Pattern Type\",25000)\n",
        "df.groupby(\"Pattern Type\").sum()['all_seasons']"
      ]
    },
    {
      "cell_type": "code",
      "execution_count": 79,
      "metadata": {
        "id": "FWYXmlMWj7Yn",
        "colab": {
          "base_uri": "https://localhost:8080/"
        },
        "outputId": "0b542615-f65a-4898-c7f7-ec78921225da"
      },
      "outputs": [
        {
          "output_type": "execute_result",
          "data": {
            "text/plain": [
              "Decoration\n",
              "Other          121038.0\n",
              "applique        67873.0\n",
              "beading         48925.0\n",
              "bow            255359.0\n",
              "embroidary      45760.0\n",
              "hollowout       67758.0\n",
              "lace          1520730.0\n",
              "ruffles        191187.0\n",
              "sashes         285759.0\n",
              "sequined        48699.0\n",
              "Name: all_seasons, dtype: float64"
            ]
          },
          "metadata": {},
          "execution_count": 79
        }
      ],
      "source": [
        "# Group \"decoration\" categories into \"Others\" which have less than 25000 sales across all the seasons.\n",
        "func(\"Decoration\",25000)\n",
        "df.groupby(\"Decoration\").sum()['all_seasons']"
      ]
    },
    {
      "cell_type": "markdown",
      "metadata": {
        "id": "riw_IdLpj7Yn"
      },
      "source": [
        "### Caregorical Ordered Univariate Analysis"
      ]
    },
    {
      "cell_type": "markdown",
      "metadata": {
        "id": "mO3TXf9Rj7Yo"
      },
      "source": [
        "### Numerical variable Univariate analysis:"
      ]
    },
    {
      "cell_type": "code",
      "execution_count": 80,
      "metadata": {
        "id": "mOBb7m01j7Yo",
        "colab": {
          "base_uri": "https://localhost:8080/"
        },
        "outputId": "d09907bc-d8f4-4713-fa92-7815552aa23c"
      },
      "outputs": [
        {
          "output_type": "execute_result",
          "data": {
            "text/plain": [
              "52430.0"
            ]
          },
          "metadata": {},
          "execution_count": 80
        }
      ],
      "source": [
        "# Describe the numerical variale: \"Autumn\".\n",
        "df.describe().loc['max','autumn']-df.describe().loc['75%','autumn']"
      ]
    },
    {
      "cell_type": "code",
      "source": [],
      "metadata": {
        "id": "2ojf9IZh3B1u"
      },
      "execution_count": null,
      "outputs": []
    },
    {
      "cell_type": "code",
      "source": [],
      "metadata": {
        "id": "XPpRQyZD3CF7"
      },
      "execution_count": null,
      "outputs": []
    },
    {
      "cell_type": "code",
      "execution_count": 81,
      "metadata": {
        "id": "2LMdRWAhj7Yo",
        "colab": {
          "base_uri": "https://localhost:8080/",
          "height": 448
        },
        "outputId": "354b4366-07a8-4345-9e7c-8c99d7a3bd1c"
      },
      "outputs": [
        {
          "output_type": "execute_result",
          "data": {
            "text/plain": [
              "<Axes: >"
            ]
          },
          "metadata": {},
          "execution_count": 81
        },
        {
          "output_type": "display_data",
          "data": {
            "text/plain": [
              "<Figure size 640x480 with 1 Axes>"
            ],
            "image/png": "[encoded data removed]"
          },
          "metadata": {}
        }
      ],
      "source": [
        "# plot the boxplot of \"Autumn\" column.\n",
        "df.boxplot(column='autumn')"
      ]
    },
    {
      "cell_type": "markdown",
      "metadata": {
        "id": "wX5mBz_7j7Yo"
      },
      "source": [
        "Which of the following season has the highest difference between the maximum value and 99th quantile of sales?\n",
        "- Winter\n",
        "- Summer\n",
        "- Spring\n",
        "- Autumn\n"
      ]
    },
    {
      "cell_type": "code",
      "execution_count": 82,
      "metadata": {
        "id": "7ETSah2Ij7Yo",
        "colab": {
          "base_uri": "https://localhost:8080/"
        },
        "outputId": "d5823864-3a9d-4a3b-8914-819c742b5d98"
      },
      "outputs": [
        {
          "output_type": "execute_result",
          "data": {
            "text/plain": [
              "11479.580000000029"
            ]
          },
          "metadata": {},
          "execution_count": 82
        }
      ],
      "source": [
        "# Find the maximum and 99th percentile of Winter season.\n",
        "df.winter.max()-df.winter.quantile(0.99)"
      ]
    },
    {
      "cell_type": "code",
      "execution_count": 83,
      "metadata": {
        "id": "FfrOO9Obj7Yp",
        "colab": {
          "base_uri": "https://localhost:8080/"
        },
        "outputId": "a3b4e01f-2480-4f89-8f61-d1a96b6a00ef"
      },
      "outputs": [
        {
          "output_type": "execute_result",
          "data": {
            "text/plain": [
              "21623.000000000007"
            ]
          },
          "metadata": {},
          "execution_count": 83
        }
      ],
      "source": [
        "# Find the maximum and 99th percentile of Summer season.\n",
        "df.summer.max()-df.summer.quantile(0.99)"
      ]
    },
    {
      "cell_type": "code",
      "execution_count": 84,
      "metadata": {
        "id": "R2U8yKeXj7Yp",
        "colab": {
          "base_uri": "https://localhost:8080/"
        },
        "outputId": "6a93a8b8-a2f5-4311-ef82-bb26e2020298"
      },
      "outputs": [
        {
          "output_type": "execute_result",
          "data": {
            "text/plain": [
              "4717.12"
            ]
          },
          "metadata": {},
          "execution_count": 84
        }
      ],
      "source": [
        "# Find the maximum and 99th percentile of Spring season.\n",
        "df.spring.max()-df.spring.quantile(0.99)"
      ]
    },
    {
      "cell_type": "code",
      "execution_count": 85,
      "metadata": {
        "id": "db9Ez9npj7Yp",
        "colab": {
          "base_uri": "https://localhost:8080/"
        },
        "outputId": "f250ad41-f2a3-47ba-a17c-fe3802105d3d"
      },
      "outputs": [
        {
          "output_type": "execute_result",
          "data": {
            "text/plain": [
              "31571.600000000064"
            ]
          },
          "metadata": {},
          "execution_count": 85
        }
      ],
      "source": [
        "# Find the maximum and 99th percentile of Autumn season.\n",
        "df.autumn.max()-df.autumn.quantile(0.99)"
      ]
    },
    {
      "cell_type": "markdown",
      "metadata": {
        "id": "ij_FtyjCj7Yp"
      },
      "source": [
        "## Bivariate Analysis"
      ]
    },
    {
      "cell_type": "markdown",
      "metadata": {
        "id": "SV_SlkUgj7Yp"
      },
      "source": [
        "### Numerical- Categorical analysis"
      ]
    },
    {
      "cell_type": "markdown",
      "metadata": {
        "id": "2qt0JkLsj7Yp"
      },
      "source": [
        "Which of the following “Price” category has the lowest average value of rating?\n",
        "- very-high\n",
        "- Medium\n",
        "- Low\n",
        "- High\n"
      ]
    },
    {
      "cell_type": "code",
      "execution_count": 86,
      "metadata": {
        "id": "4IG421d4j7Yp",
        "colab": {
          "base_uri": "https://localhost:8080/"
        },
        "outputId": "6d0028ff-99d9-48d7-e862-a054c9448cac"
      },
      "outputs": [
        {
          "output_type": "execute_result",
          "data": {
            "text/plain": [
              "Price\n",
              "High    2.914286\n",
              "Name: Rating, dtype: float64"
            ]
          },
          "metadata": {},
          "execution_count": 86
        }
      ],
      "source": [
        "# Find the Mean of Ratings for each Price category.\n",
        "df.groupby('Price')['Rating'].mean().sort_values().head(1)"
      ]
    },
    {
      "cell_type": "markdown",
      "metadata": {
        "id": "4UzwMhuBj7Yp"
      },
      "source": [
        "What is the median of the rating of “vintage” category in Style column?\n",
        "- 4.6\n",
        "- 4.7\n",
        "- 4.55\n",
        "- 0.00\n"
      ]
    },
    {
      "cell_type": "code",
      "execution_count": 87,
      "metadata": {
        "id": "PNN3Denkj7Yp",
        "colab": {
          "base_uri": "https://localhost:8080/"
        },
        "outputId": "a1f58b95-515e-41e8-c40a-92dd58d3bba3"
      },
      "outputs": [
        {
          "output_type": "execute_result",
          "data": {
            "text/plain": [
              "4.6"
            ]
          },
          "metadata": {},
          "execution_count": 87
        }
      ],
      "source": [
        "# Find the median of Ratings for each Style category.\n",
        "df.groupby('Style')['Rating'].median().loc['vintage']"
      ]
    },
    {
      "cell_type": "markdown",
      "metadata": {
        "id": "Yp27HCLNj7Yq"
      },
      "source": [
        "Which of the following season has the highest average value of sale for “Recommendation” value equals to 1.\n",
        "- Summer\n",
        "- Spring\n",
        "- Autumn\n",
        "- Winter\n"
      ]
    },
    {
      "cell_type": "code",
      "source": [
        "df[df['Recommendation']==1]"
      ],
      "metadata": {
        "colab": {
          "base_uri": "https://localhost:8080/",
          "height": 423
        },
        "id": "xCKBanpnNA8L",
        "outputId": "8db7d51b-0072-4f18-dea5-69d324f804f5"
      },
      "execution_count": 88,
      "outputs": [
        {
          "output_type": "execute_result",
          "data": {
            "text/plain": [
              "       Dress_ID     Style    Price  Rating    Size  Season   NeckLine  \\\n",
              "0    1006032852      Sexy      Low     4.6  Medium  Summer     o-neck   \n",
              "3     966005983     Brief  Average     4.6   Large  Spring     o-neck   \n",
              "7    1113094204     Other  Average     0.0    Free  Spring     v-neck   \n",
              "8     985292672  bohemian      Low     0.0    Free  Summer     v-neck   \n",
              "11    957723897      sexy      Low     4.7  Medium  Winter     o-neck   \n",
              "..          ...       ...      ...     ...     ...     ...        ...   \n",
              "471   964917582    Casual  Average     5.0   Large  Summer     o-neck   \n",
              "473   817353671  bohemian      Low     4.6    Free  Summer     o-neck   \n",
              "475   713391965    Casual      Low     4.7  Medium  Spring     o-neck   \n",
              "476   532874347    Casual  Average     4.7  Medium  Summer     v-neck   \n",
              "477   655464934    Casual  Average     4.6   Large  Winter  boat-neck   \n",
              "\n",
              "     SleeveLength  Material  FabricType  Decoration Pattern Type  \\\n",
              "0       sleevless    cotton     chiffon     ruffles       animal   \n",
              "3            full      silk     chiffon  embroidary        print   \n",
              "7           short    cotton  broadcloth     beading        solid   \n",
              "8       sleevless     nylon     chiffon        lace        solid   \n",
              "11   threequarter    cotton     chiffon        lace        print   \n",
              "..            ...       ...         ...         ...          ...   \n",
              "471     sleevless    cotton     chiffon        lace        solid   \n",
              "473     sleevless    cotton     chiffon       Other        solid   \n",
              "475          full  polyster     chiffon        lace        solid   \n",
              "476          full    cotton     chiffon        lace        solid   \n",
              "477     sleevless      silk  broadcloth    applique        print   \n",
              "\n",
              "     Recommendation   summer   autumn  winter  spring  all_seasons  \n",
              "0                 1  13899.0  26857.0  9658.0  2660.0      53074.0  \n",
              "3                 1   7213.0  14411.0  5012.0  1455.0      28091.0  \n",
              "7                 1     68.0    181.0    60.0    12.0        321.0  \n",
              "8                 1     58.0    107.0    39.0    12.0        216.0  \n",
              "11                1   8640.0  17340.0  6356.0  1568.0      33904.0  \n",
              "..              ...      ...      ...     ...     ...          ...  \n",
              "471               1    150.0    458.0   150.0    23.0        781.0  \n",
              "473               1    737.0   2059.0   538.0   217.0       3551.0  \n",
              "475               1   1478.0   3800.0   810.0   560.0       6648.0  \n",
              "476               1   2005.0   5290.0  1214.0   734.0       9243.0  \n",
              "477               1    769.0   2117.0   516.0   254.0       3656.0  \n",
              "\n",
              "[205 rows x 18 columns]"
            ],
            "text/html": [
              "\n",
              "  <div id=\"df-f5047963-9d0e-4857-882e-268a4282ffaf\" class=\"colab-df-container\">\n",
              "    <div>\n",
              "<style scoped>\n",
              "    .dataframe tbody tr th:only-of-type {\n",
              "        vertical-align: middle;\n",
              "    }\n",
              "\n",
              "    .dataframe tbody tr th {\n",
              "        vertical-align: top;\n",
              "    }\n",
              "\n",
              "    .dataframe thead th {\n",
              "        text-align: right;\n",
              "    }\n",
              "</style>\n",
              "<table border=\"1\" class=\"dataframe\">\n",
              "  <thead>\n",
              "    <tr style=\"text-align: right;\">\n",
              "      <th></th>\n",
              "      <th>Dress_ID</th>\n",
              "      <th>Style</th>\n",
              "      <th>Price</th>\n",
              "      <th>Rating</th>\n",
              "      <th>Size</th>\n",
              "      <th>Season</th>\n",
              "      <th>NeckLine</th>\n",
              "      <th>SleeveLength</th>\n",
              "      <th>Material</th>\n",
              "      <th>FabricType</th>\n",
              "      <th>Decoration</th>\n",
              "      <th>Pattern Type</th>\n",
              "      <th>Recommendation</th>\n",
              "      <th>summer</th>\n",
              "      <th>autumn</th>\n",
              "      <th>winter</th>\n",
              "      <th>spring</th>\n",
              "      <th>all_seasons</th>\n",
              "    </tr>\n",
              "  </thead>\n",
              "  <tbody>\n",
              "    <tr>\n",
              "      <th>0</th>\n",
              "      <td>1006032852</td>\n",
              "      <td>Sexy</td>\n",
              "      <td>Low</td>\n",
              "      <td>4.6</td>\n",
              "      <td>Medium</td>\n",
              "      <td>Summer</td>\n",
              "      <td>o-neck</td>\n",
              "      <td>sleevless</td>\n",
              "      <td>cotton</td>\n",
              "      <td>chiffon</td>\n",
              "      <td>ruffles</td>\n",
              "      <td>animal</td>\n",
              "      <td>1</td>\n",
              "      <td>13899.0</td>\n",
              "      <td>26857.0</td>\n",
              "      <td>9658.0</td>\n",
              "      <td>2660.0</td>\n",
              "      <td>53074.0</td>\n",
              "    </tr>\n",
              "    <tr>\n",
              "      <th>3</th>\n",
              "      <td>966005983</td>\n",
              "      <td>Brief</td>\n",
              "      <td>Average</td>\n",
              "      <td>4.6</td>\n",
              "      <td>Large</td>\n",
              "      <td>Spring</td>\n",
              "      <td>o-neck</td>\n",
              "      <td>full</td>\n",
              "      <td>silk</td>\n",
              "      <td>chiffon</td>\n",
              "      <td>embroidary</td>\n",
              "      <td>print</td>\n",
              "      <td>1</td>\n",
              "      <td>7213.0</td>\n",
              "      <td>14411.0</td>\n",
              "      <td>5012.0</td>\n",
              "      <td>1455.0</td>\n",
              "      <td>28091.0</td>\n",
              "    </tr>\n",
              "    <tr>\n",
              "      <th>7</th>\n",
              "      <td>1113094204</td>\n",
              "      <td>Other</td>\n",
              "      <td>Average</td>\n",
              "      <td>0.0</td>\n",
              "      <td>Free</td>\n",
              "      <td>Spring</td>\n",
              "      <td>v-neck</td>\n",
              "      <td>short</td>\n",
              "      <td>cotton</td>\n",
              "      <td>broadcloth</td>\n",
              "      <td>beading</td>\n",
              "      <td>solid</td>\n",
              "      <td>1</td>\n",
              "      <td>68.0</td>\n",
              "      <td>181.0</td>\n",
              "      <td>60.0</td>\n",
              "      <td>12.0</td>\n",
              "      <td>321.0</td>\n",
              "    </tr>\n",
              "    <tr>\n",
              "      <th>8</th>\n",
              "      <td>985292672</td>\n",
              "      <td>bohemian</td>\n",
              "      <td>Low</td>\n",
              "      <td>0.0</td>\n",
              "      <td>Free</td>\n",
              "      <td>Summer</td>\n",
              "      <td>v-neck</td>\n",
              "      <td>sleevless</td>\n",
              "      <td>nylon</td>\n",
              "      <td>chiffon</td>\n",
              "      <td>lace</td>\n",
              "      <td>solid</td>\n",
              "      <td>1</td>\n",
              "      <td>58.0</td>\n",
              "      <td>107.0</td>\n",
              "      <td>39.0</td>\n",
              "      <td>12.0</td>\n",
              "      <td>216.0</td>\n",
              "    </tr>\n",
              "    <tr>\n",
              "      <th>11</th>\n",
              "      <td>957723897</td>\n",
              "      <td>sexy</td>\n",
              "      <td>Low</td>\n",
              "      <td>4.7</td>\n",
              "      <td>Medium</td>\n",
              "      <td>Winter</td>\n",
              "      <td>o-neck</td>\n",
              "      <td>threequarter</td>\n",
              "      <td>cotton</td>\n",
              "      <td>chiffon</td>\n",
              "      <td>lace</td>\n",
              "      <td>print</td>\n",
              "      <td>1</td>\n",
              "      <td>8640.0</td>\n",
              "      <td>17340.0</td>\n",
              "      <td>6356.0</td>\n",
              "      <td>1568.0</td>\n",
              "      <td>33904.0</td>\n",
              "    </tr>\n",
              "    <tr>\n",
              "      <th>...</th>\n",
              "      <td>...</td>\n",
              "      <td>...</td>\n",
              "      <td>...</td>\n",
              "      <td>...</td>\n",
              "      <td>...</td>\n",
              "      <td>...</td>\n",
              "      <td>...</td>\n",
              "      <td>...</td>\n",
              "      <td>...</td>\n",
              "      <td>...</td>\n",
              "      <td>...</td>\n",
              "      <td>...</td>\n",
              "      <td>...</td>\n",
              "      <td>...</td>\n",
              "      <td>...</td>\n",
              "      <td>...</td>\n",
              "      <td>...</td>\n",
              "      <td>...</td>\n",
              "    </tr>\n",
              "    <tr>\n",
              "      <th>471</th>\n",
              "      <td>964917582</td>\n",
              "      <td>Casual</td>\n",
              "      <td>Average</td>\n",
              "      <td>5.0</td>\n",
              "      <td>Large</td>\n",
              "      <td>Summer</td>\n",
              "      <td>o-neck</td>\n",
              "      <td>sleevless</td>\n",
              "      <td>cotton</td>\n",
              "      <td>chiffon</td>\n",
              "      <td>lace</td>\n",
              "      <td>solid</td>\n",
              "      <td>1</td>\n",
              "      <td>150.0</td>\n",
              "      <td>458.0</td>\n",
              "      <td>150.0</td>\n",
              "      <td>23.0</td>\n",
              "      <td>781.0</td>\n",
              "    </tr>\n",
              "    <tr>\n",
              "      <th>473</th>\n",
              "      <td>817353671</td>\n",
              "      <td>bohemian</td>\n",
              "      <td>Low</td>\n",
              "      <td>4.6</td>\n",
              "      <td>Free</td>\n",
              "      <td>Summer</td>\n",
              "      <td>o-neck</td>\n",
              "      <td>sleevless</td>\n",
              "      <td>cotton</td>\n",
              "      <td>chiffon</td>\n",
              "      <td>Other</td>\n",
              "      <td>solid</td>\n",
              "      <td>1</td>\n",
              "      <td>737.0</td>\n",
              "      <td>2059.0</td>\n",
              "      <td>538.0</td>\n",
              "      <td>217.0</td>\n",
              "      <td>3551.0</td>\n",
              "    </tr>\n",
              "    <tr>\n",
              "      <th>475</th>\n",
              "      <td>713391965</td>\n",
              "      <td>Casual</td>\n",
              "      <td>Low</td>\n",
              "      <td>4.7</td>\n",
              "      <td>Medium</td>\n",
              "      <td>Spring</td>\n",
              "      <td>o-neck</td>\n",
              "      <td>full</td>\n",
              "      <td>polyster</td>\n",
              "      <td>chiffon</td>\n",
              "      <td>lace</td>\n",
              "      <td>solid</td>\n",
              "      <td>1</td>\n",
              "      <td>1478.0</td>\n",
              "      <td>3800.0</td>\n",
              "      <td>810.0</td>\n",
              "      <td>560.0</td>\n",
              "      <td>6648.0</td>\n",
              "    </tr>\n",
              "    <tr>\n",
              "      <th>476</th>\n",
              "      <td>532874347</td>\n",
              "      <td>Casual</td>\n",
              "      <td>Average</td>\n",
              "      <td>4.7</td>\n",
              "      <td>Medium</td>\n",
              "      <td>Summer</td>\n",
              "      <td>v-neck</td>\n",
              "      <td>full</td>\n",
              "      <td>cotton</td>\n",
              "      <td>chiffon</td>\n",
              "      <td>lace</td>\n",
              "      <td>solid</td>\n",
              "      <td>1</td>\n",
              "      <td>2005.0</td>\n",
              "      <td>5290.0</td>\n",
              "      <td>1214.0</td>\n",
              "      <td>734.0</td>\n",
              "      <td>9243.0</td>\n",
              "    </tr>\n",
              "    <tr>\n",
              "      <th>477</th>\n",
              "      <td>655464934</td>\n",
              "      <td>Casual</td>\n",
              "      <td>Average</td>\n",
              "      <td>4.6</td>\n",
              "      <td>Large</td>\n",
              "      <td>Winter</td>\n",
              "      <td>boat-neck</td>\n",
              "      <td>sleevless</td>\n",
              "      <td>silk</td>\n",
              "      <td>broadcloth</td>\n",
              "      <td>applique</td>\n",
              "      <td>print</td>\n",
              "      <td>1</td>\n",
              "      <td>769.0</td>\n",
              "      <td>2117.0</td>\n",
              "      <td>516.0</td>\n",
              "      <td>254.0</td>\n",
              "      <td>3656.0</td>\n",
              "    </tr>\n",
              "  </tbody>\n",
              "</table>\n",
              "<p>205 rows × 18 columns</p>\n",
              "</div>\n",
              "    <div class=\"colab-df-buttons\">\n",
              "\n",
              "  <div class=\"colab-df-container\">\n",
              "    <button class=\"colab-df-convert\" onclick=\"convertToInteractive('df-f5047963-9d0e-4857-882e-268a4282ffaf')\"\n",
              "            title=\"Convert this dataframe to an interactive table.\"\n",
              "            style=\"display:none;\">\n",
              "\n",
              "  <svg xmlns=\"http://www.w3.org/2000/svg\" height=\"24px\" viewBox=\"0 -960 960 960\">\n",
              "    <path d=\"M120-120v-720h720v720H120Zm60-500h600v-160H180v160Zm220 220h160v-160H400v160Zm0 220h160v-160H400v160ZM180-400h160v-160H180v160Zm440 0h160v-160H620v160ZM180-180h160v-160H180v160Zm440 0h160v-160H620v160Z\"/>\n",
              "  </svg>\n",
              "    </button>\n",
              "\n",
              "  <style>\n",
              "    .colab-df-container {\n",
              "      display:flex;\n",
              "      gap: 12px;\n",
              "    }\n",
              "\n",
              "    .colab-df-convert {\n",
              "      background-color: #E8F0FE;\n",
              "      border: none;\n",
              "      border-radius: 50%;\n",
              "      cursor: pointer;\n",
              "      display: none;\n",
              "      fill: #1967D2;\n",
              "      height: 32px;\n",
              "      padding: 0 0 0 0;\n",
              "      width: 32px;\n",
              "    }\n",
              "\n",
              "    .colab-df-convert:hover {\n",
              "      background-color: #E2EBFA;\n",
              "      box-shadow: 0px 1px 2px rgba(60, 64, 67, 0.3), 0px 1px 3px 1px rgba(60, 64, 67, 0.15);\n",
              "      fill: #174EA6;\n",
              "    }\n",
              "\n",
              "    .colab-df-buttons div {\n",
              "      margin-bottom: 4px;\n",
              "    }\n",
              "\n",
              "    [theme=dark] .colab-df-convert {\n",
              "      background-color: #3B4455;\n",
              "      fill: #D2E3FC;\n",
              "    }\n",
              "\n",
              "    [theme=dark] .colab-df-convert:hover {\n",
              "      background-color: #434B5C;\n",
              "      box-shadow: 0px 1px 3px 1px rgba(0, 0, 0, 0.15);\n",
              "      filter: drop-shadow(0px 1px 2px rgba(0, 0, 0, 0.3));\n",
              "      fill: #FFFFFF;\n",
              "    }\n",
              "  </style>\n",
              "\n",
              "    <script>\n",
              "      const buttonEl =\n",
              "        document.querySelector('#df-f5047963-9d0e-4857-882e-268a4282ffaf button.colab-df-convert');\n",
              "      buttonEl.style.display =\n",
              "        google.colab.kernel.accessAllowed ? 'block' : 'none';\n",
              "\n",
              "      async function convertToInteractive(key) {\n",
              "        const element = document.querySelector('#df-f5047963-9d0e-4857-882e-268a4282ffaf');\n",
              "        const dataTable =\n",
              "          await google.colab.kernel.invokeFunction('convertToInteractive',\n",
              "                                                    [key], {});\n",
              "        if (!dataTable) return;\n",
              "\n",
              "        const docLinkHtml = 'Like what you see? Visit the ' +\n",
              "          '<a target=\"_blank\" href=https://colab.research.google.com/notebooks/data_table.ipynb>data table notebook</a>'\n",
              "          + ' to learn more about interactive tables.';\n",
              "        element.innerHTML = '';\n",
              "        dataTable['output_type'] = 'display_data';\n",
              "        await google.colab.output.renderOutput(dataTable, element);\n",
              "        const docLink = document.createElement('div');\n",
              "        docLink.innerHTML = docLinkHtml;\n",
              "        element.appendChild(docLink);\n",
              "      }\n",
              "    </script>\n",
              "  </div>\n",
              "\n",
              "\n",
              "<div id=\"df-586698ed-2452-4ac9-879d-bb8666dd0a66\">\n",
              "  <button class=\"colab-df-quickchart\" onclick=\"quickchart('df-586698ed-2452-4ac9-879d-bb8666dd0a66')\"\n",
              "            title=\"Suggest charts\"\n",
              "            style=\"display:none;\">\n",
              "\n",
              "<svg xmlns=\"http://www.w3.org/2000/svg\" height=\"24px\"viewBox=\"0 0 24 24\"\n",
              "     width=\"24px\">\n",
              "    <g>\n",
              "        <path d=\"M19 3H5c-1.1 0-2 .9-2 2v14c0 1.1.9 2 2 2h14c1.1 0 2-.9 2-2V5c0-1.1-.9-2-2-2zM9 17H7v-7h2v7zm4 0h-2V7h2v10zm4 0h-2v-4h2v4z\"/>\n",
              "    </g>\n",
              "</svg>\n",
              "  </button>\n",
              "\n",
              "<style>\n",
              "  .colab-df-quickchart {\n",
              "      --bg-color: #E8F0FE;\n",
              "      --fill-color: #1967D2;\n",
              "      --hover-bg-color: #E2EBFA;\n",
              "      --hover-fill-color: #174EA6;\n",
              "      --disabled-fill-color: #AAA;\n",
              "      --disabled-bg-color: #DDD;\n",
              "  }\n",
              "\n",
              "  [theme=dark] .colab-df-quickchart {\n",
              "      --bg-color: #3B4455;\n",
              "      --fill-color: #D2E3FC;\n",
              "      --hover-bg-color: #434B5C;\n",
              "      --hover-fill-color: #FFFFFF;\n",
              "      --disabled-bg-color: #3B4455;\n",
              "      --disabled-fill-color: #666;\n",
              "  }\n",
              "\n",
              "  .colab-df-quickchart {\n",
              "    background-color: var(--bg-color);\n",
              "    border: none;\n",
              "    border-radius: 50%;\n",
              "    cursor: pointer;\n",
              "    display: none;\n",
              "    fill: var(--fill-color);\n",
              "    height: 32px;\n",
              "    padding: 0;\n",
              "    width: 32px;\n",
              "  }\n",
              "\n",
              "  .colab-df-quickchart:hover {\n",
              "    background-color: var(--hover-bg-color);\n",
              "    box-shadow: 0 1px 2px rgba(60, 64, 67, 0.3), 0 1px 3px 1px rgba(60, 64, 67, 0.15);\n",
              "    fill: var(--button-hover-fill-color);\n",
              "  }\n",
              "\n",
              "  .colab-df-quickchart-complete:disabled,\n",
              "  .colab-df-quickchart-complete:disabled:hover {\n",
              "    background-color: var(--disabled-bg-color);\n",
              "    fill: var(--disabled-fill-color);\n",
              "    box-shadow: none;\n",
              "  }\n",
              "\n",
              "  .colab-df-spinner {\n",
              "    border: 2px solid var(--fill-color);\n",
              "    border-color: transparent;\n",
              "    border-bottom-color: var(--fill-color);\n",
              "    animation:\n",
              "      spin 1s steps(1) infinite;\n",
              "  }\n",
              "\n",
              "  @keyframes spin {\n",
              "    0% {\n",
              "      border-color: transparent;\n",
              "      border-bottom-color: var(--fill-color);\n",
              "      border-left-color: var(--fill-color);\n",
              "    }\n",
              "    20% {\n",
              "      border-color: transparent;\n",
              "      border-left-color: var(--fill-color);\n",
              "      border-top-color: var(--fill-color);\n",
              "    }\n",
              "    30% {\n",
              "      border-color: transparent;\n",
              "      border-left-color: var(--fill-color);\n",
              "      border-top-color: var(--fill-color);\n",
              "      border-right-color: var(--fill-color);\n",
              "    }\n",
              "    40% {\n",
              "      border-color: transparent;\n",
              "      border-right-color: var(--fill-color);\n",
              "      border-top-color: var(--fill-color);\n",
              "    }\n",
              "    60% {\n",
              "      border-color: transparent;\n",
              "      border-right-color: var(--fill-color);\n",
              "    }\n",
              "    80% {\n",
              "      border-color: transparent;\n",
              "      border-right-color: var(--fill-color);\n",
              "      border-bottom-color: var(--fill-color);\n",
              "    }\n",
              "    90% {\n",
              "      border-color: transparent;\n",
              "      border-bottom-color: var(--fill-color);\n",
              "    }\n",
              "  }\n",
              "</style>\n",
              "\n",
              "  <script>\n",
              "    async function quickchart(key) {\n",
              "      const quickchartButtonEl =\n",
              "        document.querySelector('#' + key + ' button');\n",
              "      quickchartButtonEl.disabled = true;  // To prevent multiple clicks.\n",
              "      quickchartButtonEl.classList.add('colab-df-spinner');\n",
              "      try {\n",
              "        const charts = await google.colab.kernel.invokeFunction(\n",
              "            'suggestCharts', [key], {});\n",
              "      } catch (error) {\n",
              "        console.error('Error during call to suggestCharts:', error);\n",
              "      }\n",
              "      quickchartButtonEl.classList.remove('colab-df-spinner');\n",
              "      quickchartButtonEl.classList.add('colab-df-quickchart-complete');\n",
              "    }\n",
              "    (() => {\n",
              "      let quickchartButtonEl =\n",
              "        document.querySelector('#df-586698ed-2452-4ac9-879d-bb8666dd0a66 button');\n",
              "      quickchartButtonEl.style.display =\n",
              "        google.colab.kernel.accessAllowed ? 'block' : 'none';\n",
              "    })();\n",
              "  </script>\n",
              "</div>\n",
              "\n",
              "    </div>\n",
              "  </div>\n"
            ],
            "application/vnd.google.colaboratory.intrinsic+json": {
              "type": "dataframe",
              "summary": "{\n  \"name\": \"df[df['Recommendation']==1]\",\n  \"rows\": 205,\n  \"fields\": [\n    {\n      \"column\": \"Dress_ID\",\n      \"properties\": {\n        \"dtype\": \"number\",\n        \"std\": 179492356,\n        \"min\": 123456789,\n        \"max\": 1250787559,\n        \"num_unique_values\": 205,\n        \"samples\": [\n          801861988,\n          840516484,\n          1107279894\n        ],\n        \"semantic_type\": \"\",\n        \"description\": \"\"\n      }\n    },\n    {\n      \"column\": \"Style\",\n      \"properties\": {\n        \"dtype\": \"category\",\n        \"num_unique_values\": 10,\n        \"samples\": [\n          \"party\",\n          \"Brief\",\n          \"vintage\"\n        ],\n        \"semantic_type\": \"\",\n        \"description\": \"\"\n      }\n    },\n    {\n      \"column\": \"Price\",\n      \"properties\": {\n        \"dtype\": \"category\",\n        \"num_unique_values\": 5,\n        \"samples\": [\n          \"Average\",\n          \"Very-High\",\n          \"Medium\"\n        ],\n        \"semantic_type\": \"\",\n        \"description\": \"\"\n      }\n    },\n    {\n      \"column\": \"Rating\",\n      \"properties\": {\n        \"dtype\": \"number\",\n        \"std\": 1.982904337739352,\n        \"min\": 0.0,\n        \"max\": 5.0,\n        \"num_unique_values\": 14,\n        \"samples\": [\n          3.6,\n          4.1,\n          4.6\n        ],\n        \"semantic_type\": \"\",\n        \"description\": \"\"\n      }\n    },\n    {\n      \"column\": \"Size\",\n      \"properties\": {\n        \"dtype\": \"category\",\n        \"num_unique_values\": 5,\n        \"samples\": [\n          \"Large\",\n          \"Extra large\",\n          \"Free\"\n        ],\n        \"semantic_type\": \"\",\n        \"description\": \"\"\n      }\n    },\n    {\n      \"column\": \"Season\",\n      \"properties\": {\n        \"dtype\": \"category\",\n        \"num_unique_values\": 4,\n        \"samples\": [\n          \"Spring\",\n          \"Autumn\",\n          \"Summer\"\n        ],\n        \"semantic_type\": \"\",\n        \"description\": \"\"\n      }\n    },\n    {\n      \"column\": \"NeckLine\",\n      \"properties\": {\n        \"dtype\": \"category\",\n        \"num_unique_values\": 7,\n        \"samples\": [\n          \"o-neck\",\n          \"v-neck\",\n          \"Other\"\n        ],\n        \"semantic_type\": \"\",\n        \"description\": \"\"\n      }\n    },\n    {\n      \"column\": \"SleeveLength\",\n      \"properties\": {\n        \"dtype\": \"category\",\n        \"num_unique_values\": 6,\n        \"samples\": [\n          \"sleevless\",\n          \"full\",\n          \"Other\"\n        ],\n        \"semantic_type\": \"\",\n        \"description\": \"\"\n      }\n    },\n    {\n      \"column\": \"Material\",\n      \"properties\": {\n        \"dtype\": \"category\",\n        \"num_unique_values\": 10,\n        \"samples\": [\n          \"Other\",\n          \"silk\",\n          \"polyster\"\n        ],\n        \"semantic_type\": \"\",\n        \"description\": \"\"\n      }\n    },\n    {\n      \"column\": \"FabricType\",\n      \"properties\": {\n        \"dtype\": \"category\",\n        \"num_unique_values\": 6,\n        \"samples\": [\n          \"chiffon\",\n          \"broadcloth\",\n          \"shiffon\"\n        ],\n        \"semantic_type\": \"\",\n        \"description\": \"\"\n      }\n    },\n    {\n      \"column\": \"Decoration\",\n      \"properties\": {\n        \"dtype\": \"category\",\n        \"num_unique_values\": 10,\n        \"samples\": [\n          \"applique\",\n          \"embroidary\",\n          \"hollowout\"\n        ],\n        \"semantic_type\": \"\",\n        \"description\": \"\"\n      }\n    },\n    {\n      \"column\": \"Pattern Type\",\n      \"properties\": {\n        \"dtype\": \"category\",\n        \"num_unique_values\": 9,\n        \"samples\": [\n          \"striped\",\n          \"print\",\n          \"geometric\"\n        ],\n        \"semantic_type\": \"\",\n        \"description\": \"\"\n      }\n    },\n    {\n      \"column\": \"Recommendation\",\n      \"properties\": {\n        \"dtype\": \"number\",\n        \"std\": 0,\n        \"min\": 1,\n        \"max\": 1,\n        \"num_unique_values\": 1,\n        \"samples\": [\n          1\n        ],\n        \"semantic_type\": \"\",\n        \"description\": \"\"\n      }\n    },\n    {\n      \"column\": \"summer\",\n      \"properties\": {\n        \"dtype\": \"number\",\n        \"std\": 3336.8204105871146,\n        \"min\": 2.0,\n        \"max\": 35577.0,\n        \"num_unique_values\": 179,\n        \"samples\": [\n          585.0\n        ],\n        \"semantic_type\": \"\",\n        \"description\": \"\"\n      }\n    },\n    {\n      \"column\": \"autumn\",\n      \"properties\": {\n        \"dtype\": \"number\",\n        \"std\": 5616.234454057804,\n        \"min\": 1.0,\n        \"max\": 55532.0,\n        \"num_unique_values\": 192,\n        \"samples\": [\n          2013.0\n        ],\n        \"semantic_type\": \"\",\n        \"description\": \"\"\n      }\n    },\n    {\n      \"column\": \"winter\",\n      \"properties\": {\n        \"dtype\": \"number\",\n        \"std\": 2069.8628011168166,\n        \"min\": 0.0,\n        \"max\": 20388.0,\n        \"num_unique_values\": 180,\n        \"samples\": [\n          774.0\n        ],\n        \"semantic_type\": \"\",\n        \"description\": \"\"\n      }\n    },\n    {\n      \"column\": \"spring\",\n      \"properties\": {\n        \"dtype\": \"number\",\n        \"std\": 670.1394288065197,\n        \"min\": 1.0,\n        \"max\": 7374.0,\n        \"num_unique_values\": 146,\n        \"samples\": [\n          1890.0\n        ],\n        \"semantic_type\": \"\",\n        \"description\": \"\"\n      }\n    },\n    {\n      \"column\": \"all_seasons\",\n      \"properties\": {\n        \"dtype\": \"number\",\n        \"std\": 11666.46439504166,\n        \"min\": 4.0,\n        \"max\": 118871.0,\n        \"num_unique_values\": 197,\n        \"samples\": [\n          796.0\n        ],\n        \"semantic_type\": \"\",\n        \"description\": \"\"\n      }\n    }\n  ]\n}"
            }
          },
          "metadata": {},
          "execution_count": 88
        }
      ]
    },
    {
      "cell_type": "code",
      "execution_count": 89,
      "metadata": {
        "id": "u3CiFxGgj7Yq",
        "colab": {
          "base_uri": "https://localhost:8080/"
        },
        "outputId": "c2f3f449-4157-4084-94f7-a7098193622a"
      },
      "outputs": [
        {
          "output_type": "execute_result",
          "data": {
            "text/plain": [
              "1435.1512195121952"
            ]
          },
          "metadata": {},
          "execution_count": 89
        }
      ],
      "source": [
        "# Summer sale vs Recommendation.\n",
        "df[df['Recommendation']==1]['summer'].mean()"
      ]
    },
    {
      "cell_type": "code",
      "execution_count": 90,
      "metadata": {
        "id": "m8wvxYzqj7Yq",
        "colab": {
          "base_uri": "https://localhost:8080/"
        },
        "outputId": "e9db8434-66b7-4fbd-d6e0-3335cd2e154f"
      },
      "outputs": [
        {
          "output_type": "execute_result",
          "data": {
            "text/plain": [
              "297.22926829268295"
            ]
          },
          "metadata": {},
          "execution_count": 90
        }
      ],
      "source": [
        "# Spring sale vs Recommendation.\n",
        "df[df['Recommendation']==1]['spring'].mean()"
      ]
    },
    {
      "cell_type": "code",
      "execution_count": 91,
      "metadata": {
        "id": "qLDietEFj7Yq",
        "colab": {
          "base_uri": "https://localhost:8080/"
        },
        "outputId": "f049ff60-a89c-42f5-e7ab-af8827138c38"
      },
      "outputs": [
        {
          "output_type": "execute_result",
          "data": {
            "text/plain": [
              "2806.5658536585365"
            ]
          },
          "metadata": {},
          "execution_count": 91
        }
      ],
      "source": [
        "# Autumn sale vs Recommendation.\n",
        "df[df['Recommendation']==1]['autumn'].mean()"
      ]
    },
    {
      "cell_type": "code",
      "execution_count": 92,
      "metadata": {
        "id": "srZkPXaZj7Yq",
        "colab": {
          "base_uri": "https://localhost:8080/"
        },
        "outputId": "2c99747f-a51b-40cd-f268-55fdd4f43ba0"
      },
      "outputs": [
        {
          "output_type": "execute_result",
          "data": {
            "text/plain": [
              "979.4780487804878"
            ]
          },
          "metadata": {},
          "execution_count": 92
        }
      ],
      "source": [
        "# Winter sale vs Recommendation.\n",
        "df[df['Recommendation']==1]['winter'].mean()"
      ]
    },
    {
      "cell_type": "markdown",
      "metadata": {
        "id": "HVzSqU5uj7Yq"
      },
      "source": [
        "### Categorical categorical bivariate analysis\n"
      ]
    },
    {
      "cell_type": "markdown",
      "metadata": {
        "id": "ekzQC-xvj7Yq"
      },
      "source": [
        "Which of the following size categories has the highest positive recommendations?\n",
        "- Medium and extra large\n",
        "- Extra large and small\n",
        "- Free and small\n",
        "- Free and medium\n"
      ]
    },
    {
      "cell_type": "code",
      "execution_count": 94,
      "metadata": {
        "id": "NgmOXjzmj7Yq",
        "colab": {
          "base_uri": "https://localhost:8080/"
        },
        "outputId": "df8fcd50-4fe9-4445-8491-fec9694088fc"
      },
      "outputs": [
        {
          "output_type": "execute_result",
          "data": {
            "text/plain": [
              "Size\n",
              "Extra large     4\n",
              "Small          13\n",
              "Large          36\n",
              "Free           76\n",
              "Medium         76\n",
              "Name: 1, dtype: int64"
            ]
          },
          "metadata": {},
          "execution_count": 94
        }
      ],
      "source": [
        "# Size vs Recommendation.\n",
        "pd.pivot_table(df,index=['Size'],columns='Recommendation',values=['Dress_ID'],aggfunc='count')['Dress_ID'][1].sort_values()"
      ]
    },
    {
      "cell_type": "markdown",
      "metadata": {
        "id": "QOBks3vYj7Yq"
      },
      "source": [
        "### Multivariate analysis"
      ]
    },
    {
      "cell_type": "markdown",
      "metadata": {
        "id": "kOtgHlx1j7Yr"
      },
      "source": [
        "Which of the following pair of “Style” and “Price” category has the highest average of positive recommendations?\n",
        "- Price: medium and style: vintage\n",
        "- Price: medium and style: cute\n",
        "- Price: very high and style: party\n",
        "- Price: low and style: sexy\n"
      ]
    },
    {
      "cell_type": "code",
      "execution_count": 95,
      "metadata": {
        "id": "64FgdAEHj7Yr",
        "colab": {
          "base_uri": "https://localhost:8080/"
        },
        "outputId": "8a422d21-d125-4e57-bb8c-d43d89e7acda"
      },
      "outputs": [
        {
          "output_type": "execute_result",
          "data": {
            "text/plain": [
              "Style     Price    \n",
              "cute      Medium       1.000000\n",
              "bohemian  Very-High    1.000000\n",
              "          Medium       1.000000\n",
              "party     Very-High    0.823529\n",
              "          Medium       0.800000\n",
              "sexy      Low          0.750000\n",
              "party     Average      0.700000\n",
              "Casual    High         0.666667\n",
              "cute      High         0.666667\n",
              "Casual    Medium       0.666667\n",
              "bohemian  Low          0.666667\n",
              "Sexy      Low          0.515152\n",
              "vintage   Medium       0.500000\n",
              "sexy      Average      0.500000\n",
              "Other     Medium       0.500000\n",
              "Casual    Very-High    0.500000\n",
              "cute      Low          0.500000\n",
              "Casual    Low          0.382022\n",
              "cute      Average      0.380952\n",
              "Other     Average      0.375000\n",
              "vintage   Average      0.352941\n",
              "Casual    Average      0.345455\n",
              "Sexy      Average      0.344828\n",
              "Brief     Average      0.333333\n",
              "party     High         0.333333\n",
              "bohemian  Average      0.333333\n",
              "vintage   Low          0.250000\n",
              "work      Average      0.214286\n",
              "Brief     Low          0.000000\n",
              "Sexy      Very-High    0.000000\n",
              "sexy      Medium       0.000000\n",
              "Sexy      Medium       0.000000\n",
              "vintage   High         0.000000\n",
              "Sexy      High         0.000000\n",
              "work      Low          0.000000\n",
              "          Medium       0.000000\n",
              "Name: Recommendation, dtype: float64"
            ]
          },
          "metadata": {},
          "execution_count": 95
        }
      ],
      "source": [
        "# plot the heat map of Style, price and Recommendation.\n",
        "df.groupby([\"Style\",\"Price\"])[\"Recommendation\"].mean().sort_values(ascending=False)"
      ]
    },
    {
      "cell_type": "markdown",
      "metadata": {
        "id": "MHlefi5sj7Yr"
      },
      "source": [
        "Which of the following material type has no recommendation in summer and winter seasons?\n",
        "- Mix and Milksilk\n",
        "- Nylon and Rayon\n",
        "- Microfiber and Silk\n",
        "- Milksilk and Microfiber\n"
      ]
    },
    {
      "cell_type": "code",
      "execution_count": 96,
      "metadata": {
        "id": "z8wUPRgtj7Ys",
        "colab": {
          "base_uri": "https://localhost:8080/",
          "height": 237
        },
        "outputId": "3eef32aa-a34b-4245-9ce4-b4496970a21f"
      },
      "outputs": [
        {
          "output_type": "execute_result",
          "data": {
            "text/plain": [
              "        Material  Season  Recommendation\n",
              "3           silk  Summer             0.0\n",
              "4       milksilk  Summer             0.0\n",
              "5     microfiber  Winter             0.0\n",
              "6     microfiber  Summer             0.0\n",
              "7       milksilk  Winter             0.0\n",
              "8  chiffonfabric  Winter             0.0"
            ],
            "text/html": [
              "\n",
              "  <div id=\"df-f185ab65-7769-4537-a128-15215292a990\" class=\"colab-df-container\">\n",
              "    <div>\n",
              "<style scoped>\n",
              "    .dataframe tbody tr th:only-of-type {\n",
              "        vertical-align: middle;\n",
              "    }\n",
              "\n",
              "    .dataframe tbody tr th {\n",
              "        vertical-align: top;\n",
              "    }\n",
              "\n",
              "    .dataframe thead th {\n",
              "        text-align: right;\n",
              "    }\n",
              "</style>\n",
              "<table border=\"1\" class=\"dataframe\">\n",
              "  <thead>\n",
              "    <tr style=\"text-align: right;\">\n",
              "      <th></th>\n",
              "      <th>Material</th>\n",
              "      <th>Season</th>\n",
              "      <th>Recommendation</th>\n",
              "    </tr>\n",
              "  </thead>\n",
              "  <tbody>\n",
              "    <tr>\n",
              "      <th>3</th>\n",
              "      <td>silk</td>\n",
              "      <td>Summer</td>\n",
              "      <td>0.0</td>\n",
              "    </tr>\n",
              "    <tr>\n",
              "      <th>4</th>\n",
              "      <td>milksilk</td>\n",
              "      <td>Summer</td>\n",
              "      <td>0.0</td>\n",
              "    </tr>\n",
              "    <tr>\n",
              "      <th>5</th>\n",
              "      <td>microfiber</td>\n",
              "      <td>Winter</td>\n",
              "      <td>0.0</td>\n",
              "    </tr>\n",
              "    <tr>\n",
              "      <th>6</th>\n",
              "      <td>microfiber</td>\n",
              "      <td>Summer</td>\n",
              "      <td>0.0</td>\n",
              "    </tr>\n",
              "    <tr>\n",
              "      <th>7</th>\n",
              "      <td>milksilk</td>\n",
              "      <td>Winter</td>\n",
              "      <td>0.0</td>\n",
              "    </tr>\n",
              "    <tr>\n",
              "      <th>8</th>\n",
              "      <td>chiffonfabric</td>\n",
              "      <td>Winter</td>\n",
              "      <td>0.0</td>\n",
              "    </tr>\n",
              "  </tbody>\n",
              "</table>\n",
              "</div>\n",
              "    <div class=\"colab-df-buttons\">\n",
              "\n",
              "  <div class=\"colab-df-container\">\n",
              "    <button class=\"colab-df-convert\" onclick=\"convertToInteractive('df-f185ab65-7769-4537-a128-15215292a990')\"\n",
              "            title=\"Convert this dataframe to an interactive table.\"\n",
              "            style=\"display:none;\">\n",
              "\n",
              "  <svg xmlns=\"http://www.w3.org/2000/svg\" height=\"24px\" viewBox=\"0 -960 960 960\">\n",
              "    <path d=\"M120-120v-720h720v720H120Zm60-500h600v-160H180v160Zm220 220h160v-160H400v160Zm0 220h160v-160H400v160ZM180-400h160v-160H180v160Zm440 0h160v-160H620v160ZM180-180h160v-160H180v160Zm440 0h160v-160H620v160Z\"/>\n",
              "  </svg>\n",
              "    </button>\n",
              "\n",
              "  <style>\n",
              "    .colab-df-container {\n",
              "      display:flex;\n",
              "      gap: 12px;\n",
              "    }\n",
              "\n",
              "    .colab-df-convert {\n",
              "      background-color: #E8F0FE;\n",
              "      border: none;\n",
              "      border-radius: 50%;\n",
              "      cursor: pointer;\n",
              "      display: none;\n",
              "      fill: #1967D2;\n",
              "      height: 32px;\n",
              "      padding: 0 0 0 0;\n",
              "      width: 32px;\n",
              "    }\n",
              "\n",
              "    .colab-df-convert:hover {\n",
              "      background-color: #E2EBFA;\n",
              "      box-shadow: 0px 1px 2px rgba(60, 64, 67, 0.3), 0px 1px 3px 1px rgba(60, 64, 67, 0.15);\n",
              "      fill: #174EA6;\n",
              "    }\n",
              "\n",
              "    .colab-df-buttons div {\n",
              "      margin-bottom: 4px;\n",
              "    }\n",
              "\n",
              "    [theme=dark] .colab-df-convert {\n",
              "      background-color: #3B4455;\n",
              "      fill: #D2E3FC;\n",
              "    }\n",
              "\n",
              "    [theme=dark] .colab-df-convert:hover {\n",
              "      background-color: #434B5C;\n",
              "      box-shadow: 0px 1px 3px 1px rgba(0, 0, 0, 0.15);\n",
              "      filter: drop-shadow(0px 1px 2px rgba(0, 0, 0, 0.3));\n",
              "      fill: #FFFFFF;\n",
              "    }\n",
              "  </style>\n",
              "\n",
              "    <script>\n",
              "      const buttonEl =\n",
              "        document.querySelector('#df-f185ab65-7769-4537-a128-15215292a990 button.colab-df-convert');\n",
              "      buttonEl.style.display =\n",
              "        google.colab.kernel.accessAllowed ? 'block' : 'none';\n",
              "\n",
              "      async function convertToInteractive(key) {\n",
              "        const element = document.querySelector('#df-f185ab65-7769-4537-a128-15215292a990');\n",
              "        const dataTable =\n",
              "          await google.colab.kernel.invokeFunction('convertToInteractive',\n",
              "                                                    [key], {});\n",
              "        if (!dataTable) return;\n",
              "\n",
              "        const docLinkHtml = 'Like what you see? Visit the ' +\n",
              "          '<a target=\"_blank\" href=https://colab.research.google.com/notebooks/data_table.ipynb>data table notebook</a>'\n",
              "          + ' to learn more about interactive tables.';\n",
              "        element.innerHTML = '';\n",
              "        dataTable['output_type'] = 'display_data';\n",
              "        await google.colab.output.renderOutput(dataTable, element);\n",
              "        const docLink = document.createElement('div');\n",
              "        docLink.innerHTML = docLinkHtml;\n",
              "        element.appendChild(docLink);\n",
              "      }\n",
              "    </script>\n",
              "  </div>\n",
              "\n",
              "\n",
              "<div id=\"df-9ce48820-a89b-4aa0-bd20-0ad1f9c894e2\">\n",
              "  <button class=\"colab-df-quickchart\" onclick=\"quickchart('df-9ce48820-a89b-4aa0-bd20-0ad1f9c894e2')\"\n",
              "            title=\"Suggest charts\"\n",
              "            style=\"display:none;\">\n",
              "\n",
              "<svg xmlns=\"http://www.w3.org/2000/svg\" height=\"24px\"viewBox=\"0 0 24 24\"\n",
              "     width=\"24px\">\n",
              "    <g>\n",
              "        <path d=\"M19 3H5c-1.1 0-2 .9-2 2v14c0 1.1.9 2 2 2h14c1.1 0 2-.9 2-2V5c0-1.1-.9-2-2-2zM9 17H7v-7h2v7zm4 0h-2V7h2v10zm4 0h-2v-4h2v4z\"/>\n",
              "    </g>\n",
              "</svg>\n",
              "  </button>\n",
              "\n",
              "<style>\n",
              "  .colab-df-quickchart {\n",
              "      --bg-color: #E8F0FE;\n",
              "      --fill-color: #1967D2;\n",
              "      --hover-bg-color: #E2EBFA;\n",
              "      --hover-fill-color: #174EA6;\n",
              "      --disabled-fill-color: #AAA;\n",
              "      --disabled-bg-color: #DDD;\n",
              "  }\n",
              "\n",
              "  [theme=dark] .colab-df-quickchart {\n",
              "      --bg-color: #3B4455;\n",
              "      --fill-color: #D2E3FC;\n",
              "      --hover-bg-color: #434B5C;\n",
              "      --hover-fill-color: #FFFFFF;\n",
              "      --disabled-bg-color: #3B4455;\n",
              "      --disabled-fill-color: #666;\n",
              "  }\n",
              "\n",
              "  .colab-df-quickchart {\n",
              "    background-color: var(--bg-color);\n",
              "    border: none;\n",
              "    border-radius: 50%;\n",
              "    cursor: pointer;\n",
              "    display: none;\n",
              "    fill: var(--fill-color);\n",
              "    height: 32px;\n",
              "    padding: 0;\n",
              "    width: 32px;\n",
              "  }\n",
              "\n",
              "  .colab-df-quickchart:hover {\n",
              "    background-color: var(--hover-bg-color);\n",
              "    box-shadow: 0 1px 2px rgba(60, 64, 67, 0.3), 0 1px 3px 1px rgba(60, 64, 67, 0.15);\n",
              "    fill: var(--button-hover-fill-color);\n",
              "  }\n",
              "\n",
              "  .colab-df-quickchart-complete:disabled,\n",
              "  .colab-df-quickchart-complete:disabled:hover {\n",
              "    background-color: var(--disabled-bg-color);\n",
              "    fill: var(--disabled-fill-color);\n",
              "    box-shadow: none;\n",
              "  }\n",
              "\n",
              "  .colab-df-spinner {\n",
              "    border: 2px solid var(--fill-color);\n",
              "    border-color: transparent;\n",
              "    border-bottom-color: var(--fill-color);\n",
              "    animation:\n",
              "      spin 1s steps(1) infinite;\n",
              "  }\n",
              "\n",
              "  @keyframes spin {\n",
              "    0% {\n",
              "      border-color: transparent;\n",
              "      border-bottom-color: var(--fill-color);\n",
              "      border-left-color: var(--fill-color);\n",
              "    }\n",
              "    20% {\n",
              "      border-color: transparent;\n",
              "      border-left-color: var(--fill-color);\n",
              "      border-top-color: var(--fill-color);\n",
              "    }\n",
              "    30% {\n",
              "      border-color: transparent;\n",
              "      border-left-color: var(--fill-color);\n",
              "      border-top-color: var(--fill-color);\n",
              "      border-right-color: var(--fill-color);\n",
              "    }\n",
              "    40% {\n",
              "      border-color: transparent;\n",
              "      border-right-color: var(--fill-color);\n",
              "      border-top-color: var(--fill-color);\n",
              "    }\n",
              "    60% {\n",
              "      border-color: transparent;\n",
              "      border-right-color: var(--fill-color);\n",
              "    }\n",
              "    80% {\n",
              "      border-color: transparent;\n",
              "      border-right-color: var(--fill-color);\n",
              "      border-bottom-color: var(--fill-color);\n",
              "    }\n",
              "    90% {\n",
              "      border-color: transparent;\n",
              "      border-bottom-color: var(--fill-color);\n",
              "    }\n",
              "  }\n",
              "</style>\n",
              "\n",
              "  <script>\n",
              "    async function quickchart(key) {\n",
              "      const quickchartButtonEl =\n",
              "        document.querySelector('#' + key + ' button');\n",
              "      quickchartButtonEl.disabled = true;  // To prevent multiple clicks.\n",
              "      quickchartButtonEl.classList.add('colab-df-spinner');\n",
              "      try {\n",
              "        const charts = await google.colab.kernel.invokeFunction(\n",
              "            'suggestCharts', [key], {});\n",
              "      } catch (error) {\n",
              "        console.error('Error during call to suggestCharts:', error);\n",
              "      }\n",
              "      quickchartButtonEl.classList.remove('colab-df-spinner');\n",
              "      quickchartButtonEl.classList.add('colab-df-quickchart-complete');\n",
              "    }\n",
              "    (() => {\n",
              "      let quickchartButtonEl =\n",
              "        document.querySelector('#df-9ce48820-a89b-4aa0-bd20-0ad1f9c894e2 button');\n",
              "      quickchartButtonEl.style.display =\n",
              "        google.colab.kernel.accessAllowed ? 'block' : 'none';\n",
              "    })();\n",
              "  </script>\n",
              "</div>\n",
              "\n",
              "    </div>\n",
              "  </div>\n"
            ],
            "application/vnd.google.colaboratory.intrinsic+json": {
              "type": "dataframe",
              "summary": "{\n  \"name\": \"table[(table\",\n  \"rows\": 6,\n  \"fields\": [\n    {\n      \"column\": \"Material\",\n      \"properties\": {\n        \"dtype\": \"string\",\n        \"num_unique_values\": 4,\n        \"samples\": [\n          \"milksilk\",\n          \"chiffonfabric\",\n          \"silk\"\n        ],\n        \"semantic_type\": \"\",\n        \"description\": \"\"\n      }\n    },\n    {\n      \"column\": \"Season\",\n      \"properties\": {\n        \"dtype\": \"category\",\n        \"num_unique_values\": 2,\n        \"samples\": [\n          \"Winter\",\n          \"Summer\"\n        ],\n        \"semantic_type\": \"\",\n        \"description\": \"\"\n      }\n    },\n    {\n      \"column\": \"Recommendation\",\n      \"properties\": {\n        \"dtype\": \"number\",\n        \"std\": 0.0,\n        \"min\": 0.0,\n        \"max\": 0.0,\n        \"num_unique_values\": 1,\n        \"samples\": [\n          0.0\n        ],\n        \"semantic_type\": \"\",\n        \"description\": \"\"\n      }\n    }\n  ]\n}"
            }
          },
          "metadata": {},
          "execution_count": 96
        }
      ],
      "source": [
        "# plot the heat map of Season, material and Recommendation.\n",
        "table=df.groupby([\"Material\",\"Season\"])[\"Recommendation\"].mean().sort_values().reset_index()\n",
        "table[(table.Recommendation == 0)&(table.Season.isin([\"Summer\",\"Winter\"]))]"
      ]
    }
  ],
  "metadata": {
    "kernelspec": {
      "display_name": "Python 3",
      "language": "python",
      "name": "python3"
    },
    "language_info": {
      "codemirror_mode": {
        "name": "ipython",
        "version": 3
      },
      "file_extension": ".py",
      "mimetype": "text/x-python",
      "name": "python",
      "nbconvert_exporter": "python",
      "pygments_lexer": "ipython3",
      "version": "3.7.3"
    },
    "colab": {
      "provenance": [],
      "include_colab_link": true
    }
  },
  "nbformat": 4,
  "nbformat_minor": 0
}